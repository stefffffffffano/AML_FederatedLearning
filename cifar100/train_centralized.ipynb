{
 "cells": [
  {
   "cell_type": "code",
   "execution_count": 35,
   "metadata": {},
   "outputs": [],
   "source": [
    "import torch\n",
    "import torch.optim as optim\n",
    "import torch.nn as nn\n",
    "from torch.backends import cudnn\n",
    "\n",
    "from copy import deepcopy\n",
    "import numpy as np\n",
    "\n",
    "import sys\n",
    "sys.path.append('../data/cifar100/')  \n",
    "from cifar100_loader import CIFAR100DataLoader\n",
    "from models.model import LeNet5 #import the model\n",
    "from utils.utils import evaluate"
   ]
  },
  {
   "cell_type": "markdown",
   "metadata": {},
   "source": [
    "# Constants"
   ]
  },
  {
   "cell_type": "code",
   "execution_count": 36,
   "metadata": {},
   "outputs": [
    {
     "name": "stdout",
     "output_type": "stream",
     "text": [
      "cuda\n"
     ]
    }
   ],
   "source": [
    "DEVICE = 'cuda' if torch.cuda.is_available() else 'cpu'  # Check whether a GPU is available and if so, use it\n",
    "print(DEVICE)\n",
    "#Momentum and batch size have not been tuned\n",
    "BATCH_SIZE = 64    # Higher batch sizes allows for larger learning rates. An empirical heuristic suggests that, when changing\n",
    "                     # the batch size, learning rate should change by the same factor to have comparable results\n",
    "MOMENTUM = 0.9       # Hyperparameter for SGD, keep this at 0.9 when using SGD\n"
   ]
  },
  {
   "cell_type": "markdown",
   "metadata": {},
   "source": [
    "# Data loading"
   ]
  },
  {
   "cell_type": "code",
   "execution_count": 37,
   "metadata": {},
   "outputs": [
    {
     "name": "stdout",
     "output_type": "stream",
     "text": [
      "Files already downloaded and verified\n",
      "Files already downloaded and verified\n",
      "Files already downloaded and verified\n"
     ]
    }
   ],
   "source": [
    "#10% of the dataset kept for validation\n",
    "data_loader = CIFAR100DataLoader(batch_size=32, validation_split=0.1, download=True, num_workers=4, pin_memory=True)\n",
    "trainloader, validloader, testloader = data_loader.train_loader, data_loader.val_loader, data_loader.test_loader\n",
    "#The previous function has been verified to ensure that the distribution among classes\n",
    "#is preserved in the training and validation sets"
   ]
  },
  {
   "cell_type": "markdown",
   "metadata": {},
   "source": [
    "# Prepare training"
   ]
  },
  {
   "cell_type": "code",
   "execution_count": 38,
   "metadata": {},
   "outputs": [],
   "source": [
    "#Modified version of LeNet5 to work with CIFAR100, paper cited in model.py\n",
    "model = LeNet5().to(DEVICE) # Create the model\n",
    "# Define loss function -> softmax used by the model, It doesn't make sense to use the CrossqEntropyLoss\n",
    "criterion = nn.NLLLoss()"
   ]
  },
  {
   "cell_type": "markdown",
   "metadata": {},
   "source": [
    "# Schedulers\n",
    "List of schedulers to be experimented "
   ]
  },
  {
   "cell_type": "code",
   "execution_count": 39,
   "metadata": {},
   "outputs": [],
   "source": [
    "def get_scheduler_factory(num_epochs):\n",
    "    \"\"\"\n",
    "    Return a set of predefined learning rate scheduler factories with reasonable parameters.\n",
    "\n",
    "    Args:\n",
    "        num_epochs (int): Total number of epochs.\n",
    "\n",
    "    Returns:\n",
    "        list: List of tuples with scheduler names and factory functions.\n",
    "    \"\"\"\n",
    "    schedulers = [\n",
    "        # StepLR\n",
    "        (\"StepLR (step_size=num_epochs//3, gamma=0.1)\",\n",
    "         lambda optimizer: torch.optim.lr_scheduler.StepLR(optimizer, step_size=num_epochs // 3, gamma=0.1)),\n",
    "\n",
    "        # CosineAnnealingLR\n",
    "        (\"CosineAnnealingLR (T_max=num_epochs//3, eta_min=1e-4)\",\n",
    "         lambda optimizer: torch.optim.lr_scheduler.CosineAnnealingLR(optimizer, T_max=num_epochs // 3, eta_min=1e-4)),\n",
    "\n",
    "        # ExponentialLR\n",
    "        (\"ExponentialLR (gamma=0.9)\",\n",
    "         lambda optimizer: torch.optim.lr_scheduler.ExponentialLR(optimizer, gamma=0.9)),\n",
    "    ]\n",
    "    return schedulers\n"
   ]
  },
  {
   "cell_type": "markdown",
   "metadata": {},
   "source": [
    "# Training loop"
   ]
  },
  {
   "cell_type": "code",
   "execution_count": 56,
   "metadata": {},
   "outputs": [],
   "source": [
    "def train(num_epochs, scheduler,optimizer):\n",
    "    val_accuracies = []\n",
    "    val_losses = []\n",
    "    train_accuracies = []\n",
    "    train_losses = []\n",
    "    cudnn.benchmark  # Calling this optimizes runtime\n",
    "\n",
    "    best_val_acc = 0.0  \n",
    "    best_model_state = None  # The model with the best accuracy\n",
    "\n",
    "    # Training loop\n",
    "    for epoch in range(num_epochs): \n",
    "        for data, targets in trainloader:\n",
    "            data = data.to(DEVICE)        # Move the data to the GPU\n",
    "            targets = targets.to(DEVICE)  # Move the targets to the GPU\n",
    "            model.train()                # Set Network to train mode\n",
    "            optimizer.zero_grad()         # Zero the gradients\n",
    "            outputs = model(data)         # Pass data through the model\n",
    "            loss = criterion(outputs, targets)  # Compute loss\n",
    "            loss.backward()               # Backpropagation\n",
    "            optimizer.step()              # Update model parameters\n",
    "\n",
    "        # Evaluate on the training set\n",
    "        train_acc, train_loss = evaluate(model, trainloader)\n",
    "        train_accuracies.append(train_acc)\n",
    "        train_losses.append(train_loss)\n",
    "        \n",
    "        # Evaluate on the validation set\n",
    "        val_acc, val_loss = evaluate(model, validloader)\n",
    "        #print(f'Epoch {epoch+1}, Validation Accuracy: {val_acc*100:.2f}%')\n",
    "        if(epoch%25==0):\n",
    "            print(f'Epoch {epoch+1}, Training Accuracy: {train_acc*100:.2f}%',f'Validation Accuracy: {val_acc*100:.2f}%')\n",
    "        val_accuracies.append(val_acc)\n",
    "        val_losses.append(val_loss)\n",
    "\n",
    "        # Update the best model if validation accuracy improves\n",
    "        if val_acc > best_val_acc:\n",
    "            best_val_acc = val_acc\n",
    "            best_model_state = deepcopy(model.state_dict())  # Save the current model state\n",
    "            #print(f\"New best model found with accuracy: {val_acc*100:.2f}%\")\n",
    "\n",
    "        # Step the scheduler\n",
    "        scheduler.step()\n",
    "        #print(f'Epoch {epoch+1}, Loss: {loss.item()}')\n",
    "\n",
    "    # Alla fine del training, ritorna il miglior modello\n",
    "    model.load_state_dict(best_model_state)\n",
    "    return train_accuracies, train_losses, val_accuracies, val_losses, model\n"
   ]
  },
  {
   "cell_type": "markdown",
   "metadata": {},
   "source": [
    "# Test"
   ]
  },
  {
   "cell_type": "code",
   "execution_count": 42,
   "metadata": {},
   "outputs": [],
   "source": [
    "def test(model, testloader):\n",
    "    \"\"\"\n",
    "    Test the model on the test set.\n",
    "    \"\"\"\n",
    "    accuracy, loss = evaluate(model, testloader)\n",
    "    return accuracy, loss"
   ]
  },
  {
   "cell_type": "markdown",
   "metadata": {},
   "source": [
    "# Hyperparameters tuning"
   ]
  },
  {
   "cell_type": "code",
   "execution_count": 43,
   "metadata": {},
   "outputs": [
    {
     "name": "stdout",
     "output_type": "stream",
     "text": [
      "Learning Rate Values (log-uniform): [0.001 0.01  0.1  ]\n",
      "Weight Decay Values (log-uniform): [0.0001     0.00316228 0.1       ]\n"
     ]
    }
   ],
   "source": [
    "# Generate 4 values for the learning rate (lr) between 1e-4 and 1e-1 in log-uniform\n",
    "learning_rates = np.logspace(-3, -1, num=3)\n",
    "\n",
    "# Generate 4 values for the weight decay (lr) between 1e-4 and 1e-1 in log-uniform\n",
    "weight_decays = np.logspace(-4, -1, num=3)\n",
    "\n",
    "print(\"Learning Rate Values (log-uniform):\", learning_rates)\n",
    "print(\"Weight Decay Values (log-uniform):\", weight_decays)"
   ]
  },
  {
   "cell_type": "code",
   "execution_count": 44,
   "metadata": {},
   "outputs": [
    {
     "name": "stdout",
     "output_type": "stream",
     "text": [
      "Starting the parameter tuning loop...\n",
      "Learning Rate: 0.001, Weight Decay: 0.0001, Scheduler: StepLR (step_size=num_epochs//3, gamma=0.1), Best Validation Accuracy: 10.78%\n",
      "Learning Rate: 0.001, Weight Decay: 0.0001, Scheduler: CosineAnnealingLR (T_max=num_epochs//3, eta_min=1e-4), Best Validation Accuracy: 15.46%\n",
      "Learning Rate: 0.001, Weight Decay: 0.0001, Scheduler: ExponentialLR (gamma=0.9), Best Validation Accuracy: 13.68%\n",
      "Learning Rate: 0.001, Weight Decay: 0.0031622776601683794, Scheduler: StepLR (step_size=num_epochs//3, gamma=0.1), Best Validation Accuracy: 9.92%\n",
      "Learning Rate: 0.001, Weight Decay: 0.0031622776601683794, Scheduler: CosineAnnealingLR (T_max=num_epochs//3, eta_min=1e-4), Best Validation Accuracy: 12.78%\n",
      "Learning Rate: 0.001, Weight Decay: 0.0031622776601683794, Scheduler: ExponentialLR (gamma=0.9), Best Validation Accuracy: 11.88%\n",
      "Learning Rate: 0.001, Weight Decay: 0.1, Scheduler: StepLR (step_size=num_epochs//3, gamma=0.1), Best Validation Accuracy: 1.00%\n",
      "Learning Rate: 0.001, Weight Decay: 0.1, Scheduler: CosineAnnealingLR (T_max=num_epochs//3, eta_min=1e-4), Best Validation Accuracy: 1.00%\n",
      "Learning Rate: 0.001, Weight Decay: 0.1, Scheduler: ExponentialLR (gamma=0.9), Best Validation Accuracy: 1.00%\n",
      "Learning Rate: 0.01, Weight Decay: 0.0001, Scheduler: StepLR (step_size=num_epochs//3, gamma=0.1), Best Validation Accuracy: 31.00%\n",
      "Learning Rate: 0.01, Weight Decay: 0.0001, Scheduler: CosineAnnealingLR (T_max=num_epochs//3, eta_min=1e-4), Best Validation Accuracy: 34.98%\n",
      "Learning Rate: 0.01, Weight Decay: 0.0001, Scheduler: ExponentialLR (gamma=0.9), Best Validation Accuracy: 34.28%\n",
      "Learning Rate: 0.01, Weight Decay: 0.0031622776601683794, Scheduler: StepLR (step_size=num_epochs//3, gamma=0.1), Best Validation Accuracy: 25.80%\n",
      "Learning Rate: 0.01, Weight Decay: 0.0031622776601683794, Scheduler: CosineAnnealingLR (T_max=num_epochs//3, eta_min=1e-4), Best Validation Accuracy: 29.40%\n",
      "Learning Rate: 0.01, Weight Decay: 0.0031622776601683794, Scheduler: ExponentialLR (gamma=0.9), Best Validation Accuracy: 28.66%\n",
      "Learning Rate: 0.01, Weight Decay: 0.1, Scheduler: StepLR (step_size=num_epochs//3, gamma=0.1), Best Validation Accuracy: 1.00%\n",
      "Learning Rate: 0.01, Weight Decay: 0.1, Scheduler: CosineAnnealingLR (T_max=num_epochs//3, eta_min=1e-4), Best Validation Accuracy: 1.00%\n",
      "Learning Rate: 0.01, Weight Decay: 0.1, Scheduler: ExponentialLR (gamma=0.9), Best Validation Accuracy: 1.00%\n",
      "Learning Rate: 0.1, Weight Decay: 0.0001, Scheduler: StepLR (step_size=num_epochs//3, gamma=0.1), Best Validation Accuracy: 4.62%\n",
      "Learning Rate: 0.1, Weight Decay: 0.0001, Scheduler: CosineAnnealingLR (T_max=num_epochs//3, eta_min=1e-4), Best Validation Accuracy: 15.66%\n",
      "Learning Rate: 0.1, Weight Decay: 0.0001, Scheduler: ExponentialLR (gamma=0.9), Best Validation Accuracy: 23.20%\n",
      "Learning Rate: 0.1, Weight Decay: 0.0031622776601683794, Scheduler: StepLR (step_size=num_epochs//3, gamma=0.1), Best Validation Accuracy: 12.84%\n",
      "Learning Rate: 0.1, Weight Decay: 0.0031622776601683794, Scheduler: CosineAnnealingLR (T_max=num_epochs//3, eta_min=1e-4), Best Validation Accuracy: 12.94%\n",
      "Learning Rate: 0.1, Weight Decay: 0.0031622776601683794, Scheduler: ExponentialLR (gamma=0.9), Best Validation Accuracy: 15.30%\n",
      "Learning Rate: 0.1, Weight Decay: 0.1, Scheduler: StepLR (step_size=num_epochs//3, gamma=0.1), Best Validation Accuracy: 1.00%\n",
      "Learning Rate: 0.1, Weight Decay: 0.1, Scheduler: CosineAnnealingLR (T_max=num_epochs//3, eta_min=1e-4), Best Validation Accuracy: 1.00%\n",
      "Learning Rate: 0.1, Weight Decay: 0.1, Scheduler: ExponentialLR (gamma=0.9), Best Validation Accuracy: 1.00%\n",
      "Finished training loop.\n",
      "Best validation accuracy overall: 34.98%\n",
      "Best setting: (0.01, 0.0001, 'CosineAnnealingLR (T_max=num_epochs//3, eta_min=1e-4)')\n"
     ]
    }
   ],
   "source": [
    "num_epochs = 20  # low value for parameter tuning\n",
    "\n",
    "scheduler_factories = get_scheduler_factory(num_epochs)\n",
    "results = []\n",
    "best_validation_accuracy_overall = 0.0\n",
    "best_setting = None\n",
    "print('Starting the parameter tuning loop...')\n",
    "for lr in learning_rates:\n",
    "    for wd in weight_decays:\n",
    "        for scheduler_name, scheduler_factory in scheduler_factories:\n",
    "            # Reset the model\n",
    "            model = LeNet5().to(DEVICE)\n",
    "            # Create the optimizer\n",
    "            optimizer = torch.optim.SGD(model.parameters(), lr=lr, momentum=0.9, weight_decay=wd)\n",
    "            # Create the scheduler\n",
    "            scheduler = scheduler_factory(optimizer)\n",
    "            # Ezecute training\n",
    "            train_accuracies, train_losses, val_accuracies, val_losses, model = train(num_epochs, scheduler,optimizer)\n",
    "            # Print the best validation accuracy\n",
    "            best_val_accuracy = max(val_accuracies)\n",
    "            if best_val_accuracy > best_validation_accuracy_overall:\n",
    "                best_validation_accuracy_overall = best_val_accuracy\n",
    "                best_setting = (lr, wd, scheduler_name)\n",
    "            print(f'Learning Rate: {lr}, Weight Decay: {wd}, Scheduler: {scheduler_name}, Best Validation Accuracy: {best_val_accuracy*100:.2f}%')\n",
    "\n",
    "            results.append({\n",
    "                'learning_rate': lr,\n",
    "                'weight_decay': wd,\n",
    "                'scheduler_name': scheduler_name,\n",
    "                'train_accuracies': train_accuracies,\n",
    "                'train_losses': train_losses,\n",
    "                'val_accuracies': val_accuracies,\n",
    "                'val_losses': val_losses,\n",
    "            })\n",
    "print(\"Finished training loop.\")\n",
    "print(f'Best validation accuracy overall: {best_validation_accuracy_overall*100:.2f}%')\n",
    "print(f'Best setting: {best_setting}')"
   ]
  },
  {
   "cell_type": "markdown",
   "metadata": {},
   "source": [
    "# Plotting and saving results"
   ]
  },
  {
   "cell_type": "code",
   "execution_count": 46,
   "metadata": {},
   "outputs": [
    {
     "name": "stdout",
     "output_type": "stream",
     "text": [
      "Plots saved to directory: ./plots_centralized\n"
     ]
    }
   ],
   "source": [
    "import matplotlib.pyplot as plt\n",
    "import os\n",
    "import re  # Imported module for regular expressions\n",
    "\n",
    "def plot_results(results, save_dir='./plots_centralized'):\n",
    "    \"\"\"\n",
    "    Save plots comparing training accuracy and validation accuracy per epoch for each combination of hyperparameters.\n",
    "\n",
    "    Args:\n",
    "        results (list): List of dictionaries, where each dictionary contains:\n",
    "                        - 'learning_rate': Learning rate used.\n",
    "                        - 'weight_decay': Weight decay used.\n",
    "                        - 'scheduler_name': Name of the scheduler.\n",
    "                        - 'train_accuracies': List of training accuracies.\n",
    "                        - 'val_accuracies': List of validation accuracies.\n",
    "        save_dir (str): Directory where the plots will be saved.\n",
    "    \"\"\"\n",
    "    os.makedirs(save_dir, exist_ok=True)\n",
    "\n",
    "    for res in results:\n",
    "        # Extract hyperparameter values\n",
    "        lr = res['learning_rate']\n",
    "        wd = res['weight_decay']\n",
    "        scheduler_name = res['scheduler_name']\n",
    "\n",
    "        # Clean up the scheduler name for filename compatibility\n",
    "        clean_scheduler_name = re.sub(r\"[^a-zA-Z0-9]\", \"_\", scheduler_name)  # Sostituisce i caratteri non alfanumerici con '_'\n",
    "\n",
    "        # Generate a unique filename prefix for each configuration\n",
    "        file_prefix = f\"LR_{lr}_WD_{wd}_Scheduler_{clean_scheduler_name}\"\n",
    "\n",
    "        # Plot training and validation accuracy per epoch\n",
    "        plt.figure(figsize=(12, 6))\n",
    "        plt.plot(res['train_accuracies'], label='Training Accuracy')\n",
    "        plt.plot(res['val_accuracies'], label='Validation Accuracy')\n",
    "        plt.xlabel('Epoch')\n",
    "        plt.ylabel('Accuracy')\n",
    "        plt.title(f\"Training vs Validation Accuracy (LR={lr}, WD={wd}, Scheduler={scheduler_name})\")\n",
    "        plt.legend()\n",
    "        accuracy_plot_path = os.path.join(save_dir, f\"{file_prefix}_training_vs_validation_accuracy.png\")\n",
    "        plt.savefig(accuracy_plot_path)\n",
    "        plt.close()\n",
    "\n",
    "    print(f\"Plots saved to directory: {save_dir}\")\n",
    "\n",
    "#Plot only the best result \n",
    "filtered_results = [res for res in results if res['learning_rate'] == 0.01 and res['weight_decay'] == 0.0001 and res['scheduler_name']==\"CosineAnnealingLR (T_max=num_epochs//3, eta_min=1e-4)\"]\n",
    "plot_results(filtered_results)"
   ]
  },
  {
   "cell_type": "markdown",
   "metadata": {},
   "source": [
    "# Plot the loss for the results with the learning rate = 0.01 and weight_decay = 0.0001"
   ]
  },
  {
   "cell_type": "code",
   "execution_count": 47,
   "metadata": {},
   "outputs": [
    {
     "name": "stdout",
     "output_type": "stream",
     "text": [
      "[{'learning_rate': 0.01, 'weight_decay': 0.0001, 'scheduler_name': 'StepLR (step_size=num_epochs//3, gamma=0.1)', 'train_accuracies': [0.07022222222222223, 0.10148888888888889, 0.13493333333333332, 0.1486888888888889, 0.18424444444444443, 0.18686666666666665, 0.24844444444444444, 0.25553333333333333, 0.2623333333333333, 0.26564444444444446, 0.26997777777777776, 0.2766888888888889, 0.28313333333333335, 0.28126666666666666, 0.28626666666666667, 0.285, 0.2852, 0.2840888888888889, 0.28373333333333334, 0.2842], 'train_losses': [4.079260090874, 3.854848074303432, 3.6399688774889167, 3.561662811108611, 3.3458335982127623, 3.321057051081549, 3.0226202251558956, 2.9946198239922523, 2.960933529517867, 2.924893818795681, 2.9267217164689843, 2.895441486076875, 2.8584271422164007, 2.860138960182667, 2.8466250513764946, 2.847626496106386, 2.843652806160125, 2.84425750374794, 2.8488633216104726, 2.8411042011258276], 'val_accuracies': [0.0782, 0.1192, 0.1554, 0.1726, 0.2046, 0.2122, 0.2716, 0.2762, 0.2862, 0.283, 0.2876, 0.2982, 0.3052, 0.3068, 0.3088, 0.3074, 0.3078, 0.309, 0.3098, 0.31], 'val_losses': [4.0350241872328745, 3.767832321456716, 3.501463108424899, 3.446080856685397, 3.2458511787124826, 3.201590450504158, 2.900696277618408, 2.8650416482852985, 2.8260761001442054, 2.803907789761507, 2.8048676991764503, 2.7745660166197186, 2.742201418816289, 2.7387911066224304, 2.7368425447729567, 2.736867165263695, 2.7328142274784137, 2.7309711100179936, 2.7270265259320223, 2.7268218179292316]}, {'learning_rate': 0.01, 'weight_decay': 0.0001, 'scheduler_name': 'CosineAnnealingLR (T_max=num_epochs//3, eta_min=1e-4)', 'train_accuracies': [0.06491111111111111, 0.10386666666666666, 0.12844444444444444, 0.16904444444444444, 0.19348888888888888, 0.2089777777777778, 0.21213333333333334, 0.21304444444444445, 0.20146666666666666, 0.20246666666666666, 0.2069777777777778, 0.2169111111111111, 0.2170888888888889, 0.24233333333333335, 0.27042222222222223, 0.2808222222222222, 0.3115777777777778, 0.3281777777777778, 0.3340444444444444, 0.3362222222222222], 'train_losses': [4.075226955793121, 3.8498051542450082, 3.6764067706059325, 3.474505867131732, 3.3140038824216886, 3.2430556941438806, 3.223329357802868, 3.208664425056089, 3.2647636251693424, 3.2702315832403572, 3.2248471155762672, 3.1986141946505415, 3.2043145942417057, 3.035059257325801, 2.9196840036999094, 2.8513220602815803, 2.7084273997355592, 2.6385325782678346, 2.6092314677820965, 2.6068829629908907], 'val_accuracies': [0.073, 0.1188, 0.1512, 0.1848, 0.2206, 0.2336, 0.2358, 0.2372, 0.2216, 0.22, 0.2364, 0.238, 0.2292, 0.266, 0.2892, 0.292, 0.3252, 0.344, 0.3498, 0.3468], 'val_losses': [4.023850401745567, 3.775754521164713, 3.5682933662511127, 3.3478936092763005, 3.1636953565138803, 3.0984042083160785, 3.073922600927232, 3.0669692196423495, 3.1409560275983206, 3.1128608305242995, 3.0844799144358577, 3.056429485731487, 3.1095020559769644, 2.932162894478327, 2.8122913113123253, 2.76017784770531, 2.606454013269159, 2.5539717131023165, 2.5243750463558148, 2.526113181174556]}, {'learning_rate': 0.01, 'weight_decay': 0.0001, 'scheduler_name': 'ExponentialLR (gamma=0.9)', 'train_accuracies': [0.0732, 0.10904444444444444, 0.133, 0.17037777777777777, 0.18364444444444444, 0.19415555555555555, 0.22648888888888888, 0.23266666666666666, 0.24637777777777778, 0.2551555555555556, 0.2723777777777778, 0.28542222222222224, 0.29484444444444446, 0.2858, 0.3156888888888889, 0.32215555555555553, 0.31951111111111113, 0.3287777777777778, 0.33553333333333335, 0.33193333333333336], 'train_losses': [4.046104775911028, 3.817211306907914, 3.637389398772608, 3.4608435515653, 3.368119053203951, 3.315182623538104, 3.1149543273178013, 3.105852862650698, 3.021562111648646, 2.990668220953508, 2.8923532641069456, 2.831145692955364, 2.7853766164996405, 2.807777179235762, 2.6901841712268917, 2.662728538228707, 2.6569604751738636, 2.6346393068405716, 2.590153590522029, 2.6206370791928335], 'val_accuracies': [0.085, 0.1286, 0.151, 0.1846, 0.2036, 0.2128, 0.2556, 0.2598, 0.2708, 0.276, 0.297, 0.308, 0.312, 0.301, 0.3262, 0.3282, 0.328, 0.333, 0.3428, 0.3416], 'val_losses': [4.006367212609399, 3.7569337887100027, 3.536764594573009, 3.3372495053689692, 3.2317774869218656, 3.1768629943268207, 2.9922471227525156, 2.969560318355319, 2.9074009460738943, 2.895604263378095, 2.8039776192435735, 2.7293538835984243, 2.7171081500717356, 2.752526832532279, 2.623323467713368, 2.6076037581962876, 2.610248309147509, 2.5880495415458196, 2.5568668691417837, 2.58806820157208]}]\n"
     ]
    },
    {
     "data": {
      "image/png": "[encoded data removed]",
      "text/plain": [
       "<Figure size 1200x600 with 1 Axes>"
      ]
     },
     "metadata": {},
     "output_type": "display_data"
    }
   ],
   "source": [
    "import copy\n",
    "resLR = []\n",
    "filtered_results = [res for res in results if res['learning_rate'] == 0.01 and res['weight_decay'] == 0.0001]\n",
    "\n",
    "# Stampa dei risultati filtrati per verificare\n",
    "print(filtered_results)\n",
    "\n",
    "#plot only train losses\n",
    "plt.figure(figsize=(12, 6))\n",
    "for res in filtered_results:\n",
    "    plt.plot(res['train_losses'], label=f\"WD={res['weight_decay']}, Scheduler={res['scheduler_name']}\")\n",
    "plt.xlabel('Epoch')\n",
    "plt.ylabel('Loss')\n",
    "plt.title(f\"Training Loss (LR=0.01)\")\n",
    "plt.legend()\n",
    "plt.show()\n"
   ]
  },
  {
   "cell_type": "markdown",
   "metadata": {},
   "source": [
    "# Final model\n",
    "Given the observations done in the sections before and analyzing all the plots, the following is the configuration that brought the best results. More details are reported in Report.md"
   ]
  },
  {
   "cell_type": "code",
   "execution_count": 57,
   "metadata": {},
   "outputs": [],
   "source": [
    "NUM_EPOCHS = 350 \n",
    "LR = 0.01\n",
    "WD =  0.0001"
   ]
  },
  {
   "cell_type": "code",
   "execution_count": 58,
   "metadata": {},
   "outputs": [],
   "source": [
    "model = LeNet5().to(DEVICE)\n",
    "optimizer = optim.SGD(model.parameters(), lr=LR, momentum=MOMENTUM, weight_decay=WD)\n",
    "scheduler =torch.optim.lr_scheduler.CosineAnnealingLR(optimizer, T_max=NUM_EPOCHS//3, eta_min=1e-4)"
   ]
  },
  {
   "cell_type": "code",
   "execution_count": 59,
   "metadata": {},
   "outputs": [
    {
     "name": "stdout",
     "output_type": "stream",
     "text": [
      "Epoch 1, Training Accuracy: 6.85% Validation Accuracy: 7.36%\n",
      "Epoch 26, Training Accuracy: 33.60% Validation Accuracy: 34.98%\n",
      "Epoch 51, Training Accuracy: 41.21% Validation Accuracy: 39.42%\n",
      "Epoch 76, Training Accuracy: 47.20% Validation Accuracy: 42.46%\n",
      "Epoch 101, Training Accuracy: 53.15% Validation Accuracy: 45.50%\n",
      "Epoch 126, Training Accuracy: 54.22% Validation Accuracy: 45.68%\n",
      "Epoch 151, Training Accuracy: 51.60% Validation Accuracy: 44.14%\n",
      "Epoch 176, Training Accuracy: 45.54% Validation Accuracy: 40.68%\n",
      "Epoch 201, Training Accuracy: 43.29% Validation Accuracy: 39.70%\n",
      "Epoch 226, Training Accuracy: 39.73% Validation Accuracy: 37.12%\n",
      "Epoch 251, Training Accuracy: 42.46% Validation Accuracy: 39.30%\n",
      "Epoch 276, Training Accuracy: 45.58% Validation Accuracy: 42.02%\n",
      "Epoch 301, Training Accuracy: 52.17% Validation Accuracy: 44.10%\n",
      "Epoch 326, Training Accuracy: 58.07% Validation Accuracy: 46.54%\n",
      "Test Accuracy: 48.36%\n"
     ]
    }
   ],
   "source": [
    "train_accuracies, train_losses, val_accuracies, val_losses, model = train(NUM_EPOCHS, scheduler, optimizer)\n",
    "test_accuracy, test_loss = test(model, testloader)\n",
    "print(f'Test Accuracy: {test_accuracy*100:.2f}%')"
   ]
  },
  {
   "cell_type": "markdown",
   "metadata": {},
   "source": [
    "# Storing results"
   ]
  },
  {
   "cell_type": "code",
   "execution_count": 60,
   "metadata": {},
   "outputs": [
    {
     "name": "stdout",
     "output_type": "stream",
     "text": [
      "Results and model saved in centralized_results/centralized_cosine_350epochs.pkl\n",
      "Train vs Validation Accuracy plot saved in plots_centralized/final_validation_centralized_cosine_350epochs.png\n",
      "Train vs Validation Loss plot saved in plots_centralized/final_loss_centralized_cosine_350epochs.png\n"
     ]
    }
   ],
   "source": [
    "import pickle\n",
    "\n",
    "def save_results(train_accuracies, train_losses, val_accuracies, val_losses, model, results_dir=\"centralized_results/\"):\n",
    "    \"\"\"\n",
    "    Save the results and the model in a pickle file.\n",
    "    \n",
    "    Args:\n",
    "        train_accuracies (list): List of training accuracies per epoch.\n",
    "        train_losses (list): List of training losses per epoch.\n",
    "        val_accuracies (list): List of validation accuracies per epoch.\n",
    "        val_losses (list): List of validation losses per epoch.\n",
    "        model (torch.nn.Module): Training model.\n",
    "        results_dir (str): Directory where the results will be saved.\n",
    "    \"\"\"\n",
    "    # Assicura che la directory esista\n",
    "    os.makedirs(results_dir, exist_ok=True)\n",
    "    \n",
    "    # Percorso del file\n",
    "    results_file = os.path.join(results_dir, \"centralized_cosine_350epochs.pkl\")\n",
    "    \n",
    "    # Salva i risultati e il modello\n",
    "    with open(results_file, \"wb\") as f:\n",
    "        pickle.dump({\n",
    "            \"train_accuracies\": train_accuracies,\n",
    "            \"train_losses\": train_losses,\n",
    "            \"val_accuracies\": val_accuracies,\n",
    "            \"val_losses\": val_losses,\n",
    "            \"model\": model.state_dict()  # Save the state of the model \n",
    "        }, f)\n",
    "    print(f\"Results and model saved in {results_file}\")\n",
    "\n",
    "\n",
    "def plot_results(train_accuracies, train_losses, val_accuracies, val_losses, plots_dir=\"plots_centralized/\"):\n",
    "    \"\"\"\n",
    "    Generate and save plots comparing training accuracy and validation accuracy per epoch.\n",
    "    \n",
    "    Args:\n",
    "        train_accuracies (list): list of training accuracies per epoch.\n",
    "        train_losses (list): list of training losses per epoch.\n",
    "        val_accuracies (list): List of validation accuracies per epoch.\n",
    "        val_losses (list): List of validation losses per epoch.\n",
    "        plots_dir (str): Directory where the plots will be saved.\n",
    "    \"\"\"\n",
    "    # Assicura che la directory esista\n",
    "    os.makedirs(plots_dir, exist_ok=True)\n",
    "    \n",
    "    # Plot train_accuracies vs val_accuracies\n",
    "    plt.figure(figsize=(10, 6))\n",
    "    plt.plot(train_accuracies, label=\"Train Accuracy\")\n",
    "    plt.plot(val_accuracies, label=\"Validation Accuracy\")\n",
    "    plt.xlabel(\"Epoch\", fontsize=14)\n",
    "    plt.ylabel(\"Accuracy\", fontsize=14)\n",
    "    plt.title(\"Train vs Validation Accuracy\", fontsize=16)\n",
    "    plt.legend(fontsize=12)\n",
    "    plt.grid(alpha=0.5)\n",
    "    plt.tight_layout()\n",
    "    accuracy_plot_path = os.path.join(plots_dir, \"final_validation_centralized_cosine_350epochs.png\")\n",
    "    plt.savefig(accuracy_plot_path, format=\"png\", dpi=300)\n",
    "    plt.close()\n",
    "    print(f\"Train vs Validation Accuracy plot saved in {accuracy_plot_path}\")\n",
    "    \n",
    "    # Plot train_losses vs val_losses\n",
    "    plt.figure(figsize=(10, 6))\n",
    "    plt.plot(train_losses, label=\"Train Loss\")\n",
    "    plt.plot(val_losses, label=\"Validation Loss\")\n",
    "    plt.xlabel(\"Epoch\", fontsize=14)\n",
    "    plt.ylabel(\"Loss\", fontsize=14)\n",
    "    plt.title(\"Train vs Validation Loss\", fontsize=16)\n",
    "    plt.legend(fontsize=12)\n",
    "    plt.grid(alpha=0.5)\n",
    "    plt.tight_layout()\n",
    "    loss_plot_path = os.path.join(plots_dir, \"final_loss_centralized_cosine_350epochs.png\")\n",
    "    plt.savefig(loss_plot_path, format=\"png\", dpi=300)\n",
    "    plt.close()\n",
    "    print(f\"Train vs Validation Loss plot saved in {loss_plot_path}\")\n",
    "\n",
    "# Save results in order to avoid retraining\n",
    "save_results(train_accuracies, train_losses, val_accuracies, val_losses, model)\n",
    "\n",
    "# Generate and save plots for the final results\n",
    "plot_results(train_accuracies, train_losses, val_accuracies, val_losses)\n"
   ]
  }
 ],
 "metadata": {
  "kernelspec": {
   "display_name": "Python 3",
   "language": "python",
   "name": "python3"
  },
  "language_info": {
   "codemirror_mode": {
    "name": "ipython",
    "version": 3
   },
   "file_extension": ".py",
   "mimetype": "text/x-python",
   "name": "python",
   "nbconvert_exporter": "python",
   "pygments_lexer": "ipython3",
   "version": "3.11.5"
  }
 },
 "nbformat": 4,
 "nbformat_minor": 2
}
