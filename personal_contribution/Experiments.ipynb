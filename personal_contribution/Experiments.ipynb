{
 "cells": [
  {
   "cell_type": "markdown",
   "metadata": {},
   "source": [
    "# Experiments related to the personal contribution\n",
    "EA algorithm to enhance client selection in the federated setting"
   ]
  },
  {
   "cell_type": "markdown",
   "metadata": {},
   "source": [
    "# Setup\n",
    "First, import of necessary libraries"
   ]
  },
  {
   "cell_type": "code",
   "execution_count": 1,
   "metadata": {},
   "outputs": [],
   "source": [
    "import sys\n",
    "\n",
    "from models.model import LeNet5 \n",
    "sys.path.append('../data/cifar100/')\n",
    "from cifar100_loader import CIFAR100DataLoader\n",
    "from utils.federated_utils import plot_metrics,test, plot_client_selection,save_data,load_data\n",
    "from EA_algorithm import EA_algorithm\n",
    "\n",
    "BATCH_SIZE = 64 #constant"
   ]
  },
  {
   "cell_type": "markdown",
   "metadata": {},
   "source": [
    "# Data loading"
   ]
  },
  {
   "cell_type": "code",
   "execution_count": 2,
   "metadata": {},
   "outputs": [
    {
     "name": "stdout",
     "output_type": "stream",
     "text": [
      "Files already downloaded and verified\n",
      "Files already downloaded and verified\n",
      "Files already downloaded and verified\n"
     ]
    }
   ],
   "source": [
    "#10% of the dataset kept for validation\n",
    "data_loader = CIFAR100DataLoader(batch_size=BATCH_SIZE, validation_split=0.1, download=True, num_workers=4, pin_memory=True)\n",
    "trainloader, validloader, testloader = data_loader.train_loader, data_loader.val_loader, data_loader.test_loader"
   ]
  },
  {
   "cell_type": "markdown",
   "metadata": {},
   "source": [
    "# Experiment on the iid data distribution"
   ]
  },
  {
   "cell_type": "code",
   "execution_count": null,
   "metadata": {},
   "outputs": [
    {
     "name": "stdout",
     "output_type": "stream",
     "text": [
      "Data loaded!\n",
      "Checkpoint found: Resuming from epoch 11\n",
      "\n",
      "\n",
      "Generation 12, accuracy 3.5999999999999996, loss 4.36320494398286\n",
      "Checkpoint saved: ../checkpoints/personal_contribution\\model_epoch_10_params_LR0.1_WD0.001.pth\n",
      "Generation 13, accuracy 5.52, loss 4.252948217754122\n",
      "Checkpoint saved: ../checkpoints/personal_contribution\\model_epoch_10_params_LR0.1_WD0.001.pth\n",
      "Generation 14, accuracy 5.3, loss 4.213580605349963\n",
      "Checkpoint saved: ../checkpoints/personal_contribution\\model_epoch_10_params_LR0.1_WD0.001.pth\n",
      "Generation 15, accuracy 7.48, loss 4.087660638591911\n",
      "Checkpoint saved: ../checkpoints/personal_contribution\\model_epoch_10_params_LR0.1_WD0.001.pth\n"
     ]
    }
   ],
   "source": [
    "#Best lr and wd found for iid federated baseline: lr=0.1, wd=0.001\n",
    "global_model = LeNet5()\n",
    "global_model,val_accuracies,val_losses,train_accuracies,train_losses,client_selection_count=EA_algorithm(1000,10,2,100,0.5,trainloader,validloader,0.1,0.001)\n",
    "test_accuracy = test(global_model,testloader)\n",
    "print(\"Test accuracy: \",test_accuracy)\n",
    "plot_metrics(train_accuracies,train_losses,val_accuracies,val_losses,\"EA_iid\")\n",
    "plot_client_selection(client_selection_count,\"EA_iid_client_selection\")\n",
    "save_data(global_model,val_accuracies,val_losses,train_accuracies,train_losses,client_selection_count,\"EA_iid\")"
   ]
  }
 ],
 "metadata": {
  "kernelspec": {
   "display_name": "Python 3",
   "language": "python",
   "name": "python3"
  },
  "language_info": {
   "codemirror_mode": {
    "name": "ipython",
    "version": 3
   },
   "file_extension": ".py",
   "mimetype": "text/x-python",
   "name": "python",
   "nbconvert_exporter": "python",
   "pygments_lexer": "ipython3",
   "version": "3.11.5"
  }
 },
 "nbformat": 4,
 "nbformat_minor": 2
}
