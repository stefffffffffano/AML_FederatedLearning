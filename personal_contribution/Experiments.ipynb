{
 "cells": [
  {
   "cell_type": "markdown",
   "metadata": {},
   "source": [
    "# Experiments related to the personal contribution\n",
    "EA algorithm to enhance client selection in the federated setting"
   ]
  },
  {
   "cell_type": "markdown",
   "metadata": {},
   "source": [
    "# Setup\n",
    "First, import of necessary libraries"
   ]
  },
  {
   "cell_type": "code",
   "execution_count": 1,
   "metadata": {},
   "outputs": [],
   "source": [
    "import sys\n",
    "\n",
    "from models.model import LeNet5 \n",
    "sys.path.append('../data/cifar100/')\n",
    "from cifar100_loader import CIFAR100DataLoader\n",
    "from utils.federated_utils import plot_metrics,test, plot_client_selection,save_data,load_data\n",
    "from EA_algorithm import EA_algorithm\n",
    "\n",
    "BATCH_SIZE = 64 #constant"
   ]
  },
  {
   "cell_type": "markdown",
   "metadata": {},
   "source": [
    "# Data loading"
   ]
  },
  {
   "cell_type": "code",
   "execution_count": 2,
   "metadata": {},
   "outputs": [
    {
     "name": "stdout",
     "output_type": "stream",
     "text": [
      "Files already downloaded and verified\n",
      "Files already downloaded and verified\n",
      "Files already downloaded and verified\n"
     ]
    }
   ],
   "source": [
    "#10% of the dataset kept for validation\n",
    "data_loader = CIFAR100DataLoader(batch_size=BATCH_SIZE, validation_split=0.1, download=True, num_workers=4, pin_memory=True)\n",
    "trainloader, validloader, testloader = data_loader.train_loader, data_loader.val_loader, data_loader.test_loader"
   ]
  },
  {
   "cell_type": "markdown",
   "metadata": {},
   "source": [
    "# Crossover probability tuning\n",
    "Fixing Nc=10, J=4 and number of generations/rounds=500, we evaluated different values of crossover probabilities to pick the best one for the final configuration of the EA algorithm. In particular, we tried the following values: 0.2,0.3,0.5 and 0.7."
   ]
  },
  {
   "cell_type": "code",
   "execution_count": null,
   "metadata": {},
   "outputs": [],
   "source": [
    "probabilities = [0.2,0.3,0.5,0.7]\n",
    "\n",
    "max_val_acc = 0\n",
    "max_test_acc = 0\n",
    "best_probability = 0\n",
    "\n",
    "for probability in probabilities:\n",
    "  print('Starting test with probability: '+ str(probability))\n",
    "  global_model = LeNet5()\n",
    "  global_model,val_accuracies,val_losses,train_accuracies,train_losses,client_selection_count=EA_algorithm(500,8,4,10,probability,trainloader,validloader,0.1,0.001)\n",
    "  max_validation_accuracy = max(val_accuracies)\n",
    "  print('Max validation accuracy: '+ str(max_validation_accuracy))\n",
    "  if(max_validation_accuracy > max_val_acc):\n",
    "    max_val_acc = max_validation_accuracy\n",
    "  test_accuracy = test(global_model,testloader)\n",
    "  print(\"Test accuracy: \",test_accuracy)\n",
    "  if(test_accuracy > max_test_acc):\n",
    "    max_test_acc = test_accuracy\n",
    "    best_proability = probability\n",
    "\n",
    "print('Best probability found out of the test: '+ str(best_probability)+ ', with a test accuracy of: '+ str(max_test_acc))"
   ]
  }
 ],
 "metadata": {
  "kernelspec": {
   "display_name": "Python 3",
   "language": "python",
   "name": "python3"
  },
  "language_info": {
   "codemirror_mode": {
    "name": "ipython",
    "version": 3
   },
   "file_extension": ".py",
   "mimetype": "text/x-python",
   "name": "python",
   "nbconvert_exporter": "python",
   "pygments_lexer": "ipython3",
   "version": "3.11.5"
  }
 },
 "nbformat": 4,
 "nbformat_minor": 2
}
