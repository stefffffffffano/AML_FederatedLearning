{
  "cells": [
    {
      "cell_type": "markdown",
      "metadata": {
        "id": "lWAhRJt5_i3e"
      },
      "source": [
        "# Import"
      ]
    },
    {
      "cell_type": "code",
      "execution_count": 43,
      "metadata": {
        "id": "3okGAXgq_i3j"
      },
      "outputs": [],
      "source": [
        "import numpy as np\n",
        "import pandas as pd\n",
        "import os\n",
        "import torch\n",
        "import torch.nn as nn\n",
        "from collections import Counter\n",
        "import warnings\n",
        "import string\n",
        "import nltk\n",
        "import matplotlib.pyplot as plt\n",
        "import seaborn as sns\n",
        "import kagglehub\n",
        "import itertools\n",
        "from copy import deepcopy\n",
        "import collections\n",
        "from sklearn.model_selection import train_test_split\n",
        "import json\n",
        "import random\n",
        "import re\n",
        "import torch.optim as optim\n",
        "from collections import defaultdict\n",
        "import kagglehub"
      ]
    },
    {
      "cell_type": "markdown",
      "metadata": {
        "id": "XiHq71Y1_i3m"
      },
      "source": [
        "# Dataset"
      ]
    },
    {
      "cell_type": "markdown",
      "metadata": {
        "id": "HDfayYmcFxHh"
      },
      "source": [
        "## Loading of the dataset"
      ]
    },
    {
      "cell_type": "code",
      "execution_count": 44,
      "metadata": {
        "colab": {
          "base_uri": "https://localhost:8080/"
        },
        "id": "g4-315RM_i3n",
        "outputId": "a68a708d-731d-48dc-ac43-3c30e02f9430"
      },
      "outputs": [
        {
          "name": "stdout",
          "output_type": "stream",
          "text": [
            "Path to dataset files: C:\\Users\\andrea\\.cache\\kagglehub\\datasets\\kewagbln\\shakespeareonline\\versions\\1\n",
            "C:\\Users\\andrea\\.cache\\kagglehub\\datasets\\kewagbln\\shakespeareonline\\versions\\1\\shakespeare.txt\n"
          ]
        }
      ],
      "source": [
        "# Download latest version of the shakespeare dataset and save the path\n",
        "path = kagglehub.dataset_download(\"kewagbln/shakespeareonline\")\n",
        "print(\"Path to dataset files:\", path)\n",
        "DATA_PATH = os.path.join(path, \"shakespeare.txt\")\n",
        "OUTPUT_DIR = \"processed_data/\"\n",
        "print(DATA_PATH)"
      ]
    },
    {
      "cell_type": "markdown",
      "metadata": {
        "id": "AJoD-od7F01p"
      },
      "source": [
        "## Paramters"
      ]
    },
    {
      "cell_type": "code",
      "execution_count": 45,
      "metadata": {
        "id": "EwVPIZDTF4sM"
      },
      "outputs": [],
      "source": [
        "TRAIN_FRACTION = 0.9  # percentage of the training data\n",
        "SEQ_LEN = 80  # length of the sequence for the model\n",
        "BATCH_SIZE = 4\n",
        "N_VOCAB = 90  # Numero di caratteri nel vocabolario (ASCII)\n",
        "EPOCHS = 200\n",
        "LEARNING_RATE = 0.01\n",
        "EMBEDDING_SIZE = 8\n",
        "LSTM_HIDDEN_DIM = 256\n",
        "SEQ_LENGTH = 80"
      ]
    },
    {
      "cell_type": "markdown",
      "metadata": {
        "id": "RKLbEQbbIQvh"
      },
      "source": [
        "# Dataset Parsing and Preprocessing\n",
        "This section includes regular expressions and functions to parse Shakespeare's text into plays, characters, and their respective dialogues. The parsing handles special cases like \"The Comedy of Errors\" and prepares training and test datasets."
      ]
    },
    {
      "cell_type": "code",
      "execution_count": 46,
      "metadata": {
        "id": "N4lqN7-UINzE"
      },
      "outputs": [],
      "source": [
        "CHARACTER_RE = re.compile(r'^  ([a-zA-Z][a-zA-Z ]*)\\. (.*)')  # Matches character lines\n",
        "CONT_RE = re.compile(r'^    (.*)')  # Matches continuation lines\n",
        "COE_CHARACTER_RE = re.compile(r'^([a-zA-Z][a-zA-Z ]*)\\. (.*)')  # Special regex for Comedy of Errors\n",
        "COE_CONT_RE = re.compile(r'^(.*)')  # Continuation for Comedy of Errors\n",
        "\n",
        "def parse_shakespeare_file(filepath):\n",
        "    \"\"\"\n",
        "    Reads and splits Shakespeare's text into plays, characters, and their dialogues.\n",
        "    Returns training and test datasets based on the specified fraction.\n",
        "    \"\"\"\n",
        "    with open(filepath, \"r\") as f:\n",
        "        content = f.read()\n",
        "    plays, _ = _split_into_plays(content)  # Split the text into plays\n",
        "    _, train_examples, test_examples = _get_train_test_by_character(\n",
        "        plays, test_fraction=1 - TRAIN_FRACTION\n",
        "    )\n",
        "    return train_examples, test_examples\n",
        "\n",
        "def _split_into_plays(shakespeare_full):\n",
        "    \"\"\"\n",
        "    Splits the full Shakespeare text into individual plays and characters' dialogues.\n",
        "    Handles special parsing for \"The Comedy of Errors\".\n",
        "    \"\"\"\n",
        "    plays = []\n",
        "    slines = shakespeare_full.splitlines(True)[1:]  # Skip the first line (title/header)\n",
        "    current_character = None\n",
        "    comedy_of_errors = False\n",
        "\n",
        "    for i, line in enumerate(slines):\n",
        "        # Detect play titles and initialize character dictionary\n",
        "        if \"by William Shakespeare\" in line:\n",
        "            current_character = None\n",
        "            characters = defaultdict(list)\n",
        "            title = slines[i - 2].strip() if slines[i - 2].strip() else slines[i - 3].strip()\n",
        "            comedy_of_errors = title == \"THE COMEDY OF ERRORS\"\n",
        "            plays.append((title, characters))\n",
        "            continue\n",
        "\n",
        "        # Match character lines or continuation lines\n",
        "        match = _match_character_regex(line, comedy_of_errors)\n",
        "        if match:\n",
        "            character, snippet = match.group(1).upper(), match.group(2)\n",
        "            if not (comedy_of_errors and character.startswith(\"ACT \")):\n",
        "                characters[character].append(snippet)\n",
        "                current_character = character\n",
        "        elif current_character:\n",
        "            match = _match_continuation_regex(line, comedy_of_errors)\n",
        "            if match:\n",
        "                characters[current_character].append(match.group(1))\n",
        "\n",
        "    # Filter out plays with insufficient dialogue data\n",
        "    return [play for play in plays if len(play[1]) > 1], []\n",
        "\n",
        "def _match_character_regex(line, comedy_of_errors=False):\n",
        "    \"\"\"Matches character dialogues, with special handling for 'The Comedy of Errors'.\"\"\"\n",
        "    return COE_CHARACTER_RE.match(line) if comedy_of_errors else CHARACTER_RE.match(line)\n",
        "\n",
        "def _match_continuation_regex(line, comedy_of_errors=False):\n",
        "    \"\"\"Matches continuation lines of dialogues.\"\"\"\n",
        "    return COE_CONT_RE.match(line) if comedy_of_errors else CONT_RE.match(line)\n",
        "\n",
        "def _get_train_test_by_character(plays, test_fraction=0.2):\n",
        "    \"\"\"\n",
        "    Splits dialogues by characters into training and testing datasets.\n",
        "    Ensures each character has at least one example in the training set.\n",
        "    \"\"\"\n",
        "    all_train_examples = defaultdict(list)\n",
        "    all_test_examples = defaultdict(list)\n",
        "\n",
        "    def add_examples(example_dict, example_tuple_list):\n",
        "        \"\"\"Adds examples to the respective dataset dictionary.\"\"\"\n",
        "        for play, character, sound_bite in example_tuple_list:\n",
        "            example_dict[f\"{play}_{character}\".replace(\" \", \"_\")].append(sound_bite)\n",
        "\n",
        "    for play, characters in plays:\n",
        "        for character, sound_bites in characters.items():\n",
        "            examples = [(play, character, sound_bite) for sound_bite in sound_bites]\n",
        "            if len(examples) <= 2:\n",
        "                continue\n",
        "\n",
        "            # Calculate the number of test samples\n",
        "            num_test = max(1, int(len(examples) * test_fraction))\n",
        "            num_test = min(num_test, len(examples) - 1)  # Ensure at least one training example\n",
        "\n",
        "            # Split into train and test sets\n",
        "            train_examples = examples[:-num_test]\n",
        "            test_examples = examples[-num_test:]\n",
        "\n",
        "            add_examples(all_train_examples, train_examples)\n",
        "            add_examples(all_test_examples, test_examples)\n",
        "\n",
        "    return {}, all_train_examples, all_test_examples\n",
        "\n",
        "\n"
      ]
    },
    {
      "cell_type": "markdown",
      "metadata": {
        "id": "qiYPyuLRIcI-"
      },
      "source": [
        "# Text Processing\n",
        "Functions to convert characters and words into numerical representations\n",
        "for use in neural networks. Includes padding logic for batch processing."
      ]
    },
    {
      "cell_type": "code",
      "execution_count": 47,
      "metadata": {
        "id": "f7cJk6_PIckr"
      },
      "outputs": [],
      "source": [
        "def letter_to_vec(c, n_vocab=128):\n",
        "    \"\"\"Converts a single character to a vector index based on the vocabulary size.\"\"\"\n",
        "    return ord(c) % n_vocab\n",
        "\n",
        "def word_to_indices(word, n_vocab=128):\n",
        "    \"\"\"\n",
        "    Converts a word or list of words into a list of indices.\n",
        "    Each character is mapped to an index based on the vocabulary size.\n",
        "    \"\"\"\n",
        "    if isinstance(word, list):  # If input is a list of words\n",
        "        res = []\n",
        "        for stringa in word:\n",
        "            res.extend([ord(c) % n_vocab for c in stringa])  # Convert each word to indices\n",
        "        return res\n",
        "    else:  # If input is a single word\n",
        "        return [ord(c) % n_vocab for c in word]\n",
        "\n",
        "def process_x(raw_x_batch, seq_len, n_vocab):\n",
        "    \"\"\"\n",
        "    Processes raw input data into padded sequences of indices.\n",
        "    Ensures all sequences are of uniform length.\n",
        "    \"\"\"\n",
        "    x_batch = [word_to_indices(word, n_vocab) for word in raw_x_batch]\n",
        "    x_batch = [x[:seq_len] + [0] * (seq_len - len(x)) for x in x_batch]\n",
        "    return torch.tensor(x_batch, dtype=torch.long)\n",
        "\n",
        "\n",
        "def process_y(raw_y_batch, seq_len, n_vocab):\n",
        "    \"\"\"\n",
        "    Processes raw target data into padded sequences of indices.\n",
        "    Shifts the sequence by one character to the right.\n",
        "    y[1:seq_len + 1] takes the input data, right shift of an\n",
        "    element and uses the next element of the sequence to fill\n",
        "    and at the end (with [0]) final padding (zeros) are (eventually)\n",
        "    added to reach the desired sequence length.\n",
        "    \"\"\"\n",
        "    y_batch = [word_to_indices(word, n_vocab) for word in raw_y_batch]\n",
        "    y_batch = [y[1:seq_len + 1] + [0] * (seq_len - len(y[1:seq_len + 1])) for y in y_batch]  # Shifting and final padding\n",
        "    return torch.tensor(y_batch, dtype=torch.long)\n",
        "\n",
        "def create_batches(data, batch_size, seq_len, n_vocab):\n",
        "    \"\"\"\n",
        "    Creates batches of input and target data from dialogues.\n",
        "    Each batch contains sequences of uniform length.\n",
        "    \"\"\"\n",
        "    x_batches = []\n",
        "    y_batches = []\n",
        "    dialogues = list(data.values())\n",
        "    random.shuffle(dialogues)  # Shuffle to ensure randomness in batches\n",
        "\n",
        "    batch = []\n",
        "    for dialogue in dialogues:\n",
        "        batch.append(dialogue)\n",
        "        if len(batch) == batch_size:\n",
        "            x_batch = process_x(batch, seq_len, n_vocab)\n",
        "            y_batch = process_y(batch, seq_len, n_vocab)\n",
        "            x_batches.append(x_batch)\n",
        "            y_batches.append(y_batch)\n",
        "            batch = []\n",
        "\n",
        "    # Add the last batch if it's not full\n",
        "    if batch:\n",
        "        x_batch = process_x(batch, seq_len, n_vocab)\n",
        "        y_batch = process_y(batch, seq_len, n_vocab)\n",
        "        x_batches.append(x_batch)\n",
        "        y_batches.append(y_batch)\n",
        "\n",
        "    return x_batches, y_batches\n",
        "\n"
      ]
    },
    {
      "cell_type": "markdown",
      "metadata": {
        "id": "pxsIfbBOLCTt"
      },
      "source": [
        "# Data Loader\n",
        "This code defines a custom PyTorch Dataset class for processing Shakespeare dialogues.\n",
        "The dataset converts raw text data into sequences of indices for training a character-level model.\n"
      ]
    },
    {
      "cell_type": "code",
      "execution_count": 48,
      "metadata": {
        "id": "4nyJjLKULERy"
      },
      "outputs": [],
      "source": [
        "from torch.utils.data import Dataset, DataLoader\n",
        "\n",
        "class ShakespeareDataset(Dataset):\n",
        "    \"\"\"\n",
        "    Custom PyTorch Dataset for processing Shakespeare dialogues.\n",
        "    Converts input data into sequences of indices for input and target processing.\n",
        "    \"\"\"\n",
        "    def __init__(self, data, seq_len, n_vocab):\n",
        "        \"\"\"\n",
        "        Initializes the ShakespeareDataset instance.\n",
        "\n",
        "        Args:\n",
        "            data: Dictionary containing dialogues (e.g., train_data or test_data).\n",
        "            seq_len: Length of sequences to generate for the model.\n",
        "            n_vocab: Size of the vocabulary for mapping characters to indices.\n",
        "        \"\"\"\n",
        "        self.data = list(data.values())  # Convert the dictionary values to a list\n",
        "        self.seq_len = seq_len  # Sequence length for the model\n",
        "        self.n_vocab = n_vocab  # Vocabulary size\n",
        "\n",
        "    def __len__(self):\n",
        "        \"\"\"\n",
        "        Returns the total number of samples in the dataset.\n",
        "\n",
        "        Returns:\n",
        "            int: Number of dialogues in the dataset.\n",
        "        \"\"\"\n",
        "        return len(self.data)\n",
        "\n",
        "    def __getitem__(self, idx):\n",
        "        \"\"\"\n",
        "        Retrieves a single sample (input and target) from the dataset.\n",
        "\n",
        "        Args:\n",
        "            idx: Index of the sample to retrieve.\n",
        "\n",
        "        Returns:\n",
        "            Tuple: Processed input (x) and target (y) tensors for the model.\n",
        "        \"\"\"\n",
        "        dialogue = self.data[idx]  # Get the dialogue at the specified index\n",
        "        x = process_x([dialogue], self.seq_len, self.n_vocab)[0]  # Prepare input tensor\n",
        "        y = process_y([dialogue], self.seq_len, self.n_vocab)[0]  # Prepare target tensor\n",
        "        return x, y"
      ]
    },
    {
      "cell_type": "markdown",
      "metadata": {
        "id": "oBSf9y7_IlLh"
      },
      "source": [
        "# Model Definition\n",
        "CharLSTM is a character-based LSTM model designed for text generation.\n",
        "It includes embedding, LSTM layers, and a fully connected layer for output."
      ]
    },
    {
      "cell_type": "code",
      "execution_count": 49,
      "metadata": {
        "id": "CTQiMMyhIleP"
      },
      "outputs": [],
      "source": [
        "import torch.nn.functional as F\n",
        "\n",
        "class CharLSTM(nn.Module):\n",
        "    \"\"\"\n",
        "    Character-level LSTM model for text processing tasks.\n",
        "    Includes embedding, LSTM, and a fully connected output layer.\n",
        "    We use:\n",
        "    - embedding size equal to 8;\n",
        "    - 2 LSTM layers, each with 256 nodes;\n",
        "    - densely connected softmax output layer.\n",
        "\n",
        "    We can avoid to use explicitly the softmax function in the model and\n",
        "    keep a cross entropy loss function as a loss function.\n",
        "\n",
        "    as mentioned in paper [2] (Sashank Reddi, Zachary Charles, Manzil Zaheer, Zachary Garrett, Keith Rush,\n",
        "    Jakub Konečný, Sanjiv Kumar, H. Brendan McMahan; Adaptive Federated Optimization, 2021)\n",
        "    \"\"\"\n",
        "    def __init__(self, vocab_size = 90, embedding_size = 8, lstm_hidden_dim = 256, seq_length=80):\n",
        "        super(CharLSTM, self).__init__()\n",
        "        self.seq_length = seq_length\n",
        "        self.vocab_size = vocab_size\n",
        "        self.embedding_size = embedding_size\n",
        "        self.lstm_hidden_dim = lstm_hidden_dim\n",
        "        self.embedding = nn.Embedding(num_embeddings=vocab_size, embedding_dim=embedding_size)\n",
        "        self.lstm1 = nn.LSTM(input_size=embedding_size, hidden_size=lstm_hidden_dim, batch_first=True)\n",
        "        self.lstm2 = nn.LSTM(input_size=lstm_hidden_dim, hidden_size=lstm_hidden_dim, batch_first=True)\n",
        "        self.fc = nn.Linear(lstm_hidden_dim, vocab_size)\n",
        "\n",
        "    def forward(self, x):\n",
        "        \"\"\"\n",
        "        Forward pass through the model.\n",
        "        \"\"\"\n",
        "        # Layer 1: Embedding\n",
        "        x = self.embedding(x)  # Output shape: (batch_size, seq_length, embedding_dim)\n",
        "\n",
        "        # Layer 2: First LSTM\n",
        "        x, _ = self.lstm1(x)  # Output shape: (batch_size, seq_length, lstm_hidden_dim)\n",
        "\n",
        "        # Layer 3: Second LSTM\n",
        "        x, hidden = self.lstm2(x)  # Output shape: (batch_size, seq_length, lstm_hidden_dim)\n",
        "\n",
        "        # Layer 4: Fully Connected Layer\n",
        "        x = self.fc(x)  # Output shape: (batch_size, seq_length, vocab_size)\n",
        "\n",
        "        # Softmax Activation\n",
        "        #x = self.softmax(x)  # Output shape: (batch_size, seq_length, vocab_size)\n",
        "        return x, hidden\n",
        "\n",
        "    def init_hidden(self, batch_size):\n",
        "        \"\"\"Initializes hidden and cell states for the LSTM.\"\"\"\n",
        "        return (torch.zeros(2, batch_size),\n",
        "            torch.zeros(2, batch_size))\n",
        "        #2 is equal to the number of lstm layers!\n",
        "\n"
      ]
    },
    {
      "cell_type": "markdown",
      "metadata": {
        "id": "-4fnioLueKYk"
      },
      "source": [
        "## Data Loading"
      ]
    },
    {
      "cell_type": "code",
      "execution_count": 54,
      "metadata": {
        "id": "dBY-TXP5eEQl"
      },
      "outputs": [
        {
          "name": "stdout",
          "output_type": "stream",
          "text": [
            "1164\n",
            "dict_keys(['THE_SONNETS_WHEN_YOUR_SWEET_ISSUE_YOUR_SWEET_FORM_SHOULD_BEAR', 'THE_SONNETS_THEN_LOOK_I_DEATH_MY_DAYS_SHOULD_EXPIATE', 'THE_SONNETS_TAKE_ALL_MY_COMFORT_OF_THY_WORTH_AND_TRUTH', 'THE_SONNETS_WHICH_TIME_AND_THOUGHTS_SO_SWEETLY_DOTH_DECEIVE', 'THE_SONNETS_A_LOSS_IN_LOVE_THAT_TOUCHES_ME_MORE_NEARLY', 'THE_SONNETS_ART_LEFT_THE_PREY_OF_EVERY_VULGAR_THIEF', 'THE_SONNETS_FOR_BLUNTING_THE_FINE_POINT_OF_SELDOM_PLEASURE', 'THE_SONNETS_DIE_TO_THEMSELVES', 'THE_SONNETS_NOR_SERVICES_TO_DO_TILL_YOU_REQUIRE', 'THE_SONNETS_WITHOUT_ACCUSING_YOU_OF_INJURY', 'THE_SONNETS_OR_WHETHER_REVOLUTION_BE_THE_SAME', 'THE_SONNETS_IT_IS_SO_GROUNDED_INWARD_IN_MY_HEART', 'THE_SONNETS_THAT_TIME_WILL_COME_AND_TAKE_MY_LOVE_AWAY', 'THE_SONNETS_FOR_YOU_IN_ME_CAN_NOTHING_WORTHY_PROVE', 'THE_SONNETS_MAKING_HIS_STYLE_ADMIRED_EVERY_WHERE', 'THE_SONNETS_MY_BONDS_IN_THEE_ARE_ALL_DETERMINATE', 'THE_SONNETS_AND_HAPLY_OF_OUR_OLD_ACQUAINTANCE_TELL', 'THE_SONNETS_FOR_IT_DEPENDS_UPON_THAT_LOVE_OF_THINE', 'THE_SONNETS_IS_WRIT_IN_MOODS_AND_FROWNS_AND_WRINKLES_STRANGE', 'ALLS_WELL_THAT_ENDS_WELL_COUNTESS', 'ALLS_WELL_THAT_ENDS_WELL_BERTRAM', 'ALLS_WELL_THAT_ENDS_WELL_LAFEU', 'ALLS_WELL_THAT_ENDS_WELL_HELENA', 'ALLS_WELL_THAT_ENDS_WELL_PAROLLES', 'ALLS_WELL_THAT_ENDS_WELL_KING', 'ALLS_WELL_THAT_ENDS_WELL_FIRST_LORD', 'ALLS_WELL_THAT_ENDS_WELL_SECOND_LORD', 'ALLS_WELL_THAT_ENDS_WELL_STEWARD', 'ALLS_WELL_THAT_ENDS_WELL_CLOWN', 'ALLS_WELL_THAT_ENDS_WELL_DUKE', 'ALLS_WELL_THAT_ENDS_WELL_SECOND_GENTLEMAN', 'ALLS_WELL_THAT_ENDS_WELL_FIRST_GENTLEMAN', 'ALLS_WELL_THAT_ENDS_WELL_WIDOW', 'ALLS_WELL_THAT_ENDS_WELL_DIANA', 'ALLS_WELL_THAT_ENDS_WELL_MARIANA', 'ALLS_WELL_THAT_ENDS_WELL_FIRST_SOLDIER', 'ALLS_WELL_THAT_ENDS_WELL_SERVANT', 'ALLS_WELL_THAT_ENDS_WELL_GENTLEMAN', 'THE_TRAGEDY_OF_ANTONY_AND_CLEOPATRA_PHILO', 'THE_TRAGEDY_OF_ANTONY_AND_CLEOPATRA_CLEOPATRA', 'THE_TRAGEDY_OF_ANTONY_AND_CLEOPATRA_ANTONY', 'THE_TRAGEDY_OF_ANTONY_AND_CLEOPATRA_MESSENGER', 'THE_TRAGEDY_OF_ANTONY_AND_CLEOPATRA_DEMETRIUS', 'THE_TRAGEDY_OF_ANTONY_AND_CLEOPATRA_CHARMIAN', 'THE_TRAGEDY_OF_ANTONY_AND_CLEOPATRA_ALEXAS', 'THE_TRAGEDY_OF_ANTONY_AND_CLEOPATRA_SOOTHSAYER', 'THE_TRAGEDY_OF_ANTONY_AND_CLEOPATRA_ENOBARBUS', 'THE_TRAGEDY_OF_ANTONY_AND_CLEOPATRA_IRAS', 'THE_TRAGEDY_OF_ANTONY_AND_CLEOPATRA_SECOND_MESSENGER', 'THE_TRAGEDY_OF_ANTONY_AND_CLEOPATRA_CAESAR', 'THE_TRAGEDY_OF_ANTONY_AND_CLEOPATRA_LEPIDUS', 'THE_TRAGEDY_OF_ANTONY_AND_CLEOPATRA_MARDIAN', 'THE_TRAGEDY_OF_ANTONY_AND_CLEOPATRA_POMPEY', 'THE_TRAGEDY_OF_ANTONY_AND_CLEOPATRA_MENECRATES', 'THE_TRAGEDY_OF_ANTONY_AND_CLEOPATRA_MENAS', 'THE_TRAGEDY_OF_ANTONY_AND_CLEOPATRA_VARRIUS', 'THE_TRAGEDY_OF_ANTONY_AND_CLEOPATRA_MAECENAS', 'THE_TRAGEDY_OF_ANTONY_AND_CLEOPATRA_AGRIPPA', 'THE_TRAGEDY_OF_ANTONY_AND_CLEOPATRA_OCTAVIA', 'THE_TRAGEDY_OF_ANTONY_AND_CLEOPATRA_ALL', 'THE_TRAGEDY_OF_ANTONY_AND_CLEOPATRA_FIRST_SERVANT', 'THE_TRAGEDY_OF_ANTONY_AND_CLEOPATRA_SECOND_SERVANT', 'THE_TRAGEDY_OF_ANTONY_AND_CLEOPATRA_VENTIDIUS', 'THE_TRAGEDY_OF_ANTONY_AND_CLEOPATRA_SILIUS', 'THE_TRAGEDY_OF_ANTONY_AND_CLEOPATRA_EROS', 'THE_TRAGEDY_OF_ANTONY_AND_CLEOPATRA_CANIDIUS', 'THE_TRAGEDY_OF_ANTONY_AND_CLEOPATRA_SOLDIER', 'THE_TRAGEDY_OF_ANTONY_AND_CLEOPATRA_SCARUS', 'THE_TRAGEDY_OF_ANTONY_AND_CLEOPATRA_DOLABELLA', 'THE_TRAGEDY_OF_ANTONY_AND_CLEOPATRA_EUPHRONIUS', 'THE_TRAGEDY_OF_ANTONY_AND_CLEOPATRA_THYREUS', 'THE_TRAGEDY_OF_ANTONY_AND_CLEOPATRA_SERVANT', 'THE_TRAGEDY_OF_ANTONY_AND_CLEOPATRA_FIRST_SOLDIER', 'THE_TRAGEDY_OF_ANTONY_AND_CLEOPATRA_SECOND_SOLDIER', 'THE_TRAGEDY_OF_ANTONY_AND_CLEOPATRA_THIRD_SOLDIER', 'THE_TRAGEDY_OF_ANTONY_AND_CLEOPATRA_SOLDIERS', 'THE_TRAGEDY_OF_ANTONY_AND_CLEOPATRA_CENTURION', 'THE_TRAGEDY_OF_ANTONY_AND_CLEOPATRA_FIRST_WATCH', 'THE_TRAGEDY_OF_ANTONY_AND_CLEOPATRA_SECOND_WATCH', 'THE_TRAGEDY_OF_ANTONY_AND_CLEOPATRA_FIRST_GUARD', 'THE_TRAGEDY_OF_ANTONY_AND_CLEOPATRA_SECOND_GUARD', 'THE_TRAGEDY_OF_ANTONY_AND_CLEOPATRA_DERCETAS', 'THE_TRAGEDY_OF_ANTONY_AND_CLEOPATRA_DIOMEDES', 'THE_TRAGEDY_OF_ANTONY_AND_CLEOPATRA_EGYPTIAN', 'THE_TRAGEDY_OF_ANTONY_AND_CLEOPATRA_PROCULEIUS', 'THE_TRAGEDY_OF_ANTONY_AND_CLEOPATRA_GALLUS', 'THE_TRAGEDY_OF_ANTONY_AND_CLEOPATRA_SELEUCUS', 'THE_TRAGEDY_OF_ANTONY_AND_CLEOPATRA_GUARDSMAN', 'THE_TRAGEDY_OF_ANTONY_AND_CLEOPATRA_CLOWN', 'AS_YOU_LIKE_IT_ORLANDO', 'AS_YOU_LIKE_IT_ADAM', 'AS_YOU_LIKE_IT_OLIVER', 'AS_YOU_LIKE_IT_DENNIS', 'AS_YOU_LIKE_IT_CHARLES', 'AS_YOU_LIKE_IT_CELIA', 'AS_YOU_LIKE_IT_ROSALIND', 'AS_YOU_LIKE_IT_TOUCHSTONE', 'AS_YOU_LIKE_IT_LE_BEAU', 'AS_YOU_LIKE_IT_FREDERICK', 'AS_YOU_LIKE_IT_DUKE_SENIOR', 'AS_YOU_LIKE_IT_AMIENS', 'AS_YOU_LIKE_IT_FIRST_LORD', 'AS_YOU_LIKE_IT_SECOND_LORD', 'AS_YOU_LIKE_IT_CORIN', 'AS_YOU_LIKE_IT_SILVIUS', 'AS_YOU_LIKE_IT_JAQUES', 'AS_YOU_LIKE_IT_AUDREY', 'AS_YOU_LIKE_IT_MARTEXT', 'AS_YOU_LIKE_IT_PHEBE', 'AS_YOU_LIKE_IT_WILLIAM', 'AS_YOU_LIKE_IT_FIRST_PAGE', 'AS_YOU_LIKE_IT_SECOND_PAGE', 'AS_YOU_LIKE_IT_HYMEN', 'AS_YOU_LIKE_IT_JAQUES_DE_BOYS', 'THE_COMEDY_OF_ERRORS_WITH_PERMISSION', 'THE_COMEDY_OF_ERRORS_COMMERCIALLY', 'THE_COMEDY_OF_ERRORS_AEGEON', 'THE_COMEDY_OF_ERRORS_DUKE', 'THE_COMEDY_OF_ERRORS_FIRST_MERCHANT', 'THE_COMEDY_OF_ERRORS_ANTIPHOLUS_OF_SYRACUSE', 'THE_COMEDY_OF_ERRORS_DROMIO_OF_SYRACUSE', 'THE_COMEDY_OF_ERRORS_DROMIO_OF_EPHESUS', 'THE_COMEDY_OF_ERRORS_ADRIANA', 'THE_COMEDY_OF_ERRORS_LUCIANA', 'THE_COMEDY_OF_ERRORS_ANTIPHOLUS_OF_EPHESUS', 'THE_COMEDY_OF_ERRORS_BALTHAZAR', 'THE_COMEDY_OF_ERRORS_LUCE', 'THE_COMEDY_OF_ERRORS_ANGELO', 'THE_COMEDY_OF_ERRORS_SECOND_MERCHANT', 'THE_COMEDY_OF_ERRORS_OFFICER', 'THE_COMEDY_OF_ERRORS_COURTEZAN', 'THE_COMEDY_OF_ERRORS_PINCH', 'THE_COMEDY_OF_ERRORS_ABBESS', 'THE_COMEDY_OF_ERRORS_MESSENGER', 'THE_COMEDY_OF_ERRORS_ANTIPHOLUS_OFEPHESUS', 'THE_TRAGEDY_OF_CORIOLANUS_FIRST_CITIZEN', 'THE_TRAGEDY_OF_CORIOLANUS_ALL', 'THE_TRAGEDY_OF_CORIOLANUS_SECOND_CITIZEN', 'THE_TRAGEDY_OF_CORIOLANUS_MENENIUS', 'THE_TRAGEDY_OF_CORIOLANUS_MARCIUS', 'THE_TRAGEDY_OF_CORIOLANUS_MESSENGER', 'THE_TRAGEDY_OF_CORIOLANUS_FIRST_SENATOR', 'THE_TRAGEDY_OF_CORIOLANUS_COMINIUS', 'THE_TRAGEDY_OF_CORIOLANUS_LARTIUS', 'THE_TRAGEDY_OF_CORIOLANUS_SICINIUS', 'THE_TRAGEDY_OF_CORIOLANUS_BRUTUS', 'THE_TRAGEDY_OF_CORIOLANUS_AUFIDIUS', 'THE_TRAGEDY_OF_CORIOLANUS_SECOND_SENATOR', 'THE_TRAGEDY_OF_CORIOLANUS_VOLUMNIA', 'THE_TRAGEDY_OF_CORIOLANUS_VIRGILIA', 'THE_TRAGEDY_OF_CORIOLANUS_VALERIA', 'THE_TRAGEDY_OF_CORIOLANUS_FIRST_SOLDIER', 'THE_TRAGEDY_OF_CORIOLANUS_THIRD_ROMAN', 'THE_TRAGEDY_OF_CORIOLANUS_LIEUTENANT', 'THE_TRAGEDY_OF_CORIOLANUS_CORIOLANUS', 'THE_TRAGEDY_OF_CORIOLANUS_BOTH_TRIBUNES', 'THE_TRAGEDY_OF_CORIOLANUS_HERALD', 'THE_TRAGEDY_OF_CORIOLANUS_FIRST_OFFICER', 'THE_TRAGEDY_OF_CORIOLANUS_SECOND_OFFICER', 'THE_TRAGEDY_OF_CORIOLANUS_SENATORS', 'THE_TRAGEDY_OF_CORIOLANUS_THIRD_CITIZEN', 'THE_TRAGEDY_OF_CORIOLANUS_FOURTH_CITIZEN', 'THE_TRAGEDY_OF_CORIOLANUS_CITIZENS', 'THE_TRAGEDY_OF_CORIOLANUS_PATRICIANS', 'THE_TRAGEDY_OF_CORIOLANUS_PLEBEIANS', 'THE_TRAGEDY_OF_CORIOLANUS_AEDILE', 'THE_TRAGEDY_OF_CORIOLANUS_ROMAN', 'THE_TRAGEDY_OF_CORIOLANUS_VOLSCE', 'THE_TRAGEDY_OF_CORIOLANUS_CITIZEN', 'THE_TRAGEDY_OF_CORIOLANUS_FIRST_SERVANT', 'THE_TRAGEDY_OF_CORIOLANUS_SECOND_SERVANT', 'THE_TRAGEDY_OF_CORIOLANUS_THIRD_SERVANT', 'THE_TRAGEDY_OF_CORIOLANUS_BOTH', 'THE_TRAGEDY_OF_CORIOLANUS_SECOND_MESSENGER', 'THE_TRAGEDY_OF_CORIOLANUS_FIRST_WATCH', 'THE_TRAGEDY_OF_CORIOLANUS_SECOND_WATCH', 'THE_TRAGEDY_OF_CORIOLANUS_FIRST_CONSPIRATOR', 'THE_TRAGEDY_OF_CORIOLANUS_SECOND_CONSPIRATOR', 'THE_TRAGEDY_OF_CORIOLANUS_THIRD_CONSPIRATOR', 'THE_TRAGEDY_OF_CORIOLANUS_LORDS', 'THE_TRAGEDY_OF_CORIOLANUS_FIRST_LORD', 'THE_TRAGEDY_OF_CORIOLANUS_CONSPIRATORS', 'THE_TRAGEDY_OF_CORIOLANUS_ALL_THE_PEOPLE', 'THE_TRAGEDY_OF_CORIOLANUS_SECOND_LORD', 'CYMBELINE_FIRST_GENTLEMAN', 'CYMBELINE_SECOND_GENTLEMAN', 'CYMBELINE_QUEEN', 'CYMBELINE_POSTHUMUS', 'CYMBELINE_IMOGEN', 'CYMBELINE_CYMBELINE', 'CYMBELINE_PISANIO', 'CYMBELINE_FIRST_LORD', 'CYMBELINE_CLOTEN', 'CYMBELINE_SECOND_LORD', 'CYMBELINE_LADY', 'CYMBELINE_IACHIMO', 'CYMBELINE_PHILARIO', 'CYMBELINE_FRENCHMAN', 'CYMBELINE_CORNELIUS', 'CYMBELINE_MESSENGER', 'CYMBELINE_LUCIUS', 'CYMBELINE_BELARIUS', 'CYMBELINE_GUIDERIUS', 'CYMBELINE_ARVIRAGUS', 'CYMBELINE_FIRST_SENATOR', 'CYMBELINE_TRIBUNE', 'CYMBELINE_BOTH', 'CYMBELINE_CAPTAIN', 'CYMBELINE_SOOTHSAYER', 'CYMBELINE_LORD', 'CYMBELINE_GUIDERIUS_AND_ARVIRAGUS', 'CYMBELINE_FIRST_CAPTAIN', 'CYMBELINE_SECOND_CAPTAIN', 'CYMBELINE_SICILIUS', 'CYMBELINE_MOTHER', 'CYMBELINE_FIRST_BROTHER', 'CYMBELINE_SECOND_BROTHER', 'CYMBELINE_BROTHERS', 'CYMBELINE_JUPITER', 'CYMBELINE_GAOLER', 'THE_TRAGEDY_OF_HAMLET,_PRINCE_OF_DENMARK_BER', 'THE_TRAGEDY_OF_HAMLET,_PRINCE_OF_DENMARK_FRAN', 'THE_TRAGEDY_OF_HAMLET,_PRINCE_OF_DENMARK_HOR', 'THE_TRAGEDY_OF_HAMLET,_PRINCE_OF_DENMARK_MAR', 'THE_TRAGEDY_OF_HAMLET,_PRINCE_OF_DENMARK_KING', 'THE_TRAGEDY_OF_HAMLET,_PRINCE_OF_DENMARK_LAER', 'THE_TRAGEDY_OF_HAMLET,_PRINCE_OF_DENMARK_POL', 'THE_TRAGEDY_OF_HAMLET,_PRINCE_OF_DENMARK_HAM', 'THE_TRAGEDY_OF_HAMLET,_PRINCE_OF_DENMARK_QUEEN', 'THE_TRAGEDY_OF_HAMLET,_PRINCE_OF_DENMARK_BOTH', 'THE_TRAGEDY_OF_HAMLET,_PRINCE_OF_DENMARK_ALL', 'THE_TRAGEDY_OF_HAMLET,_PRINCE_OF_DENMARK_OPH', 'THE_TRAGEDY_OF_HAMLET,_PRINCE_OF_DENMARK_GHOST', 'THE_TRAGEDY_OF_HAMLET,_PRINCE_OF_DENMARK_REY', 'THE_TRAGEDY_OF_HAMLET,_PRINCE_OF_DENMARK_ROS', 'THE_TRAGEDY_OF_HAMLET,_PRINCE_OF_DENMARK_GUIL', 'THE_TRAGEDY_OF_HAMLET,_PRINCE_OF_DENMARK_VOLT', 'THE_TRAGEDY_OF_HAMLET,_PRINCE_OF_DENMARK_FOR', 'THE_TRAGEDY_OF_HAMLET,_PRINCE_OF_DENMARK_CAPT', 'THE_TRAGEDY_OF_HAMLET,_PRINCE_OF_DENMARK_GENT', 'THE_TRAGEDY_OF_HAMLET,_PRINCE_OF_DENMARK_MESS', 'THE_TRAGEDY_OF_HAMLET,_PRINCE_OF_DENMARK_SAILOR', 'THE_TRAGEDY_OF_HAMLET,_PRINCE_OF_DENMARK_CLOWN', 'THE_TRAGEDY_OF_HAMLET,_PRINCE_OF_DENMARK_OTHER', 'THE_TRAGEDY_OF_HAMLET,_PRINCE_OF_DENMARK_PRIEST', 'THE_TRAGEDY_OF_HAMLET,_PRINCE_OF_DENMARK_OSR', 'THE_TRAGEDY_OF_HAMLET,_PRINCE_OF_DENMARK_LORD', 'THE_TRAGEDY_OF_HAMLET,_PRINCE_OF_DENMARK_FORT', 'THE_TRAGEDY_OF_HAMLET,_PRINCE_OF_DENMARK_AMBASSADOR', 'THE_FIRST_PART_OF_KING_HENRY_THE_FOURTH_KING', 'THE_FIRST_PART_OF_KING_HENRY_THE_FOURTH_WEST', 'THE_FIRST_PART_OF_KING_HENRY_THE_FOURTH_FAL', 'THE_FIRST_PART_OF_KING_HENRY_THE_FOURTH_PRINCE', 'THE_FIRST_PART_OF_KING_HENRY_THE_FOURTH_POINS', 'THE_FIRST_PART_OF_KING_HENRY_THE_FOURTH_WOR', 'THE_FIRST_PART_OF_KING_HENRY_THE_FOURTH_NORTH', 'THE_FIRST_PART_OF_KING_HENRY_THE_FOURTH_HOT', 'THE_FIRST_PART_OF_KING_HENRY_THE_FOURTH_BLUNT', 'THE_FIRST_PART_OF_KING_HENRY_THE_FOURTH_OST', 'THE_FIRST_PART_OF_KING_HENRY_THE_FOURTH_GADS', 'THE_FIRST_PART_OF_KING_HENRY_THE_FOURTH_CHAM', 'THE_FIRST_PART_OF_KING_HENRY_THE_FOURTH_PETO', 'THE_FIRST_PART_OF_KING_HENRY_THE_FOURTH_TRAVELLER', 'THE_FIRST_PART_OF_KING_HENRY_THE_FOURTH_LADY', 'THE_FIRST_PART_OF_KING_HENRY_THE_FOURTH_SERV', 'THE_FIRST_PART_OF_KING_HENRY_THE_FOURTH_FRAN', 'THE_FIRST_PART_OF_KING_HENRY_THE_FOURTH_VINT', 'THE_FIRST_PART_OF_KING_HENRY_THE_FOURTH_HOST', 'THE_FIRST_PART_OF_KING_HENRY_THE_FOURTH_BARD', 'THE_FIRST_PART_OF_KING_HENRY_THE_FOURTH_SHER', 'THE_FIRST_PART_OF_KING_HENRY_THE_FOURTH_MORT', 'THE_FIRST_PART_OF_KING_HENRY_THE_FOURTH_GLEND', 'THE_FIRST_PART_OF_KING_HENRY_THE_FOURTH_LADY_P', 'THE_FIRST_PART_OF_KING_HENRY_THE_FOURTH_DOUG', 'THE_FIRST_PART_OF_KING_HENRY_THE_FOURTH_MESS', 'THE_FIRST_PART_OF_KING_HENRY_THE_FOURTH_VER', 'THE_FIRST_PART_OF_KING_HENRY_THE_FOURTH_ARCH', 'THE_FIRST_PART_OF_KING_HENRY_THE_FOURTH_SIR_M', 'THE_FIRST_PART_OF_KING_HENRY_THE_FOURTH_JOHN', 'SECOND_PART_OF_KING_HENRY_IV_RUMOUR', 'SECOND_PART_OF_KING_HENRY_IV_LORD_BARDOLPH', 'SECOND_PART_OF_KING_HENRY_IV_PORTER', 'SECOND_PART_OF_KING_HENRY_IV_NORTHUMBERLAND', 'SECOND_PART_OF_KING_HENRY_IV_TRAVERS', 'SECOND_PART_OF_KING_HENRY_IV_MORTON', 'SECOND_PART_OF_KING_HENRY_IV_FALSTAFF', 'SECOND_PART_OF_KING_HENRY_IV_PAGE', 'SECOND_PART_OF_KING_HENRY_IV_CHIEF_JUSTICE', 'SECOND_PART_OF_KING_HENRY_IV_SERVANT', 'SECOND_PART_OF_KING_HENRY_IV_ARCHBISHOP', 'SECOND_PART_OF_KING_HENRY_IV_MOWBRAY', 'SECOND_PART_OF_KING_HENRY_IV_HASTINGS', 'SECOND_PART_OF_KING_HENRY_IV_HOSTESS', 'SECOND_PART_OF_KING_HENRY_IV_FANG', 'SECOND_PART_OF_KING_HENRY_IV_GOWER', 'SECOND_PART_OF_KING_HENRY_IV_PRINCE', 'SECOND_PART_OF_KING_HENRY_IV_POINS', 'SECOND_PART_OF_KING_HENRY_IV_BARDOLPH', 'SECOND_PART_OF_KING_HENRY_IV_LADY_NORTHUMBERLAND', 'SECOND_PART_OF_KING_HENRY_IV_LADY_PERCY', 'SECOND_PART_OF_KING_HENRY_IV_FRANCIS', 'SECOND_PART_OF_KING_HENRY_IV_SECOND_DRAWER', 'SECOND_PART_OF_KING_HENRY_IV_THIRD_DRAWER', 'SECOND_PART_OF_KING_HENRY_IV_DOLL', 'SECOND_PART_OF_KING_HENRY_IV_PISTOL', 'SECOND_PART_OF_KING_HENRY_IV_PETO', 'SECOND_PART_OF_KING_HENRY_IV_KING', 'SECOND_PART_OF_KING_HENRY_IV_WARWICK', 'SECOND_PART_OF_KING_HENRY_IV_SHALLOW', 'SECOND_PART_OF_KING_HENRY_IV_SILENCE', 'SECOND_PART_OF_KING_HENRY_IV_MOULDY', 'SECOND_PART_OF_KING_HENRY_IV_FEEBLE', 'SECOND_PART_OF_KING_HENRY_IV_BULLCALF', 'SECOND_PART_OF_KING_HENRY_IV_MESSENGER', 'SECOND_PART_OF_KING_HENRY_IV_WESTMORELAND', 'SECOND_PART_OF_KING_HENRY_IV_PRINCE_JOHN', 'SECOND_PART_OF_KING_HENRY_IV_COLVILLE', 'SECOND_PART_OF_KING_HENRY_IV_PRINCE_HUMPHREY', 'SECOND_PART_OF_KING_HENRY_IV_CLARENCE', 'SECOND_PART_OF_KING_HENRY_IV_HARCOURT', 'SECOND_PART_OF_KING_HENRY_IV_DAVY', 'SECOND_PART_OF_KING_HENRY_IV_FIRST_BEADLE', 'SECOND_PART_OF_KING_HENRY_IV_THIRD_GROOM', 'THE_LIFE_OF_KING_HENRY_THE_FIFTH_KING_HENRY', 'THE_LIFE_OF_KING_HENRY_THE_FIFTH_EXETER', 'THE_LIFE_OF_KING_HENRY_THE_FIFTH_WESTMORELAND', 'THE_LIFE_OF_KING_HENRY_THE_FIFTH_CANTERBURY', 'THE_LIFE_OF_KING_HENRY_THE_FIFTH_ELY', 'THE_LIFE_OF_KING_HENRY_THE_FIFTH_AMBASSADOR', 'THE_LIFE_OF_KING_HENRY_THE_FIFTH_CHORUS', 'THE_LIFE_OF_KING_HENRY_THE_FIFTH_BARDOLPH', 'THE_LIFE_OF_KING_HENRY_THE_FIFTH_NYM', 'THE_LIFE_OF_KING_HENRY_THE_FIFTH_PISTOL', 'THE_LIFE_OF_KING_HENRY_THE_FIFTH_HOSTESS', 'THE_LIFE_OF_KING_HENRY_THE_FIFTH_BOY', 'THE_LIFE_OF_KING_HENRY_THE_FIFTH_BEDFORD', 'THE_LIFE_OF_KING_HENRY_THE_FIFTH_SCROOP', 'THE_LIFE_OF_KING_HENRY_THE_FIFTH_CAMBRIDGE', 'THE_LIFE_OF_KING_HENRY_THE_FIFTH_GREY', 'THE_LIFE_OF_KING_HENRY_THE_FIFTH_FRENCH_KING', 'THE_LIFE_OF_KING_HENRY_THE_FIFTH_DAUPHIN', 'THE_LIFE_OF_KING_HENRY_THE_FIFTH_CONSTABLE', 'THE_LIFE_OF_KING_HENRY_THE_FIFTH_MESSENGER', 'THE_LIFE_OF_KING_HENRY_THE_FIFTH_KING', 'THE_LIFE_OF_KING_HENRY_THE_FIFTH_FLUELLEN', 'THE_LIFE_OF_KING_HENRY_THE_FIFTH_GOWER', 'THE_LIFE_OF_KING_HENRY_THE_FIFTH_JAMY', 'THE_LIFE_OF_KING_HENRY_THE_FIFTH_MACMORRIS', 'THE_LIFE_OF_KING_HENRY_THE_FIFTH_GOVERNOR', 'THE_LIFE_OF_KING_HENRY_THE_FIFTH_KATHERINE', 'THE_LIFE_OF_KING_HENRY_THE_FIFTH_ALICE', 'THE_LIFE_OF_KING_HENRY_THE_FIFTH_BRITAINE', 'THE_LIFE_OF_KING_HENRY_THE_FIFTH_MONTJOY', 'THE_LIFE_OF_KING_HENRY_THE_FIFTH_GLOUCESTER', 'THE_LIFE_OF_KING_HENRY_THE_FIFTH_ORLEANS', 'THE_LIFE_OF_KING_HENRY_THE_FIFTH_RAMBURES', 'THE_LIFE_OF_KING_HENRY_THE_FIFTH_ERPINGHAM', 'THE_LIFE_OF_KING_HENRY_THE_FIFTH_BATES', 'THE_LIFE_OF_KING_HENRY_THE_FIFTH_WILLIAMS', 'THE_LIFE_OF_KING_HENRY_THE_FIFTH_GRANDPRE', 'THE_LIFE_OF_KING_HENRY_THE_FIFTH_SALISBURY', 'THE_LIFE_OF_KING_HENRY_THE_FIFTH_FRENCH_SOLDIER', 'THE_LIFE_OF_KING_HENRY_THE_FIFTH_BOURBON', 'THE_LIFE_OF_KING_HENRY_THE_FIFTH_QUEEN_ISABEL', 'THE_LIFE_OF_KING_HENRY_THE_FIFTH_BURGUNDY', 'THE_FIRST_PART_OF_HENRY_THE_SIXTH_BEDFORD', 'THE_FIRST_PART_OF_HENRY_THE_SIXTH_GLOUCESTER', 'THE_FIRST_PART_OF_HENRY_THE_SIXTH_EXETER', 'THE_FIRST_PART_OF_HENRY_THE_SIXTH_WINCHESTER', 'THE_FIRST_PART_OF_HENRY_THE_SIXTH_MESSENGER', 'THE_FIRST_PART_OF_HENRY_THE_SIXTH_SECOND_MESSENGER', 'THE_FIRST_PART_OF_HENRY_THE_SIXTH_THIRD_MESSENGER', 'THE_FIRST_PART_OF_HENRY_THE_SIXTH_CHARLES', 'THE_FIRST_PART_OF_HENRY_THE_SIXTH_ALENCON', 'THE_FIRST_PART_OF_HENRY_THE_SIXTH_REIGNIER', 'THE_FIRST_PART_OF_HENRY_THE_SIXTH_BASTARD', 'THE_FIRST_PART_OF_HENRY_THE_SIXTH_PUCELLE', 'THE_FIRST_PART_OF_HENRY_THE_SIXTH_FIRST_WARDER', 'THE_FIRST_PART_OF_HENRY_THE_SIXTH_SECOND_WARDER', 'THE_FIRST_PART_OF_HENRY_THE_SIXTH_WOODVILLE', 'THE_FIRST_PART_OF_HENRY_THE_SIXTH_MAYOR', 'THE_FIRST_PART_OF_HENRY_THE_SIXTH_OFFICER', 'THE_FIRST_PART_OF_HENRY_THE_SIXTH_BOY', 'THE_FIRST_PART_OF_HENRY_THE_SIXTH_SALISBURY', 'THE_FIRST_PART_OF_HENRY_THE_SIXTH_TALBOT', 'THE_FIRST_PART_OF_HENRY_THE_SIXTH_SERGEANT', 'THE_FIRST_PART_OF_HENRY_THE_SIXTH_FIRST_SENTINEL', 'THE_FIRST_PART_OF_HENRY_THE_SIXTH_BURGUNDY', 'THE_FIRST_PART_OF_HENRY_THE_SIXTH_SOLDIER', 'THE_FIRST_PART_OF_HENRY_THE_SIXTH_CAPTAIN', 'THE_FIRST_PART_OF_HENRY_THE_SIXTH_COUNTESS', 'THE_FIRST_PART_OF_HENRY_THE_SIXTH_PLANTAGENET', 'THE_FIRST_PART_OF_HENRY_THE_SIXTH_SUFFOLK', 'THE_FIRST_PART_OF_HENRY_THE_SIXTH_SOMERSET', 'THE_FIRST_PART_OF_HENRY_THE_SIXTH_WARWICK', 'THE_FIRST_PART_OF_HENRY_THE_SIXTH_VERNON', 'THE_FIRST_PART_OF_HENRY_THE_SIXTH_LAWYER', 'THE_FIRST_PART_OF_HENRY_THE_SIXTH_MORTIMER', 'THE_FIRST_PART_OF_HENRY_THE_SIXTH_FIRST_KEEPER', 'THE_FIRST_PART_OF_HENRY_THE_SIXTH_KING_HENRY', 'THE_FIRST_PART_OF_HENRY_THE_SIXTH_FIRST_SOLDIER', 'THE_FIRST_PART_OF_HENRY_THE_SIXTH_FASTOLFE', 'THE_FIRST_PART_OF_HENRY_THE_SIXTH_BASSET', 'THE_FIRST_PART_OF_HENRY_THE_SIXTH_YORK', 'THE_FIRST_PART_OF_HENRY_THE_SIXTH_GENERAL_OF_THE_FRENCH', 'THE_FIRST_PART_OF_HENRY_THE_SIXTH_LUCY', 'THE_FIRST_PART_OF_HENRY_THE_SIXTH_JOHN', 'THE_FIRST_PART_OF_HENRY_THE_SIXTH_SCOUT', 'THE_FIRST_PART_OF_HENRY_THE_SIXTH_MARGARET', 'THE_FIRST_PART_OF_HENRY_THE_SIXTH_SHEPHERD', 'THE_FIRST_PART_OF_HENRY_THE_SIXTH_CARDINAL', 'THE_SECOND_PART_OF_KING_HENRY_THE_SIXTH_SUFFOLK', 'THE_SECOND_PART_OF_KING_HENRY_THE_SIXTH_KING_HENRY', 'THE_SECOND_PART_OF_KING_HENRY_THE_SIXTH_QUEEN', 'THE_SECOND_PART_OF_KING_HENRY_THE_SIXTH_ALL', 'THE_SECOND_PART_OF_KING_HENRY_THE_SIXTH_GLOUCESTER', 'THE_SECOND_PART_OF_KING_HENRY_THE_SIXTH_CARDINAL', 'THE_SECOND_PART_OF_KING_HENRY_THE_SIXTH_SALISBURY', 'THE_SECOND_PART_OF_KING_HENRY_THE_SIXTH_WARWICK', 'THE_SECOND_PART_OF_KING_HENRY_THE_SIXTH_YORK', 'THE_SECOND_PART_OF_KING_HENRY_THE_SIXTH_BUCKINGHAM', 'THE_SECOND_PART_OF_KING_HENRY_THE_SIXTH_SOMERSET', 'THE_SECOND_PART_OF_KING_HENRY_THE_SIXTH_DUCHESS', 'THE_SECOND_PART_OF_KING_HENRY_THE_SIXTH_MESSENGER', 'THE_SECOND_PART_OF_KING_HENRY_THE_SIXTH_HUME', 'THE_SECOND_PART_OF_KING_HENRY_THE_SIXTH_FIRST_PETITIONER', 'THE_SECOND_PART_OF_KING_HENRY_THE_SIXTH_SECOND_PETITIONER', 'THE_SECOND_PART_OF_KING_HENRY_THE_SIXTH_PETER', 'THE_SECOND_PART_OF_KING_HENRY_THE_SIXTH_HORNER', 'THE_SECOND_PART_OF_KING_HENRY_THE_SIXTH_BOLINGBROKE', 'THE_SECOND_PART_OF_KING_HENRY_THE_SIXTH_SPIRIT', 'THE_SECOND_PART_OF_KING_HENRY_THE_SIXTH_MARGERY_JOURDAIN', 'THE_SECOND_PART_OF_KING_HENRY_THE_SIXTH_TOWNSMAN', 'THE_SECOND_PART_OF_KING_HENRY_THE_SIXTH_SIMPCOX', 'THE_SECOND_PART_OF_KING_HENRY_THE_SIXTH_WIFE', 'THE_SECOND_PART_OF_KING_HENRY_THE_SIXTH_MAYOR', 'THE_SECOND_PART_OF_KING_HENRY_THE_SIXTH_SHERIFF', 'THE_SECOND_PART_OF_KING_HENRY_THE_SIXTH_STANLEY', 'THE_SECOND_PART_OF_KING_HENRY_THE_SIXTH_POST', 'THE_SECOND_PART_OF_KING_HENRY_THE_SIXTH_FIRST_MURDERER', 'THE_SECOND_PART_OF_KING_HENRY_THE_SIXTH_SECOND_MURDERER', 'THE_SECOND_PART_OF_KING_HENRY_THE_SIXTH_KING', 'THE_SECOND_PART_OF_KING_HENRY_THE_SIXTH_VAUX', 'THE_SECOND_PART_OF_KING_HENRY_THE_SIXTH_LIEUTENANT', 'THE_SECOND_PART_OF_KING_HENRY_THE_SIXTH_FIRST_GENTLEMAN', 'THE_SECOND_PART_OF_KING_HENRY_THE_SIXTH_WHITMORE', 'THE_SECOND_PART_OF_KING_HENRY_THE_SIXTH_GEORGE', 'THE_SECOND_PART_OF_KING_HENRY_THE_SIXTH_JOHN', 'THE_SECOND_PART_OF_KING_HENRY_THE_SIXTH_CADE', 'THE_SECOND_PART_OF_KING_HENRY_THE_SIXTH_DICK', 'THE_SECOND_PART_OF_KING_HENRY_THE_SIXTH_SMITH', 'THE_SECOND_PART_OF_KING_HENRY_THE_SIXTH_CLERK', 'THE_SECOND_PART_OF_KING_HENRY_THE_SIXTH_MICHAEL', 'THE_SECOND_PART_OF_KING_HENRY_THE_SIXTH_STAFFORD', 'THE_SECOND_PART_OF_KING_HENRY_THE_SIXTH_WILLIAM_STAFFORD', 'THE_SECOND_PART_OF_KING_HENRY_THE_SIXTH_SAY', 'THE_SECOND_PART_OF_KING_HENRY_THE_SIXTH_SECOND_MESSENGER', 'THE_SECOND_PART_OF_KING_HENRY_THE_SIXTH_SCALES', 'THE_SECOND_PART_OF_KING_HENRY_THE_SIXTH_FIRST_CITIZEN', 'THE_SECOND_PART_OF_KING_HENRY_THE_SIXTH_CLIFFORD', 'THE_SECOND_PART_OF_KING_HENRY_THE_SIXTH_IDEN', 'THE_SECOND_PART_OF_KING_HENRY_THE_SIXTH_RICHARD', 'THE_SECOND_PART_OF_KING_HENRY_THE_SIXTH_YOUNG_CLIFFORD', 'THE_THIRD_PART_OF_KING_HENRY_THE_SIXTH_WARWICK', 'THE_THIRD_PART_OF_KING_HENRY_THE_SIXTH_YORK', 'THE_THIRD_PART_OF_KING_HENRY_THE_SIXTH_EDWARD', 'THE_THIRD_PART_OF_KING_HENRY_THE_SIXTH_MONTAGUE', 'THE_THIRD_PART_OF_KING_HENRY_THE_SIXTH_RICHARD', 'THE_THIRD_PART_OF_KING_HENRY_THE_SIXTH_NORFOLK', 'THE_THIRD_PART_OF_KING_HENRY_THE_SIXTH_KING_HENRY', 'THE_THIRD_PART_OF_KING_HENRY_THE_SIXTH_NORTHUMBERLAND', 'THE_THIRD_PART_OF_KING_HENRY_THE_SIXTH_CLIFFORD', 'THE_THIRD_PART_OF_KING_HENRY_THE_SIXTH_WESTMORELAND', 'THE_THIRD_PART_OF_KING_HENRY_THE_SIXTH_EXETER', 'THE_THIRD_PART_OF_KING_HENRY_THE_SIXTH_QUEEN_MARGARET', 'THE_THIRD_PART_OF_KING_HENRY_THE_SIXTH_PRINCE_OF_WALES', 'THE_THIRD_PART_OF_KING_HENRY_THE_SIXTH_MESSENGER', 'THE_THIRD_PART_OF_KING_HENRY_THE_SIXTH_RUTLAND', 'THE_THIRD_PART_OF_KING_HENRY_THE_SIXTH_TUTOR', 'THE_THIRD_PART_OF_KING_HENRY_THE_SIXTH_GEORGE', 'THE_THIRD_PART_OF_KING_HENRY_THE_SIXTH_SON', 'THE_THIRD_PART_OF_KING_HENRY_THE_SIXTH_FATHER', 'THE_THIRD_PART_OF_KING_HENRY_THE_SIXTH_FIRST_KEEPER', 'THE_THIRD_PART_OF_KING_HENRY_THE_SIXTH_SECOND_KEEPER', 'THE_THIRD_PART_OF_KING_HENRY_THE_SIXTH_KING_EDWARD', 'THE_THIRD_PART_OF_KING_HENRY_THE_SIXTH_GLOUCESTER', 'THE_THIRD_PART_OF_KING_HENRY_THE_SIXTH_CLARENCE', 'THE_THIRD_PART_OF_KING_HENRY_THE_SIXTH_LADY_GREY', 'THE_THIRD_PART_OF_KING_HENRY_THE_SIXTH_LEWIS', 'THE_THIRD_PART_OF_KING_HENRY_THE_SIXTH_OXFORD', 'THE_THIRD_PART_OF_KING_HENRY_THE_SIXTH_BONA', 'THE_THIRD_PART_OF_KING_HENRY_THE_SIXTH_POST', 'THE_THIRD_PART_OF_KING_HENRY_THE_SIXTH_SOMERSET', 'THE_THIRD_PART_OF_KING_HENRY_THE_SIXTH_HASTINGS', 'THE_THIRD_PART_OF_KING_HENRY_THE_SIXTH_QUEEN_ELIZABETH', 'THE_THIRD_PART_OF_KING_HENRY_THE_SIXTH_FIRST_WATCHMAN', 'THE_THIRD_PART_OF_KING_HENRY_THE_SIXTH_SECOND_WATCHMAN', 'THE_THIRD_PART_OF_KING_HENRY_THE_SIXTH_THIRD_WATCHMAN', 'THE_THIRD_PART_OF_KING_HENRY_THE_SIXTH_RIVERS', 'THE_THIRD_PART_OF_KING_HENRY_THE_SIXTH_LIEUTENANT', 'THE_THIRD_PART_OF_KING_HENRY_THE_SIXTH_MAYOR', 'THE_THIRD_PART_OF_KING_HENRY_THE_SIXTH_MONTGOMERY', 'THE_THIRD_PART_OF_KING_HENRY_THE_SIXTH_SOMERVILLE', 'KING_HENRY_THE_EIGHTH_BUCKINGHAM', 'KING_HENRY_THE_EIGHTH_NORFOLK', 'KING_HENRY_THE_EIGHTH_ABERGAVENNY', 'KING_HENRY_THE_EIGHTH_WOLSEY', 'KING_HENRY_THE_EIGHTH_BRANDON', 'KING_HENRY_THE_EIGHTH_SERGEANT', 'KING_HENRY_THE_EIGHTH_KING', 'KING_HENRY_THE_EIGHTH_QUEEN_KATHARINE', 'KING_HENRY_THE_EIGHTH_SURVEYOR', 'KING_HENRY_THE_EIGHTH_CHAMBERLAIN', 'KING_HENRY_THE_EIGHTH_SANDYS', 'KING_HENRY_THE_EIGHTH_LOVELL', 'KING_HENRY_THE_EIGHTH_GUILDFORD', 'KING_HENRY_THE_EIGHTH_ANNE', 'KING_HENRY_THE_EIGHTH_SERVANT', 'KING_HENRY_THE_EIGHTH_FIRST_GENTLEMAN', 'KING_HENRY_THE_EIGHTH_SECOND_GENTLEMAN', 'KING_HENRY_THE_EIGHTH_VAUX', 'KING_HENRY_THE_EIGHTH_SUFFOLK', 'KING_HENRY_THE_EIGHTH_KING_HENRY', 'KING_HENRY_THE_EIGHTH_CAMPEIUS', 'KING_HENRY_THE_EIGHTH_GARDINER', 'KING_HENRY_THE_EIGHTH_OLD_LADY', 'KING_HENRY_THE_EIGHTH_CRIER', 'KING_HENRY_THE_EIGHTH_LINCOLN', 'KING_HENRY_THE_EIGHTH_GENTLEMAN', 'KING_HENRY_THE_EIGHTH_SURREY', 'KING_HENRY_THE_EIGHTH_CROMWELL', 'KING_HENRY_THE_EIGHTH_THIRD_GENTLEMAN', 'KING_HENRY_THE_EIGHTH_GRIFFITH', 'KING_HENRY_THE_EIGHTH_KATHARINE', 'KING_HENRY_THE_EIGHTH_PATIENCE', 'KING_HENRY_THE_EIGHTH_MESSENGER', 'KING_HENRY_THE_EIGHTH_CAPUCIUS', 'KING_HENRY_THE_EIGHTH_DENNY', 'KING_HENRY_THE_EIGHTH_CRANMER', 'KING_HENRY_THE_EIGHTH_KEEPER', 'KING_HENRY_THE_EIGHTH_BUTTS', 'KING_HENRY_THE_EIGHTH_CHANCELLOR', 'KING_HENRY_THE_EIGHTH_PORTER', 'KING_HENRY_THE_EIGHTH_MAN', 'KING_HENRY_THE_EIGHTH_GARTER', 'KING_JOHN_KING_JOHN', 'KING_JOHN_CHATILLON', 'KING_JOHN_ELINOR', 'KING_JOHN_ESSEX', 'KING_JOHN_BASTARD', 'KING_JOHN_ROBERT', 'KING_JOHN_LADY_FAULCONBRIDGE', 'KING_JOHN_KING_PHILIP', 'KING_JOHN_ARTHUR', 'KING_JOHN_AUSTRIA', 'KING_JOHN_CONSTANCE', 'KING_JOHN_BLANCH', 'KING_JOHN_CITIZEN', 'KING_JOHN_FRENCH_HERALD', 'KING_JOHN_ENGLISH_HERALD', 'KING_JOHN_LEWIS', 'KING_JOHN_SALISBURY', 'KING_JOHN_PANDULPH', 'KING_JOHN_HUBERT', 'KING_JOHN_EXECUTIONER', 'KING_JOHN_PEMBROKE', 'KING_JOHN_MESSENGER', 'KING_JOHN_BIGOT', 'KING_JOHN_MELUN', 'KING_JOHN_PRINCE_HENRY', 'THE_TRAGEDY_OF_JULIUS_CAESAR_FLAVIUS', 'THE_TRAGEDY_OF_JULIUS_CAESAR_MARULLUS', 'THE_TRAGEDY_OF_JULIUS_CAESAR_SECOND_COMMONER', 'THE_TRAGEDY_OF_JULIUS_CAESAR_CAESAR', 'THE_TRAGEDY_OF_JULIUS_CAESAR_CASCA', 'THE_TRAGEDY_OF_JULIUS_CAESAR_CALPURNIA', 'THE_TRAGEDY_OF_JULIUS_CAESAR_ANTONY', 'THE_TRAGEDY_OF_JULIUS_CAESAR_SOOTHSAYER', 'THE_TRAGEDY_OF_JULIUS_CAESAR_BRUTUS', 'THE_TRAGEDY_OF_JULIUS_CAESAR_CASSIUS', 'THE_TRAGEDY_OF_JULIUS_CAESAR_CICERO', 'THE_TRAGEDY_OF_JULIUS_CAESAR_CINNA', 'THE_TRAGEDY_OF_JULIUS_CAESAR_LUCIUS', 'THE_TRAGEDY_OF_JULIUS_CAESAR_DECIUS', 'THE_TRAGEDY_OF_JULIUS_CAESAR_METELLUS', 'THE_TRAGEDY_OF_JULIUS_CAESAR_TREBONIUS', 'THE_TRAGEDY_OF_JULIUS_CAESAR_PORTIA', 'THE_TRAGEDY_OF_JULIUS_CAESAR_LIGARIUS', 'THE_TRAGEDY_OF_JULIUS_CAESAR_SERVANT', 'THE_TRAGEDY_OF_JULIUS_CAESAR_ARTEMIDORUS', 'THE_TRAGEDY_OF_JULIUS_CAESAR_POPILIUS', 'THE_TRAGEDY_OF_JULIUS_CAESAR_FIRST_CITIZEN', 'THE_TRAGEDY_OF_JULIUS_CAESAR_SECOND_CITIZEN', 'THE_TRAGEDY_OF_JULIUS_CAESAR_THIRD_CITIZEN', 'THE_TRAGEDY_OF_JULIUS_CAESAR_ALL', 'THE_TRAGEDY_OF_JULIUS_CAESAR_FOURTH_CITIZEN', 'THE_TRAGEDY_OF_JULIUS_CAESAR_OCTAVIUS', 'THE_TRAGEDY_OF_JULIUS_CAESAR_LEPIDUS', 'THE_TRAGEDY_OF_JULIUS_CAESAR_LUCILIUS', 'THE_TRAGEDY_OF_JULIUS_CAESAR_PINDARUS', 'THE_TRAGEDY_OF_JULIUS_CAESAR_FIRST_SOLDIER', 'THE_TRAGEDY_OF_JULIUS_CAESAR_POET', 'THE_TRAGEDY_OF_JULIUS_CAESAR_MESSALA', 'THE_TRAGEDY_OF_JULIUS_CAESAR_TITINIUS', 'THE_TRAGEDY_OF_JULIUS_CAESAR_VARRO', 'THE_TRAGEDY_OF_JULIUS_CAESAR_GHOST', 'THE_TRAGEDY_OF_JULIUS_CAESAR_MESSENGER', 'THE_TRAGEDY_OF_JULIUS_CAESAR_CATO', 'THE_TRAGEDY_OF_JULIUS_CAESAR_CLITUS', 'THE_TRAGEDY_OF_JULIUS_CAESAR_DARDANIUS', 'THE_TRAGEDY_OF_JULIUS_CAESAR_VOLUMNIUS', 'THE_TRAGEDY_OF_JULIUS_CAESAR_STRATO', 'THE_TRAGEDY_OF_KING_LEAR_KENT', 'THE_TRAGEDY_OF_KING_LEAR_GLOU', 'THE_TRAGEDY_OF_KING_LEAR_EDM', 'THE_TRAGEDY_OF_KING_LEAR_LEAR', 'THE_TRAGEDY_OF_KING_LEAR_GON', 'THE_TRAGEDY_OF_KING_LEAR_COR', 'THE_TRAGEDY_OF_KING_LEAR_REG', 'THE_TRAGEDY_OF_KING_LEAR_BUR', 'THE_TRAGEDY_OF_KING_LEAR_FRANCE', 'THE_TRAGEDY_OF_KING_LEAR_EDG', 'THE_TRAGEDY_OF_KING_LEAR_OSW', 'THE_TRAGEDY_OF_KING_LEAR_KNIGHT', 'THE_TRAGEDY_OF_KING_LEAR_FOOL', 'THE_TRAGEDY_OF_KING_LEAR_ALB', 'THE_TRAGEDY_OF_KING_LEAR_GENT', 'THE_TRAGEDY_OF_KING_LEAR_CUR', 'THE_TRAGEDY_OF_KING_LEAR_CORN', 'THE_TRAGEDY_OF_KING_LEAR_OLD_MAN', 'THE_TRAGEDY_OF_KING_LEAR_DOCT', 'THE_TRAGEDY_OF_KING_LEAR_CAPT', 'THE_TRAGEDY_OF_KING_LEAR_HER', \"LOVE'S_LABOUR'S_LOST_KING\", \"LOVE'S_LABOUR'S_LOST_LONGAVILLE\", \"LOVE'S_LABOUR'S_LOST_DUMAIN\", \"LOVE'S_LABOUR'S_LOST_BEROWNE\", \"LOVE'S_LABOUR'S_LOST_DULL\", \"LOVE'S_LABOUR'S_LOST_COSTARD\", \"LOVE'S_LABOUR'S_LOST_ARMADO\", \"LOVE'S_LABOUR'S_LOST_MOTH\", \"LOVE'S_LABOUR'S_LOST_JAQUENETTA\", \"LOVE'S_LABOUR'S_LOST_BOYET\", \"LOVE'S_LABOUR'S_LOST_PRINCESS_OF_FRANCE\", \"LOVE'S_LABOUR'S_LOST_FIRST_LORD\", \"LOVE'S_LABOUR'S_LOST_MARIA\", \"LOVE'S_LABOUR'S_LOST_KATHARINE\", \"LOVE'S_LABOUR'S_LOST_ROSALINE\", \"LOVE'S_LABOUR'S_LOST_FORESTER\", \"LOVE'S_LABOUR'S_LOST_NATHANIEL\", \"LOVE'S_LABOUR'S_LOST_HOLOFERNES\", \"LOVE'S_LABOUR'S_LOST_MARCADE\", 'THE_TRAGEDY_OF_MACBETH_FIRST_WITCH', 'THE_TRAGEDY_OF_MACBETH_SECOND_WITCH', 'THE_TRAGEDY_OF_MACBETH_THIRD_WITCH', 'THE_TRAGEDY_OF_MACBETH_ALL', 'THE_TRAGEDY_OF_MACBETH_DUNCAN', 'THE_TRAGEDY_OF_MACBETH_MALCOLM', 'THE_TRAGEDY_OF_MACBETH_SERGEANT', 'THE_TRAGEDY_OF_MACBETH_LENNOX', 'THE_TRAGEDY_OF_MACBETH_ROSS', 'THE_TRAGEDY_OF_MACBETH_MACBETH', 'THE_TRAGEDY_OF_MACBETH_BANQUO', 'THE_TRAGEDY_OF_MACBETH_ANGUS', 'THE_TRAGEDY_OF_MACBETH_LADY_MACBETH', 'THE_TRAGEDY_OF_MACBETH_MESSENGER', 'THE_TRAGEDY_OF_MACBETH_PORTER', 'THE_TRAGEDY_OF_MACBETH_MACDUFF', 'THE_TRAGEDY_OF_MACBETH_DONALBAIN', 'THE_TRAGEDY_OF_MACBETH_OLD_MAN', 'THE_TRAGEDY_OF_MACBETH_FIRST_MURTHERER', 'THE_TRAGEDY_OF_MACBETH_SECOND_MURTHERER', 'THE_TRAGEDY_OF_MACBETH_SERVANT', 'THE_TRAGEDY_OF_MACBETH_THIRD_MURTHERER', 'THE_TRAGEDY_OF_MACBETH_LORDS', 'THE_TRAGEDY_OF_MACBETH_MURTHERER', 'THE_TRAGEDY_OF_MACBETH_HECATE', 'THE_TRAGEDY_OF_MACBETH_LORD', 'THE_TRAGEDY_OF_MACBETH_FIRST_APPARITION', 'THE_TRAGEDY_OF_MACBETH_SECOND_APPARITION', 'THE_TRAGEDY_OF_MACBETH_THIRD_APPARITION', 'THE_TRAGEDY_OF_MACBETH_LADY_MACDUFF', 'THE_TRAGEDY_OF_MACBETH_SON', 'THE_TRAGEDY_OF_MACBETH_DOCTOR', 'THE_TRAGEDY_OF_MACBETH_GENTLEWOMAN', 'THE_TRAGEDY_OF_MACBETH_MENTEITH', 'THE_TRAGEDY_OF_MACBETH_CAITHNESS', 'THE_TRAGEDY_OF_MACBETH_SEYTON', 'THE_TRAGEDY_OF_MACBETH_SIWARD', 'THE_TRAGEDY_OF_MACBETH_YOUNG_SIWARD', 'MEASURE_FOR_MEASURE_DUKE', 'MEASURE_FOR_MEASURE_ESCALUS', 'MEASURE_FOR_MEASURE_ANGELO', 'MEASURE_FOR_MEASURE_LUCIO', 'MEASURE_FOR_MEASURE_FIRST_GENTLEMAN', 'MEASURE_FOR_MEASURE_SECOND_GENTLEMAN', 'MEASURE_FOR_MEASURE_MRS', 'MEASURE_FOR_MEASURE_POMPEY', 'MEASURE_FOR_MEASURE_CLAUDIO', 'MEASURE_FOR_MEASURE_PROVOST', 'MEASURE_FOR_MEASURE_FRIAR', 'MEASURE_FOR_MEASURE_ISABELLA', 'MEASURE_FOR_MEASURE_FRANCISCA', 'MEASURE_FOR_MEASURE_ELBOW', 'MEASURE_FOR_MEASURE_FROTH', 'MEASURE_FOR_MEASURE_JUSTICE', 'MEASURE_FOR_MEASURE_SERVANT', 'MEASURE_FOR_MEASURE_JULIET', 'MEASURE_FOR_MEASURE_MARIANA', 'MEASURE_FOR_MEASURE_ABHORSON', 'MEASURE_FOR_MEASURE_MESSENGER', 'MEASURE_FOR_MEASURE_BARNARDINE', 'MEASURE_FOR_MEASURE_PETER', 'THE_MERCHANT_OF_VENICE_ANTONIO', 'THE_MERCHANT_OF_VENICE_SALERIO', 'THE_MERCHANT_OF_VENICE_SOLANIO', 'THE_MERCHANT_OF_VENICE_BASSANIO', 'THE_MERCHANT_OF_VENICE_LORENZO', 'THE_MERCHANT_OF_VENICE_GRATIANO', 'THE_MERCHANT_OF_VENICE_PORTIA', 'THE_MERCHANT_OF_VENICE_NERISSA', 'THE_MERCHANT_OF_VENICE_SERVINGMAN', 'THE_MERCHANT_OF_VENICE_SHYLOCK', 'THE_MERCHANT_OF_VENICE_PRINCE_OF_MOROCCO', 'THE_MERCHANT_OF_VENICE_LAUNCELOT', 'THE_MERCHANT_OF_VENICE_GOBBO', 'THE_MERCHANT_OF_VENICE_LEONARDO', 'THE_MERCHANT_OF_VENICE_JESSICA', 'THE_MERCHANT_OF_VENICE_ARRAGON', 'THE_MERCHANT_OF_VENICE_SERVANT', 'THE_MERCHANT_OF_VENICE_TUBAL', 'THE_MERCHANT_OF_VENICE_DUKE_OF_VENICE', 'THE_MERCHANT_OF_VENICE_CLERK', 'THE_MERCHANT_OF_VENICE_STEPHANO', 'THE_MERRY_WIVES_OF_WINDSOR_SHALLOW', 'THE_MERRY_WIVES_OF_WINDSOR_SLENDER', 'THE_MERRY_WIVES_OF_WINDSOR_EVANS', 'THE_MERRY_WIVES_OF_WINDSOR_PAGE', 'THE_MERRY_WIVES_OF_WINDSOR_FALSTAFF', 'THE_MERRY_WIVES_OF_WINDSOR_BARDOLPH', 'THE_MERRY_WIVES_OF_WINDSOR_PISTOL', 'THE_MERRY_WIVES_OF_WINDSOR_NYM', 'THE_MERRY_WIVES_OF_WINDSOR_SIMPLE', 'THE_MERRY_WIVES_OF_WINDSOR_ANNE', 'THE_MERRY_WIVES_OF_WINDSOR_HOST', 'THE_MERRY_WIVES_OF_WINDSOR_QUICKLY', 'THE_MERRY_WIVES_OF_WINDSOR_RUGBY', 'THE_MERRY_WIVES_OF_WINDSOR_CAIUS', 'THE_MERRY_WIVES_OF_WINDSOR_FENTON', 'THE_MERRY_WIVES_OF_WINDSOR_MRS', 'THE_MERRY_WIVES_OF_WINDSOR_FORD', 'THE_MERRY_WIVES_OF_WINDSOR_ROBIN', 'THE_MERRY_WIVES_OF_WINDSOR_WILLIAM', 'THE_MERRY_WIVES_OF_WINDSOR_FIRST_SERVANT', 'THE_MERRY_WIVES_OF_WINDSOR_FAIRY_QUEEN', 'THE_MERRY_WIVES_OF_WINDSOR_PUCK', \"A_MIDSUMMER_NIGHT'S_DREAM_THESEUS\", \"A_MIDSUMMER_NIGHT'S_DREAM_HIPPOLYTA\", \"A_MIDSUMMER_NIGHT'S_DREAM_EGEUS\", \"A_MIDSUMMER_NIGHT'S_DREAM_HERMIA\", \"A_MIDSUMMER_NIGHT'S_DREAM_DEMETRIUS\", \"A_MIDSUMMER_NIGHT'S_DREAM_LYSANDER\", \"A_MIDSUMMER_NIGHT'S_DREAM_HELENA\", \"A_MIDSUMMER_NIGHT'S_DREAM_QUINCE\", \"A_MIDSUMMER_NIGHT'S_DREAM_BOTTOM\", \"A_MIDSUMMER_NIGHT'S_DREAM_FLUTE\", \"A_MIDSUMMER_NIGHT'S_DREAM_STARVELING\", \"A_MIDSUMMER_NIGHT'S_DREAM_SNOUT\", \"A_MIDSUMMER_NIGHT'S_DREAM_SNUG\", \"A_MIDSUMMER_NIGHT'S_DREAM_PUCK\", \"A_MIDSUMMER_NIGHT'S_DREAM_FAIRY\", \"A_MIDSUMMER_NIGHT'S_DREAM_OBERON\", \"A_MIDSUMMER_NIGHT'S_DREAM_TITANIA\", \"A_MIDSUMMER_NIGHT'S_DREAM_FIRST_FAIRY\", \"A_MIDSUMMER_NIGHT'S_DREAM_CHORUS\", \"A_MIDSUMMER_NIGHT'S_DREAM_SECOND_FAIRY\", \"A_MIDSUMMER_NIGHT'S_DREAM_PEASEBLOSSOM\", \"A_MIDSUMMER_NIGHT'S_DREAM_COBWEB\", \"A_MIDSUMMER_NIGHT'S_DREAM_MUSTARDSEED\", \"A_MIDSUMMER_NIGHT'S_DREAM_PHILOSTRATE\", \"A_MIDSUMMER_NIGHT'S_DREAM_PROLOGUE\", \"A_MIDSUMMER_NIGHT'S_DREAM_WALL\", \"A_MIDSUMMER_NIGHT'S_DREAM_PYRAMUS\", \"A_MIDSUMMER_NIGHT'S_DREAM_THISBY\", \"A_MIDSUMMER_NIGHT'S_DREAM_LION\", \"A_MIDSUMMER_NIGHT'S_DREAM_MOONSHINE\", \"A_MIDSUMMER_NIGHT'S_DREAM_MOON\", 'MUCH_ADO_ABOUT_NOTHING_LEON', 'MUCH_ADO_ABOUT_NOTHING_MESS', 'MUCH_ADO_ABOUT_NOTHING_BEAT', 'MUCH_ADO_ABOUT_NOTHING_HERO', 'MUCH_ADO_ABOUT_NOTHING_PEDRO', 'MUCH_ADO_ABOUT_NOTHING_BENE', 'MUCH_ADO_ABOUT_NOTHING_JOHN', 'MUCH_ADO_ABOUT_NOTHING_CLAUD', 'MUCH_ADO_ABOUT_NOTHING_ANT', 'MUCH_ADO_ABOUT_NOTHING_CON', 'MUCH_ADO_ABOUT_NOTHING_BORA', 'MUCH_ADO_ABOUT_NOTHING_BALTH', 'MUCH_ADO_ABOUT_NOTHING_MARG', 'MUCH_ADO_ABOUT_NOTHING_URS', 'MUCH_ADO_ABOUT_NOTHING_DOG', 'MUCH_ADO_ABOUT_NOTHING_VERG', 'MUCH_ADO_ABOUT_NOTHING_FRIAR', 'MUCH_ADO_ABOUT_NOTHING_SEX', 'THE_TRAGEDY_OF_OTHELLO,_MOOR_OF_VENICE_RODERIGO', 'THE_TRAGEDY_OF_OTHELLO,_MOOR_OF_VENICE_IAGO', 'THE_TRAGEDY_OF_OTHELLO,_MOOR_OF_VENICE_BRABANTIO', 'THE_TRAGEDY_OF_OTHELLO,_MOOR_OF_VENICE_OTHELLO', 'THE_TRAGEDY_OF_OTHELLO,_MOOR_OF_VENICE_CASSIO', 'THE_TRAGEDY_OF_OTHELLO,_MOOR_OF_VENICE_FIRST_OFFICER', 'THE_TRAGEDY_OF_OTHELLO,_MOOR_OF_VENICE_DUKE', 'THE_TRAGEDY_OF_OTHELLO,_MOOR_OF_VENICE_FIRST_SENATOR', 'THE_TRAGEDY_OF_OTHELLO,_MOOR_OF_VENICE_SECOND_SENATOR', 'THE_TRAGEDY_OF_OTHELLO,_MOOR_OF_VENICE_SAILOR', 'THE_TRAGEDY_OF_OTHELLO,_MOOR_OF_VENICE_MESSENGER', 'THE_TRAGEDY_OF_OTHELLO,_MOOR_OF_VENICE_ALL', 'THE_TRAGEDY_OF_OTHELLO,_MOOR_OF_VENICE_DESDEMONA', 'THE_TRAGEDY_OF_OTHELLO,_MOOR_OF_VENICE_MONTANO', 'THE_TRAGEDY_OF_OTHELLO,_MOOR_OF_VENICE_FIRST_GENTLEMAN', 'THE_TRAGEDY_OF_OTHELLO,_MOOR_OF_VENICE_SECOND_GENTLEMAN', 'THE_TRAGEDY_OF_OTHELLO,_MOOR_OF_VENICE_THIRD_GENTLEMAN', 'THE_TRAGEDY_OF_OTHELLO,_MOOR_OF_VENICE_EMILIA', 'THE_TRAGEDY_OF_OTHELLO,_MOOR_OF_VENICE_HERALD', 'THE_TRAGEDY_OF_OTHELLO,_MOOR_OF_VENICE_CLOWN', 'THE_TRAGEDY_OF_OTHELLO,_MOOR_OF_VENICE_FIRST_MUSICIAN', 'THE_TRAGEDY_OF_OTHELLO,_MOOR_OF_VENICE_BIANCA', 'THE_TRAGEDY_OF_OTHELLO,_MOOR_OF_VENICE_LODOVICO', 'THE_TRAGEDY_OF_OTHELLO,_MOOR_OF_VENICE_GRATIANO', 'KING_RICHARD_THE_SECOND_KING_RICHARD', 'KING_RICHARD_THE_SECOND_GAUNT', 'KING_RICHARD_THE_SECOND_BOLINGBROKE', 'KING_RICHARD_THE_SECOND_MOWBRAY', 'KING_RICHARD_THE_SECOND_DUCHESS', 'KING_RICHARD_THE_SECOND_MARSHAL', 'KING_RICHARD_THE_SECOND_AUMERLE', 'KING_RICHARD_THE_SECOND_FIRST_HERALD', 'KING_RICHARD_THE_SECOND_SECOND_HERALD', 'KING_RICHARD_THE_SECOND_GREEN', 'KING_RICHARD_THE_SECOND_BUSHY', 'KING_RICHARD_THE_SECOND_YORK', 'KING_RICHARD_THE_SECOND_QUEEN', 'KING_RICHARD_THE_SECOND_NORTHUMBERLAND', 'KING_RICHARD_THE_SECOND_WILLOUGHBY', 'KING_RICHARD_THE_SECOND_ROSS', 'KING_RICHARD_THE_SECOND_SERVINGMAN', 'KING_RICHARD_THE_SECOND_BAGOT', 'KING_RICHARD_THE_SECOND_PERCY', 'KING_RICHARD_THE_SECOND_BERKELEY', 'KING_RICHARD_THE_SECOND_CAPTAIN', 'KING_RICHARD_THE_SECOND_SALISBURY', 'KING_RICHARD_THE_SECOND_CARLISLE', 'KING_RICHARD_THE_SECOND_SCROOP', 'KING_RICHARD_THE_SECOND_LADY', 'KING_RICHARD_THE_SECOND_GARDENER', 'KING_RICHARD_THE_SECOND_SERVANT', 'KING_RICHARD_THE_SECOND_FITZWATER', 'KING_RICHARD_THE_SECOND_ANOTHER_LORD', 'KING_RICHARD_THE_SECOND_SURREY', 'KING_RICHARD_THE_SECOND_ABBOT', 'KING_RICHARD_THE_SECOND_EXTON', 'KING_RICHARD_THE_SECOND_GROOM', 'KING_RICHARD_THE_SECOND_KEEPER', 'KING_RICHARD_III_GLOUCESTER', 'KING_RICHARD_III_CLARENCE', 'KING_RICHARD_III_BRAKENBURY', 'KING_RICHARD_III_HASTINGS', 'KING_RICHARD_III_ANNE', 'KING_RICHARD_III_RIVERS', 'KING_RICHARD_III_GREY', 'KING_RICHARD_III_QUEEN_ELIZABETH', 'KING_RICHARD_III_BUCKINGHAM', 'KING_RICHARD_III_DERBY', 'KING_RICHARD_III_QUEEN_MARGARET', 'KING_RICHARD_III_DORSET', 'KING_RICHARD_III_CATESBY', 'KING_RICHARD_III_FIRST_MURDERER', 'KING_RICHARD_III_KEEPER', 'KING_RICHARD_III_SECOND_MURDERER', 'KING_RICHARD_III_KING_EDWARD', 'KING_RICHARD_III_SON', 'KING_RICHARD_III_DUCHESS', 'KING_RICHARD_III_DAUGHTER', 'KING_RICHARD_III_CHILDREN', 'KING_RICHARD_III_FIRST_CITIZEN', 'KING_RICHARD_III_SECOND_CITIZEN', 'KING_RICHARD_III_THIRD_CITIZEN', 'KING_RICHARD_III_ARCHBISHOP', 'KING_RICHARD_III_YORK', 'KING_RICHARD_III_MESSENGER', 'KING_RICHARD_III_PRINCE', 'KING_RICHARD_III_MAYOR', 'KING_RICHARD_III_CARDINAL', 'KING_RICHARD_III_STANLEY', 'KING_RICHARD_III_PURSUIVANT', 'KING_RICHARD_III_PRIEST', 'KING_RICHARD_III_RATCLIFF', 'KING_RICHARD_III_BISHOP_OF_ELY', 'KING_RICHARD_III_LOVEL', 'KING_RICHARD_III_SCRIVENER', 'KING_RICHARD_III_ALL', 'KING_RICHARD_III_KING_RICHARD', 'KING_RICHARD_III_PAGE', 'KING_RICHARD_III_TYRREL', 'KING_RICHARD_III_SECOND_MESSENGER', 'KING_RICHARD_III_THIRD_MESSENGER', 'KING_RICHARD_III_FOURTH_MESSENGER', 'KING_RICHARD_III_CHRISTOPHER', 'KING_RICHARD_III_RICHMOND', 'KING_RICHARD_III_BLUNT', 'KING_RICHARD_III_NORFOLK', 'KING_RICHARD_III_GHOST', 'KING_RICHARD_III_GHOST_OF_RIVERS', 'KING_RICHARD_III_GHOST_OF_VAUGHAN', 'KING_RICHARD_III_GHOSTS', 'KING_RICHARD_III_LORDS', 'THE_TRAGEDY_OF_ROMEO_AND_JULIET_AN_APOTHECARY', 'THE_TRAGEDY_OF_ROMEO_AND_JULIET_CHOR', 'THE_TRAGEDY_OF_ROMEO_AND_JULIET_SAMP', 'THE_TRAGEDY_OF_ROMEO_AND_JULIET_GREG', 'THE_TRAGEDY_OF_ROMEO_AND_JULIET_ABR', 'THE_TRAGEDY_OF_ROMEO_AND_JULIET_BEN', 'THE_TRAGEDY_OF_ROMEO_AND_JULIET_TYB', 'THE_TRAGEDY_OF_ROMEO_AND_JULIET_CAP', 'THE_TRAGEDY_OF_ROMEO_AND_JULIET_WIFE', 'THE_TRAGEDY_OF_ROMEO_AND_JULIET_MON', 'THE_TRAGEDY_OF_ROMEO_AND_JULIET_M', 'THE_TRAGEDY_OF_ROMEO_AND_JULIET_PRINCE', 'THE_TRAGEDY_OF_ROMEO_AND_JULIET_ROM', 'THE_TRAGEDY_OF_ROMEO_AND_JULIET_PAR', 'THE_TRAGEDY_OF_ROMEO_AND_JULIET_SERV', 'THE_TRAGEDY_OF_ROMEO_AND_JULIET_NURSE', 'THE_TRAGEDY_OF_ROMEO_AND_JULIET_JUL', 'THE_TRAGEDY_OF_ROMEO_AND_JULIET_MER', 'THE_TRAGEDY_OF_ROMEO_AND_JULIET_FRIAR', 'THE_TRAGEDY_OF_ROMEO_AND_JULIET_PETER', 'THE_TRAGEDY_OF_ROMEO_AND_JULIET_CITIZEN', 'THE_TRAGEDY_OF_ROMEO_AND_JULIET_LADY', 'THE_TRAGEDY_OF_ROMEO_AND_JULIET_MOTHER', 'THE_TRAGEDY_OF_ROMEO_AND_JULIET_FELLOW', 'THE_TRAGEDY_OF_ROMEO_AND_JULIET_PET', 'THE_TRAGEDY_OF_ROMEO_AND_JULIET_MAN', 'THE_TRAGEDY_OF_ROMEO_AND_JULIET_APOTH', 'THE_TRAGEDY_OF_ROMEO_AND_JULIET_JOHN', 'THE_TRAGEDY_OF_ROMEO_AND_JULIET_LAUR', 'THE_TRAGEDY_OF_ROMEO_AND_JULIET_PAGE', 'THE_TRAGEDY_OF_ROMEO_AND_JULIET_BAL', 'THE_TRAGEDY_OF_ROMEO_AND_JULIET_CHIEF_WATCH', 'THE_TRAGEDY_OF_ROMEO_AND_JULIET_BOY', 'THE_TAMING_OF_THE_SHREW_SLY', 'THE_TAMING_OF_THE_SHREW_HOSTESS', 'THE_TAMING_OF_THE_SHREW_LORD', 'THE_TAMING_OF_THE_SHREW_FIRST_HUNTSMAN', 'THE_TAMING_OF_THE_SHREW_SECOND_HUNTSMAN', 'THE_TAMING_OF_THE_SHREW_SERVANT', 'THE_TAMING_OF_THE_SHREW_PLAYER', 'THE_TAMING_OF_THE_SHREW_FIRST_SERVANT', 'THE_TAMING_OF_THE_SHREW_SECOND_SERVANT', 'THE_TAMING_OF_THE_SHREW_THIRD_SERVANT', 'THE_TAMING_OF_THE_SHREW_PAGE', 'THE_TAMING_OF_THE_SHREW_MESSENGER', 'THE_TAMING_OF_THE_SHREW_LUCENTIO', 'THE_TAMING_OF_THE_SHREW_TRANIO', 'THE_TAMING_OF_THE_SHREW_BAPTISTA', 'THE_TAMING_OF_THE_SHREW_GREMIO', 'THE_TAMING_OF_THE_SHREW_KATHERINA', 'THE_TAMING_OF_THE_SHREW_HORTENSIO', 'THE_TAMING_OF_THE_SHREW_BIANCA', 'THE_TAMING_OF_THE_SHREW_BIONDELLO', 'THE_TAMING_OF_THE_SHREW_PETRUCHIO', 'THE_TAMING_OF_THE_SHREW_GRUMIO', 'THE_TAMING_OF_THE_SHREW_CURTIS', 'THE_TAMING_OF_THE_SHREW_NATHANIEL', 'THE_TAMING_OF_THE_SHREW_PETER', 'THE_TAMING_OF_THE_SHREW_PEDANT', 'THE_TAMING_OF_THE_SHREW_TAILOR', 'THE_TAMING_OF_THE_SHREW_VINCENTIO', 'THE_TAMING_OF_THE_SHREW_WIDOW', 'THE_TEMPEST_MASTER', 'THE_TEMPEST_BOATSWAIN', 'THE_TEMPEST_ALONSO', 'THE_TEMPEST_ANTONIO', 'THE_TEMPEST_GONZALO', 'THE_TEMPEST_SEBASTIAN', 'THE_TEMPEST_MIRANDA', 'THE_TEMPEST_PROSPERO', 'THE_TEMPEST_ARIEL', 'THE_TEMPEST_CALIBAN', 'THE_TEMPEST_FERDINAND', 'THE_TEMPEST_ADRIAN', 'THE_TEMPEST_FRANCISCO', 'THE_TEMPEST_TRINCULO', 'THE_TEMPEST_STEPHANO', 'THE_TEMPEST_IRIS', 'THE_TEMPEST_CERES', 'THE_TEMPEST_JUNO', 'THE_LIFE_OF_TIMON_OF_ATHENS_POET', 'THE_LIFE_OF_TIMON_OF_ATHENS_PAINTER', 'THE_LIFE_OF_TIMON_OF_ATHENS_MERCHANT', 'THE_LIFE_OF_TIMON_OF_ATHENS_JEWELLER', 'THE_LIFE_OF_TIMON_OF_ATHENS_TIMON', 'THE_LIFE_OF_TIMON_OF_ATHENS_MESSENGER', 'THE_LIFE_OF_TIMON_OF_ATHENS_OLD_ATHENIAN', 'THE_LIFE_OF_TIMON_OF_ATHENS_LUCILIUS', 'THE_LIFE_OF_TIMON_OF_ATHENS_APEMANTUS', 'THE_LIFE_OF_TIMON_OF_ATHENS_ALCIBIADES', 'THE_LIFE_OF_TIMON_OF_ATHENS_FIRST_LORD', 'THE_LIFE_OF_TIMON_OF_ATHENS_SECOND_LORD', 'THE_LIFE_OF_TIMON_OF_ATHENS_VENTIDIUS', 'THE_LIFE_OF_TIMON_OF_ATHENS_THIRD_LORD', 'THE_LIFE_OF_TIMON_OF_ATHENS_SERVANT', 'THE_LIFE_OF_TIMON_OF_ATHENS_CUPID', 'THE_LIFE_OF_TIMON_OF_ATHENS_FLAVIUS', 'THE_LIFE_OF_TIMON_OF_ATHENS_SECOND_SERVANT', 'THE_LIFE_OF_TIMON_OF_ATHENS_THIRD_SERVANT', 'THE_LIFE_OF_TIMON_OF_ATHENS_SENATOR', 'THE_LIFE_OF_TIMON_OF_ATHENS_CAPHIS', 'THE_LIFE_OF_TIMON_OF_ATHENS_ALL_SERVANTS', 'THE_LIFE_OF_TIMON_OF_ATHENS_FOOL', 'THE_LIFE_OF_TIMON_OF_ATHENS_PAGE', 'THE_LIFE_OF_TIMON_OF_ATHENS_FLAMINIUS', 'THE_LIFE_OF_TIMON_OF_ATHENS_LUCULLUS', 'THE_LIFE_OF_TIMON_OF_ATHENS_LUCULLIUS', 'THE_LIFE_OF_TIMON_OF_ATHENS_LUCIUS', 'THE_LIFE_OF_TIMON_OF_ATHENS_FIRST_STRANGER', 'THE_LIFE_OF_TIMON_OF_ATHENS_SECOND_STRANGER', 'THE_LIFE_OF_TIMON_OF_ATHENS_SERVILIUS', 'THE_LIFE_OF_TIMON_OF_ATHENS_SEMPRONIUS', 'THE_LIFE_OF_TIMON_OF_ATHENS_TITUS', 'THE_LIFE_OF_TIMON_OF_ATHENS_HORTENSIUS', 'THE_LIFE_OF_TIMON_OF_ATHENS_PHILOTUS', 'THE_LIFE_OF_TIMON_OF_ATHENS_FIRST_SENATOR', 'THE_LIFE_OF_TIMON_OF_ATHENS_SECOND_SENATOR', 'THE_LIFE_OF_TIMON_OF_ATHENS_THIRD_SENATOR', 'THE_LIFE_OF_TIMON_OF_ATHENS_FOURTH_LORD', 'THE_LIFE_OF_TIMON_OF_ATHENS_FIRST_SERVANT', 'THE_LIFE_OF_TIMON_OF_ATHENS_TIMANDRA', 'THE_LIFE_OF_TIMON_OF_ATHENS_PHRYNIA_AND_TIMANDRA', 'THE_LIFE_OF_TIMON_OF_ATHENS_FIRST_BANDIT', 'THE_LIFE_OF_TIMON_OF_ATHENS_SECOND_BANDIT', 'THE_LIFE_OF_TIMON_OF_ATHENS_THIRD_BANDIT', 'THE_LIFE_OF_TIMON_OF_ATHENS_BANDITTI', 'THE_LIFE_OF_TIMON_OF_ATHENS_BOTH', 'THE_LIFE_OF_TIMON_OF_ATHENS_SOLDIER', 'THE_TRAGEDY_OF_TITUS_ANDRONICUS_SATURNINUS', 'THE_TRAGEDY_OF_TITUS_ANDRONICUS_BASSIANUS', 'THE_TRAGEDY_OF_TITUS_ANDRONICUS_MARCUS', 'THE_TRAGEDY_OF_TITUS_ANDRONICUS_CAPTAIN', 'THE_TRAGEDY_OF_TITUS_ANDRONICUS_TITUS', 'THE_TRAGEDY_OF_TITUS_ANDRONICUS_LUCIUS', 'THE_TRAGEDY_OF_TITUS_ANDRONICUS_TAMORA', 'THE_TRAGEDY_OF_TITUS_ANDRONICUS_CHIRON', 'THE_TRAGEDY_OF_TITUS_ANDRONICUS_DEMETRIUS', 'THE_TRAGEDY_OF_TITUS_ANDRONICUS_LAVINIA', 'THE_TRAGEDY_OF_TITUS_ANDRONICUS_TRIBUNES', 'THE_TRAGEDY_OF_TITUS_ANDRONICUS_MUTIUS', 'THE_TRAGEDY_OF_TITUS_ANDRONICUS_QUINTUS', 'THE_TRAGEDY_OF_TITUS_ANDRONICUS_MARTIUS', 'THE_TRAGEDY_OF_TITUS_ANDRONICUS_ALL', 'THE_TRAGEDY_OF_TITUS_ANDRONICUS_AARON', 'THE_TRAGEDY_OF_TITUS_ANDRONICUS_MESSENGER', 'THE_TRAGEDY_OF_TITUS_ANDRONICUS_BOY', 'THE_TRAGEDY_OF_TITUS_ANDRONICUS_NURSE', 'THE_TRAGEDY_OF_TITUS_ANDRONICUS_PUBLIUS', 'THE_TRAGEDY_OF_TITUS_ANDRONICUS_CLOWN', 'THE_TRAGEDY_OF_TITUS_ANDRONICUS_AEMILIUS', 'THE_TRAGEDY_OF_TITUS_ANDRONICUS_FIRST_GOTH', 'THE_TRAGEDY_OF_TITUS_ANDRONICUS_SECOND_GOTH', 'THE_TRAGEDY_OF_TITUS_ANDRONICUS_GOTH', 'THE_TRAGEDY_OF_TITUS_ANDRONICUS_A_ROMAN', 'THE_HISTORY_OF_TROILUS_AND_CRESSIDA_TROILUS', 'THE_HISTORY_OF_TROILUS_AND_CRESSIDA_PANDARUS', 'THE_HISTORY_OF_TROILUS_AND_CRESSIDA_AENEAS', 'THE_HISTORY_OF_TROILUS_AND_CRESSIDA_CRESSIDA', 'THE_HISTORY_OF_TROILUS_AND_CRESSIDA_ALEXANDER', 'THE_HISTORY_OF_TROILUS_AND_CRESSIDA_BOY', 'THE_HISTORY_OF_TROILUS_AND_CRESSIDA_AGAMEMNON', 'THE_HISTORY_OF_TROILUS_AND_CRESSIDA_NESTOR', 'THE_HISTORY_OF_TROILUS_AND_CRESSIDA_ULYSSES', 'THE_HISTORY_OF_TROILUS_AND_CRESSIDA_MENELAUS', 'THE_HISTORY_OF_TROILUS_AND_CRESSIDA_AJAX', 'THE_HISTORY_OF_TROILUS_AND_CRESSIDA_THERSITES', 'THE_HISTORY_OF_TROILUS_AND_CRESSIDA_ACHILLES', 'THE_HISTORY_OF_TROILUS_AND_CRESSIDA_PATROCLUS', 'THE_HISTORY_OF_TROILUS_AND_CRESSIDA_PRIAM', 'THE_HISTORY_OF_TROILUS_AND_CRESSIDA_HECTOR', 'THE_HISTORY_OF_TROILUS_AND_CRESSIDA_HELENUS', 'THE_HISTORY_OF_TROILUS_AND_CRESSIDA_CASSANDRA', 'THE_HISTORY_OF_TROILUS_AND_CRESSIDA_PARIS', 'THE_HISTORY_OF_TROILUS_AND_CRESSIDA_DIOMEDES', 'THE_HISTORY_OF_TROILUS_AND_CRESSIDA_SERVANT', 'THE_HISTORY_OF_TROILUS_AND_CRESSIDA_HELEN', 'THE_HISTORY_OF_TROILUS_AND_CRESSIDA_CALCHAS', 'THE_HISTORY_OF_TROILUS_AND_CRESSIDA_ALL', 'THE_HISTORY_OF_TROILUS_AND_CRESSIDA_ANDROMACHE', 'THE_HISTORY_OF_TROILUS_AND_CRESSIDA_MARGARELON', 'TWELFTH_NIGHT;_OR,_WHAT_YOU_WILL_DUKE', 'TWELFTH_NIGHT;_OR,_WHAT_YOU_WILL_CURIO', 'TWELFTH_NIGHT;_OR,_WHAT_YOU_WILL_VALENTINE', 'TWELFTH_NIGHT;_OR,_WHAT_YOU_WILL_VIOLA', 'TWELFTH_NIGHT;_OR,_WHAT_YOU_WILL_CAPTAIN', 'TWELFTH_NIGHT;_OR,_WHAT_YOU_WILL_SIR_TOBY', 'TWELFTH_NIGHT;_OR,_WHAT_YOU_WILL_MARIA', 'TWELFTH_NIGHT;_OR,_WHAT_YOU_WILL_AGUECHEEK', 'TWELFTH_NIGHT;_OR,_WHAT_YOU_WILL_CLOWN', 'TWELFTH_NIGHT;_OR,_WHAT_YOU_WILL_OLIVIA', 'TWELFTH_NIGHT;_OR,_WHAT_YOU_WILL_MALVOLIO', 'TWELFTH_NIGHT;_OR,_WHAT_YOU_WILL_ANTONIO', 'TWELFTH_NIGHT;_OR,_WHAT_YOU_WILL_SEBASTIAN', 'TWELFTH_NIGHT;_OR,_WHAT_YOU_WILL_FABIAN', 'TWELFTH_NIGHT;_OR,_WHAT_YOU_WILL_AIARIA', 'TWELFTH_NIGHT;_OR,_WHAT_YOU_WILL_SERVANT', 'TWELFTH_NIGHT;_OR,_WHAT_YOU_WILL_FIRST_OFFICER', 'TWELFTH_NIGHT;_OR,_WHAT_YOU_WILL_SECOND_OFFICER', 'TWELFTH_NIGHT;_OR,_WHAT_YOU_WILL_PRIEST', 'THE_TWO_GENTLEMEN_OF_VERONA_VALENTINE', 'THE_TWO_GENTLEMEN_OF_VERONA_PROTEUS', 'THE_TWO_GENTLEMEN_OF_VERONA_SPEED', 'THE_TWO_GENTLEMEN_OF_VERONA_JULIA', 'THE_TWO_GENTLEMEN_OF_VERONA_LUCETTA', 'THE_TWO_GENTLEMEN_OF_VERONA_ANTONIO', 'THE_TWO_GENTLEMEN_OF_VERONA_PANTHINO', 'THE_TWO_GENTLEMEN_OF_VERONA_SILVIA', 'THE_TWO_GENTLEMEN_OF_VERONA_LAUNCE', 'THE_TWO_GENTLEMEN_OF_VERONA_THURIO', 'THE_TWO_GENTLEMEN_OF_VERONA_DUKE', 'THE_TWO_GENTLEMEN_OF_VERONA_FIRST_OUTLAW', 'THE_TWO_GENTLEMEN_OF_VERONA_SECOND_OUTLAW', 'THE_TWO_GENTLEMEN_OF_VERONA_THIRD_OUTLAW', 'THE_TWO_GENTLEMEN_OF_VERONA_HOST', 'THE_TWO_GENTLEMEN_OF_VERONA_EGLAMOUR', \"THE_WINTER'S_TALE_ARCHIDAMUS\", \"THE_WINTER'S_TALE_CAMILLO\", \"THE_WINTER'S_TALE_POLIXENES\", \"THE_WINTER'S_TALE_LEONTES\", \"THE_WINTER'S_TALE_HERMIONE\", \"THE_WINTER'S_TALE_MAMILLIUS\", \"THE_WINTER'S_TALE_FIRST_LADY\", \"THE_WINTER'S_TALE_SECOND_LADY\", \"THE_WINTER'S_TALE_FIRST_LORD\", \"THE_WINTER'S_TALE_ANTIGONUS\", \"THE_WINTER'S_TALE_PAULINA\", \"THE_WINTER'S_TALE_GAOLER\", \"THE_WINTER'S_TALE_EMILIA\", \"THE_WINTER'S_TALE_FIRST_SERVANT\", \"THE_WINTER'S_TALE_LORDS\", \"THE_WINTER'S_TALE_SERVANT\", \"THE_WINTER'S_TALE_CLEOMENES\", \"THE_WINTER'S_TALE_DION\", \"THE_WINTER'S_TALE_OFFICER\", \"THE_WINTER'S_TALE_MARINER\", \"THE_WINTER'S_TALE_SHEPHERD\", \"THE_WINTER'S_TALE_CLOWN\", \"THE_WINTER'S_TALE_TIME\", \"THE_WINTER'S_TALE_AUTOLYCUS\", \"THE_WINTER'S_TALE_FLORIZEL\", \"THE_WINTER'S_TALE_PERDITA\", \"THE_WINTER'S_TALE_DORCAS\", \"THE_WINTER'S_TALE_MOPSA\", \"THE_WINTER'S_TALE_GENTLEMAN\", \"THE_WINTER'S_TALE_LORD\", \"THE_WINTER'S_TALE_FIRST_GENTLEMAN\", \"THE_WINTER'S_TALE_SECOND_GENTLEMAN\", \"THE_WINTER'S_TALE_THIRD_GENTLEMAN\"])\n",
            "1164\n",
            "dict_keys(['THE_SONNETS_WHEN_YOUR_SWEET_ISSUE_YOUR_SWEET_FORM_SHOULD_BEAR', 'THE_SONNETS_THEN_LOOK_I_DEATH_MY_DAYS_SHOULD_EXPIATE', 'THE_SONNETS_TAKE_ALL_MY_COMFORT_OF_THY_WORTH_AND_TRUTH', 'THE_SONNETS_WHICH_TIME_AND_THOUGHTS_SO_SWEETLY_DOTH_DECEIVE', 'THE_SONNETS_A_LOSS_IN_LOVE_THAT_TOUCHES_ME_MORE_NEARLY', 'THE_SONNETS_ART_LEFT_THE_PREY_OF_EVERY_VULGAR_THIEF', 'THE_SONNETS_FOR_BLUNTING_THE_FINE_POINT_OF_SELDOM_PLEASURE', 'THE_SONNETS_DIE_TO_THEMSELVES', 'THE_SONNETS_NOR_SERVICES_TO_DO_TILL_YOU_REQUIRE', 'THE_SONNETS_WITHOUT_ACCUSING_YOU_OF_INJURY', 'THE_SONNETS_OR_WHETHER_REVOLUTION_BE_THE_SAME', 'THE_SONNETS_IT_IS_SO_GROUNDED_INWARD_IN_MY_HEART', 'THE_SONNETS_THAT_TIME_WILL_COME_AND_TAKE_MY_LOVE_AWAY', 'THE_SONNETS_FOR_YOU_IN_ME_CAN_NOTHING_WORTHY_PROVE', 'THE_SONNETS_MAKING_HIS_STYLE_ADMIRED_EVERY_WHERE', 'THE_SONNETS_MY_BONDS_IN_THEE_ARE_ALL_DETERMINATE', 'THE_SONNETS_AND_HAPLY_OF_OUR_OLD_ACQUAINTANCE_TELL', 'THE_SONNETS_FOR_IT_DEPENDS_UPON_THAT_LOVE_OF_THINE', 'THE_SONNETS_IS_WRIT_IN_MOODS_AND_FROWNS_AND_WRINKLES_STRANGE', 'ALLS_WELL_THAT_ENDS_WELL_COUNTESS', 'ALLS_WELL_THAT_ENDS_WELL_BERTRAM', 'ALLS_WELL_THAT_ENDS_WELL_LAFEU', 'ALLS_WELL_THAT_ENDS_WELL_HELENA', 'ALLS_WELL_THAT_ENDS_WELL_PAROLLES', 'ALLS_WELL_THAT_ENDS_WELL_KING', 'ALLS_WELL_THAT_ENDS_WELL_FIRST_LORD', 'ALLS_WELL_THAT_ENDS_WELL_SECOND_LORD', 'ALLS_WELL_THAT_ENDS_WELL_STEWARD', 'ALLS_WELL_THAT_ENDS_WELL_CLOWN', 'ALLS_WELL_THAT_ENDS_WELL_DUKE', 'ALLS_WELL_THAT_ENDS_WELL_SECOND_GENTLEMAN', 'ALLS_WELL_THAT_ENDS_WELL_FIRST_GENTLEMAN', 'ALLS_WELL_THAT_ENDS_WELL_WIDOW', 'ALLS_WELL_THAT_ENDS_WELL_DIANA', 'ALLS_WELL_THAT_ENDS_WELL_MARIANA', 'ALLS_WELL_THAT_ENDS_WELL_FIRST_SOLDIER', 'ALLS_WELL_THAT_ENDS_WELL_SERVANT', 'ALLS_WELL_THAT_ENDS_WELL_GENTLEMAN', 'THE_TRAGEDY_OF_ANTONY_AND_CLEOPATRA_PHILO', 'THE_TRAGEDY_OF_ANTONY_AND_CLEOPATRA_CLEOPATRA', 'THE_TRAGEDY_OF_ANTONY_AND_CLEOPATRA_ANTONY', 'THE_TRAGEDY_OF_ANTONY_AND_CLEOPATRA_MESSENGER', 'THE_TRAGEDY_OF_ANTONY_AND_CLEOPATRA_DEMETRIUS', 'THE_TRAGEDY_OF_ANTONY_AND_CLEOPATRA_CHARMIAN', 'THE_TRAGEDY_OF_ANTONY_AND_CLEOPATRA_ALEXAS', 'THE_TRAGEDY_OF_ANTONY_AND_CLEOPATRA_SOOTHSAYER', 'THE_TRAGEDY_OF_ANTONY_AND_CLEOPATRA_ENOBARBUS', 'THE_TRAGEDY_OF_ANTONY_AND_CLEOPATRA_IRAS', 'THE_TRAGEDY_OF_ANTONY_AND_CLEOPATRA_SECOND_MESSENGER', 'THE_TRAGEDY_OF_ANTONY_AND_CLEOPATRA_CAESAR', 'THE_TRAGEDY_OF_ANTONY_AND_CLEOPATRA_LEPIDUS', 'THE_TRAGEDY_OF_ANTONY_AND_CLEOPATRA_MARDIAN', 'THE_TRAGEDY_OF_ANTONY_AND_CLEOPATRA_POMPEY', 'THE_TRAGEDY_OF_ANTONY_AND_CLEOPATRA_MENECRATES', 'THE_TRAGEDY_OF_ANTONY_AND_CLEOPATRA_MENAS', 'THE_TRAGEDY_OF_ANTONY_AND_CLEOPATRA_VARRIUS', 'THE_TRAGEDY_OF_ANTONY_AND_CLEOPATRA_MAECENAS', 'THE_TRAGEDY_OF_ANTONY_AND_CLEOPATRA_AGRIPPA', 'THE_TRAGEDY_OF_ANTONY_AND_CLEOPATRA_OCTAVIA', 'THE_TRAGEDY_OF_ANTONY_AND_CLEOPATRA_ALL', 'THE_TRAGEDY_OF_ANTONY_AND_CLEOPATRA_FIRST_SERVANT', 'THE_TRAGEDY_OF_ANTONY_AND_CLEOPATRA_SECOND_SERVANT', 'THE_TRAGEDY_OF_ANTONY_AND_CLEOPATRA_VENTIDIUS', 'THE_TRAGEDY_OF_ANTONY_AND_CLEOPATRA_SILIUS', 'THE_TRAGEDY_OF_ANTONY_AND_CLEOPATRA_EROS', 'THE_TRAGEDY_OF_ANTONY_AND_CLEOPATRA_CANIDIUS', 'THE_TRAGEDY_OF_ANTONY_AND_CLEOPATRA_SOLDIER', 'THE_TRAGEDY_OF_ANTONY_AND_CLEOPATRA_SCARUS', 'THE_TRAGEDY_OF_ANTONY_AND_CLEOPATRA_DOLABELLA', 'THE_TRAGEDY_OF_ANTONY_AND_CLEOPATRA_EUPHRONIUS', 'THE_TRAGEDY_OF_ANTONY_AND_CLEOPATRA_THYREUS', 'THE_TRAGEDY_OF_ANTONY_AND_CLEOPATRA_SERVANT', 'THE_TRAGEDY_OF_ANTONY_AND_CLEOPATRA_FIRST_SOLDIER', 'THE_TRAGEDY_OF_ANTONY_AND_CLEOPATRA_SECOND_SOLDIER', 'THE_TRAGEDY_OF_ANTONY_AND_CLEOPATRA_THIRD_SOLDIER', 'THE_TRAGEDY_OF_ANTONY_AND_CLEOPATRA_SOLDIERS', 'THE_TRAGEDY_OF_ANTONY_AND_CLEOPATRA_CENTURION', 'THE_TRAGEDY_OF_ANTONY_AND_CLEOPATRA_FIRST_WATCH', 'THE_TRAGEDY_OF_ANTONY_AND_CLEOPATRA_SECOND_WATCH', 'THE_TRAGEDY_OF_ANTONY_AND_CLEOPATRA_FIRST_GUARD', 'THE_TRAGEDY_OF_ANTONY_AND_CLEOPATRA_SECOND_GUARD', 'THE_TRAGEDY_OF_ANTONY_AND_CLEOPATRA_DERCETAS', 'THE_TRAGEDY_OF_ANTONY_AND_CLEOPATRA_DIOMEDES', 'THE_TRAGEDY_OF_ANTONY_AND_CLEOPATRA_EGYPTIAN', 'THE_TRAGEDY_OF_ANTONY_AND_CLEOPATRA_PROCULEIUS', 'THE_TRAGEDY_OF_ANTONY_AND_CLEOPATRA_GALLUS', 'THE_TRAGEDY_OF_ANTONY_AND_CLEOPATRA_SELEUCUS', 'THE_TRAGEDY_OF_ANTONY_AND_CLEOPATRA_GUARDSMAN', 'THE_TRAGEDY_OF_ANTONY_AND_CLEOPATRA_CLOWN', 'AS_YOU_LIKE_IT_ORLANDO', 'AS_YOU_LIKE_IT_ADAM', 'AS_YOU_LIKE_IT_OLIVER', 'AS_YOU_LIKE_IT_DENNIS', 'AS_YOU_LIKE_IT_CHARLES', 'AS_YOU_LIKE_IT_CELIA', 'AS_YOU_LIKE_IT_ROSALIND', 'AS_YOU_LIKE_IT_TOUCHSTONE', 'AS_YOU_LIKE_IT_LE_BEAU', 'AS_YOU_LIKE_IT_FREDERICK', 'AS_YOU_LIKE_IT_DUKE_SENIOR', 'AS_YOU_LIKE_IT_AMIENS', 'AS_YOU_LIKE_IT_FIRST_LORD', 'AS_YOU_LIKE_IT_SECOND_LORD', 'AS_YOU_LIKE_IT_CORIN', 'AS_YOU_LIKE_IT_SILVIUS', 'AS_YOU_LIKE_IT_JAQUES', 'AS_YOU_LIKE_IT_AUDREY', 'AS_YOU_LIKE_IT_MARTEXT', 'AS_YOU_LIKE_IT_PHEBE', 'AS_YOU_LIKE_IT_WILLIAM', 'AS_YOU_LIKE_IT_FIRST_PAGE', 'AS_YOU_LIKE_IT_SECOND_PAGE', 'AS_YOU_LIKE_IT_HYMEN', 'AS_YOU_LIKE_IT_JAQUES_DE_BOYS', 'THE_COMEDY_OF_ERRORS_WITH_PERMISSION', 'THE_COMEDY_OF_ERRORS_COMMERCIALLY', 'THE_COMEDY_OF_ERRORS_AEGEON', 'THE_COMEDY_OF_ERRORS_DUKE', 'THE_COMEDY_OF_ERRORS_FIRST_MERCHANT', 'THE_COMEDY_OF_ERRORS_ANTIPHOLUS_OF_SYRACUSE', 'THE_COMEDY_OF_ERRORS_DROMIO_OF_SYRACUSE', 'THE_COMEDY_OF_ERRORS_DROMIO_OF_EPHESUS', 'THE_COMEDY_OF_ERRORS_ADRIANA', 'THE_COMEDY_OF_ERRORS_LUCIANA', 'THE_COMEDY_OF_ERRORS_ANTIPHOLUS_OF_EPHESUS', 'THE_COMEDY_OF_ERRORS_BALTHAZAR', 'THE_COMEDY_OF_ERRORS_LUCE', 'THE_COMEDY_OF_ERRORS_ANGELO', 'THE_COMEDY_OF_ERRORS_SECOND_MERCHANT', 'THE_COMEDY_OF_ERRORS_OFFICER', 'THE_COMEDY_OF_ERRORS_COURTEZAN', 'THE_COMEDY_OF_ERRORS_PINCH', 'THE_COMEDY_OF_ERRORS_ABBESS', 'THE_COMEDY_OF_ERRORS_MESSENGER', 'THE_COMEDY_OF_ERRORS_ANTIPHOLUS_OFEPHESUS', 'THE_TRAGEDY_OF_CORIOLANUS_FIRST_CITIZEN', 'THE_TRAGEDY_OF_CORIOLANUS_ALL', 'THE_TRAGEDY_OF_CORIOLANUS_SECOND_CITIZEN', 'THE_TRAGEDY_OF_CORIOLANUS_MENENIUS', 'THE_TRAGEDY_OF_CORIOLANUS_MARCIUS', 'THE_TRAGEDY_OF_CORIOLANUS_MESSENGER', 'THE_TRAGEDY_OF_CORIOLANUS_FIRST_SENATOR', 'THE_TRAGEDY_OF_CORIOLANUS_COMINIUS', 'THE_TRAGEDY_OF_CORIOLANUS_LARTIUS', 'THE_TRAGEDY_OF_CORIOLANUS_SICINIUS', 'THE_TRAGEDY_OF_CORIOLANUS_BRUTUS', 'THE_TRAGEDY_OF_CORIOLANUS_AUFIDIUS', 'THE_TRAGEDY_OF_CORIOLANUS_SECOND_SENATOR', 'THE_TRAGEDY_OF_CORIOLANUS_VOLUMNIA', 'THE_TRAGEDY_OF_CORIOLANUS_VIRGILIA', 'THE_TRAGEDY_OF_CORIOLANUS_VALERIA', 'THE_TRAGEDY_OF_CORIOLANUS_FIRST_SOLDIER', 'THE_TRAGEDY_OF_CORIOLANUS_THIRD_ROMAN', 'THE_TRAGEDY_OF_CORIOLANUS_LIEUTENANT', 'THE_TRAGEDY_OF_CORIOLANUS_CORIOLANUS', 'THE_TRAGEDY_OF_CORIOLANUS_BOTH_TRIBUNES', 'THE_TRAGEDY_OF_CORIOLANUS_HERALD', 'THE_TRAGEDY_OF_CORIOLANUS_FIRST_OFFICER', 'THE_TRAGEDY_OF_CORIOLANUS_SECOND_OFFICER', 'THE_TRAGEDY_OF_CORIOLANUS_SENATORS', 'THE_TRAGEDY_OF_CORIOLANUS_THIRD_CITIZEN', 'THE_TRAGEDY_OF_CORIOLANUS_FOURTH_CITIZEN', 'THE_TRAGEDY_OF_CORIOLANUS_CITIZENS', 'THE_TRAGEDY_OF_CORIOLANUS_PATRICIANS', 'THE_TRAGEDY_OF_CORIOLANUS_PLEBEIANS', 'THE_TRAGEDY_OF_CORIOLANUS_AEDILE', 'THE_TRAGEDY_OF_CORIOLANUS_ROMAN', 'THE_TRAGEDY_OF_CORIOLANUS_VOLSCE', 'THE_TRAGEDY_OF_CORIOLANUS_CITIZEN', 'THE_TRAGEDY_OF_CORIOLANUS_FIRST_SERVANT', 'THE_TRAGEDY_OF_CORIOLANUS_SECOND_SERVANT', 'THE_TRAGEDY_OF_CORIOLANUS_THIRD_SERVANT', 'THE_TRAGEDY_OF_CORIOLANUS_BOTH', 'THE_TRAGEDY_OF_CORIOLANUS_SECOND_MESSENGER', 'THE_TRAGEDY_OF_CORIOLANUS_FIRST_WATCH', 'THE_TRAGEDY_OF_CORIOLANUS_SECOND_WATCH', 'THE_TRAGEDY_OF_CORIOLANUS_FIRST_CONSPIRATOR', 'THE_TRAGEDY_OF_CORIOLANUS_SECOND_CONSPIRATOR', 'THE_TRAGEDY_OF_CORIOLANUS_THIRD_CONSPIRATOR', 'THE_TRAGEDY_OF_CORIOLANUS_LORDS', 'THE_TRAGEDY_OF_CORIOLANUS_FIRST_LORD', 'THE_TRAGEDY_OF_CORIOLANUS_CONSPIRATORS', 'THE_TRAGEDY_OF_CORIOLANUS_ALL_THE_PEOPLE', 'THE_TRAGEDY_OF_CORIOLANUS_SECOND_LORD', 'CYMBELINE_FIRST_GENTLEMAN', 'CYMBELINE_SECOND_GENTLEMAN', 'CYMBELINE_QUEEN', 'CYMBELINE_POSTHUMUS', 'CYMBELINE_IMOGEN', 'CYMBELINE_CYMBELINE', 'CYMBELINE_PISANIO', 'CYMBELINE_FIRST_LORD', 'CYMBELINE_CLOTEN', 'CYMBELINE_SECOND_LORD', 'CYMBELINE_LADY', 'CYMBELINE_IACHIMO', 'CYMBELINE_PHILARIO', 'CYMBELINE_FRENCHMAN', 'CYMBELINE_CORNELIUS', 'CYMBELINE_MESSENGER', 'CYMBELINE_LUCIUS', 'CYMBELINE_BELARIUS', 'CYMBELINE_GUIDERIUS', 'CYMBELINE_ARVIRAGUS', 'CYMBELINE_FIRST_SENATOR', 'CYMBELINE_TRIBUNE', 'CYMBELINE_BOTH', 'CYMBELINE_CAPTAIN', 'CYMBELINE_SOOTHSAYER', 'CYMBELINE_LORD', 'CYMBELINE_GUIDERIUS_AND_ARVIRAGUS', 'CYMBELINE_FIRST_CAPTAIN', 'CYMBELINE_SECOND_CAPTAIN', 'CYMBELINE_SICILIUS', 'CYMBELINE_MOTHER', 'CYMBELINE_FIRST_BROTHER', 'CYMBELINE_SECOND_BROTHER', 'CYMBELINE_BROTHERS', 'CYMBELINE_JUPITER', 'CYMBELINE_GAOLER', 'THE_TRAGEDY_OF_HAMLET,_PRINCE_OF_DENMARK_BER', 'THE_TRAGEDY_OF_HAMLET,_PRINCE_OF_DENMARK_FRAN', 'THE_TRAGEDY_OF_HAMLET,_PRINCE_OF_DENMARK_HOR', 'THE_TRAGEDY_OF_HAMLET,_PRINCE_OF_DENMARK_MAR', 'THE_TRAGEDY_OF_HAMLET,_PRINCE_OF_DENMARK_KING', 'THE_TRAGEDY_OF_HAMLET,_PRINCE_OF_DENMARK_LAER', 'THE_TRAGEDY_OF_HAMLET,_PRINCE_OF_DENMARK_POL', 'THE_TRAGEDY_OF_HAMLET,_PRINCE_OF_DENMARK_HAM', 'THE_TRAGEDY_OF_HAMLET,_PRINCE_OF_DENMARK_QUEEN', 'THE_TRAGEDY_OF_HAMLET,_PRINCE_OF_DENMARK_BOTH', 'THE_TRAGEDY_OF_HAMLET,_PRINCE_OF_DENMARK_ALL', 'THE_TRAGEDY_OF_HAMLET,_PRINCE_OF_DENMARK_OPH', 'THE_TRAGEDY_OF_HAMLET,_PRINCE_OF_DENMARK_GHOST', 'THE_TRAGEDY_OF_HAMLET,_PRINCE_OF_DENMARK_REY', 'THE_TRAGEDY_OF_HAMLET,_PRINCE_OF_DENMARK_ROS', 'THE_TRAGEDY_OF_HAMLET,_PRINCE_OF_DENMARK_GUIL', 'THE_TRAGEDY_OF_HAMLET,_PRINCE_OF_DENMARK_VOLT', 'THE_TRAGEDY_OF_HAMLET,_PRINCE_OF_DENMARK_FOR', 'THE_TRAGEDY_OF_HAMLET,_PRINCE_OF_DENMARK_CAPT', 'THE_TRAGEDY_OF_HAMLET,_PRINCE_OF_DENMARK_GENT', 'THE_TRAGEDY_OF_HAMLET,_PRINCE_OF_DENMARK_MESS', 'THE_TRAGEDY_OF_HAMLET,_PRINCE_OF_DENMARK_SAILOR', 'THE_TRAGEDY_OF_HAMLET,_PRINCE_OF_DENMARK_CLOWN', 'THE_TRAGEDY_OF_HAMLET,_PRINCE_OF_DENMARK_OTHER', 'THE_TRAGEDY_OF_HAMLET,_PRINCE_OF_DENMARK_PRIEST', 'THE_TRAGEDY_OF_HAMLET,_PRINCE_OF_DENMARK_OSR', 'THE_TRAGEDY_OF_HAMLET,_PRINCE_OF_DENMARK_LORD', 'THE_TRAGEDY_OF_HAMLET,_PRINCE_OF_DENMARK_FORT', 'THE_TRAGEDY_OF_HAMLET,_PRINCE_OF_DENMARK_AMBASSADOR', 'THE_FIRST_PART_OF_KING_HENRY_THE_FOURTH_KING', 'THE_FIRST_PART_OF_KING_HENRY_THE_FOURTH_WEST', 'THE_FIRST_PART_OF_KING_HENRY_THE_FOURTH_FAL', 'THE_FIRST_PART_OF_KING_HENRY_THE_FOURTH_PRINCE', 'THE_FIRST_PART_OF_KING_HENRY_THE_FOURTH_POINS', 'THE_FIRST_PART_OF_KING_HENRY_THE_FOURTH_WOR', 'THE_FIRST_PART_OF_KING_HENRY_THE_FOURTH_NORTH', 'THE_FIRST_PART_OF_KING_HENRY_THE_FOURTH_HOT', 'THE_FIRST_PART_OF_KING_HENRY_THE_FOURTH_BLUNT', 'THE_FIRST_PART_OF_KING_HENRY_THE_FOURTH_OST', 'THE_FIRST_PART_OF_KING_HENRY_THE_FOURTH_GADS', 'THE_FIRST_PART_OF_KING_HENRY_THE_FOURTH_CHAM', 'THE_FIRST_PART_OF_KING_HENRY_THE_FOURTH_PETO', 'THE_FIRST_PART_OF_KING_HENRY_THE_FOURTH_TRAVELLER', 'THE_FIRST_PART_OF_KING_HENRY_THE_FOURTH_LADY', 'THE_FIRST_PART_OF_KING_HENRY_THE_FOURTH_SERV', 'THE_FIRST_PART_OF_KING_HENRY_THE_FOURTH_FRAN', 'THE_FIRST_PART_OF_KING_HENRY_THE_FOURTH_VINT', 'THE_FIRST_PART_OF_KING_HENRY_THE_FOURTH_HOST', 'THE_FIRST_PART_OF_KING_HENRY_THE_FOURTH_BARD', 'THE_FIRST_PART_OF_KING_HENRY_THE_FOURTH_SHER', 'THE_FIRST_PART_OF_KING_HENRY_THE_FOURTH_MORT', 'THE_FIRST_PART_OF_KING_HENRY_THE_FOURTH_GLEND', 'THE_FIRST_PART_OF_KING_HENRY_THE_FOURTH_LADY_P', 'THE_FIRST_PART_OF_KING_HENRY_THE_FOURTH_DOUG', 'THE_FIRST_PART_OF_KING_HENRY_THE_FOURTH_MESS', 'THE_FIRST_PART_OF_KING_HENRY_THE_FOURTH_VER', 'THE_FIRST_PART_OF_KING_HENRY_THE_FOURTH_ARCH', 'THE_FIRST_PART_OF_KING_HENRY_THE_FOURTH_SIR_M', 'THE_FIRST_PART_OF_KING_HENRY_THE_FOURTH_JOHN', 'SECOND_PART_OF_KING_HENRY_IV_RUMOUR', 'SECOND_PART_OF_KING_HENRY_IV_LORD_BARDOLPH', 'SECOND_PART_OF_KING_HENRY_IV_PORTER', 'SECOND_PART_OF_KING_HENRY_IV_NORTHUMBERLAND', 'SECOND_PART_OF_KING_HENRY_IV_TRAVERS', 'SECOND_PART_OF_KING_HENRY_IV_MORTON', 'SECOND_PART_OF_KING_HENRY_IV_FALSTAFF', 'SECOND_PART_OF_KING_HENRY_IV_PAGE', 'SECOND_PART_OF_KING_HENRY_IV_CHIEF_JUSTICE', 'SECOND_PART_OF_KING_HENRY_IV_SERVANT', 'SECOND_PART_OF_KING_HENRY_IV_ARCHBISHOP', 'SECOND_PART_OF_KING_HENRY_IV_MOWBRAY', 'SECOND_PART_OF_KING_HENRY_IV_HASTINGS', 'SECOND_PART_OF_KING_HENRY_IV_HOSTESS', 'SECOND_PART_OF_KING_HENRY_IV_FANG', 'SECOND_PART_OF_KING_HENRY_IV_GOWER', 'SECOND_PART_OF_KING_HENRY_IV_PRINCE', 'SECOND_PART_OF_KING_HENRY_IV_POINS', 'SECOND_PART_OF_KING_HENRY_IV_BARDOLPH', 'SECOND_PART_OF_KING_HENRY_IV_LADY_NORTHUMBERLAND', 'SECOND_PART_OF_KING_HENRY_IV_LADY_PERCY', 'SECOND_PART_OF_KING_HENRY_IV_FRANCIS', 'SECOND_PART_OF_KING_HENRY_IV_SECOND_DRAWER', 'SECOND_PART_OF_KING_HENRY_IV_THIRD_DRAWER', 'SECOND_PART_OF_KING_HENRY_IV_DOLL', 'SECOND_PART_OF_KING_HENRY_IV_PISTOL', 'SECOND_PART_OF_KING_HENRY_IV_PETO', 'SECOND_PART_OF_KING_HENRY_IV_KING', 'SECOND_PART_OF_KING_HENRY_IV_WARWICK', 'SECOND_PART_OF_KING_HENRY_IV_SHALLOW', 'SECOND_PART_OF_KING_HENRY_IV_SILENCE', 'SECOND_PART_OF_KING_HENRY_IV_MOULDY', 'SECOND_PART_OF_KING_HENRY_IV_FEEBLE', 'SECOND_PART_OF_KING_HENRY_IV_BULLCALF', 'SECOND_PART_OF_KING_HENRY_IV_MESSENGER', 'SECOND_PART_OF_KING_HENRY_IV_WESTMORELAND', 'SECOND_PART_OF_KING_HENRY_IV_PRINCE_JOHN', 'SECOND_PART_OF_KING_HENRY_IV_COLVILLE', 'SECOND_PART_OF_KING_HENRY_IV_PRINCE_HUMPHREY', 'SECOND_PART_OF_KING_HENRY_IV_CLARENCE', 'SECOND_PART_OF_KING_HENRY_IV_HARCOURT', 'SECOND_PART_OF_KING_HENRY_IV_DAVY', 'SECOND_PART_OF_KING_HENRY_IV_FIRST_BEADLE', 'SECOND_PART_OF_KING_HENRY_IV_THIRD_GROOM', 'THE_LIFE_OF_KING_HENRY_THE_FIFTH_KING_HENRY', 'THE_LIFE_OF_KING_HENRY_THE_FIFTH_EXETER', 'THE_LIFE_OF_KING_HENRY_THE_FIFTH_WESTMORELAND', 'THE_LIFE_OF_KING_HENRY_THE_FIFTH_CANTERBURY', 'THE_LIFE_OF_KING_HENRY_THE_FIFTH_ELY', 'THE_LIFE_OF_KING_HENRY_THE_FIFTH_AMBASSADOR', 'THE_LIFE_OF_KING_HENRY_THE_FIFTH_CHORUS', 'THE_LIFE_OF_KING_HENRY_THE_FIFTH_BARDOLPH', 'THE_LIFE_OF_KING_HENRY_THE_FIFTH_NYM', 'THE_LIFE_OF_KING_HENRY_THE_FIFTH_PISTOL', 'THE_LIFE_OF_KING_HENRY_THE_FIFTH_HOSTESS', 'THE_LIFE_OF_KING_HENRY_THE_FIFTH_BOY', 'THE_LIFE_OF_KING_HENRY_THE_FIFTH_BEDFORD', 'THE_LIFE_OF_KING_HENRY_THE_FIFTH_SCROOP', 'THE_LIFE_OF_KING_HENRY_THE_FIFTH_CAMBRIDGE', 'THE_LIFE_OF_KING_HENRY_THE_FIFTH_GREY', 'THE_LIFE_OF_KING_HENRY_THE_FIFTH_FRENCH_KING', 'THE_LIFE_OF_KING_HENRY_THE_FIFTH_DAUPHIN', 'THE_LIFE_OF_KING_HENRY_THE_FIFTH_CONSTABLE', 'THE_LIFE_OF_KING_HENRY_THE_FIFTH_MESSENGER', 'THE_LIFE_OF_KING_HENRY_THE_FIFTH_KING', 'THE_LIFE_OF_KING_HENRY_THE_FIFTH_FLUELLEN', 'THE_LIFE_OF_KING_HENRY_THE_FIFTH_GOWER', 'THE_LIFE_OF_KING_HENRY_THE_FIFTH_JAMY', 'THE_LIFE_OF_KING_HENRY_THE_FIFTH_MACMORRIS', 'THE_LIFE_OF_KING_HENRY_THE_FIFTH_GOVERNOR', 'THE_LIFE_OF_KING_HENRY_THE_FIFTH_KATHERINE', 'THE_LIFE_OF_KING_HENRY_THE_FIFTH_ALICE', 'THE_LIFE_OF_KING_HENRY_THE_FIFTH_BRITAINE', 'THE_LIFE_OF_KING_HENRY_THE_FIFTH_MONTJOY', 'THE_LIFE_OF_KING_HENRY_THE_FIFTH_GLOUCESTER', 'THE_LIFE_OF_KING_HENRY_THE_FIFTH_ORLEANS', 'THE_LIFE_OF_KING_HENRY_THE_FIFTH_RAMBURES', 'THE_LIFE_OF_KING_HENRY_THE_FIFTH_ERPINGHAM', 'THE_LIFE_OF_KING_HENRY_THE_FIFTH_BATES', 'THE_LIFE_OF_KING_HENRY_THE_FIFTH_WILLIAMS', 'THE_LIFE_OF_KING_HENRY_THE_FIFTH_GRANDPRE', 'THE_LIFE_OF_KING_HENRY_THE_FIFTH_SALISBURY', 'THE_LIFE_OF_KING_HENRY_THE_FIFTH_FRENCH_SOLDIER', 'THE_LIFE_OF_KING_HENRY_THE_FIFTH_BOURBON', 'THE_LIFE_OF_KING_HENRY_THE_FIFTH_QUEEN_ISABEL', 'THE_LIFE_OF_KING_HENRY_THE_FIFTH_BURGUNDY', 'THE_FIRST_PART_OF_HENRY_THE_SIXTH_BEDFORD', 'THE_FIRST_PART_OF_HENRY_THE_SIXTH_GLOUCESTER', 'THE_FIRST_PART_OF_HENRY_THE_SIXTH_EXETER', 'THE_FIRST_PART_OF_HENRY_THE_SIXTH_WINCHESTER', 'THE_FIRST_PART_OF_HENRY_THE_SIXTH_MESSENGER', 'THE_FIRST_PART_OF_HENRY_THE_SIXTH_SECOND_MESSENGER', 'THE_FIRST_PART_OF_HENRY_THE_SIXTH_THIRD_MESSENGER', 'THE_FIRST_PART_OF_HENRY_THE_SIXTH_CHARLES', 'THE_FIRST_PART_OF_HENRY_THE_SIXTH_ALENCON', 'THE_FIRST_PART_OF_HENRY_THE_SIXTH_REIGNIER', 'THE_FIRST_PART_OF_HENRY_THE_SIXTH_BASTARD', 'THE_FIRST_PART_OF_HENRY_THE_SIXTH_PUCELLE', 'THE_FIRST_PART_OF_HENRY_THE_SIXTH_FIRST_WARDER', 'THE_FIRST_PART_OF_HENRY_THE_SIXTH_SECOND_WARDER', 'THE_FIRST_PART_OF_HENRY_THE_SIXTH_WOODVILLE', 'THE_FIRST_PART_OF_HENRY_THE_SIXTH_MAYOR', 'THE_FIRST_PART_OF_HENRY_THE_SIXTH_OFFICER', 'THE_FIRST_PART_OF_HENRY_THE_SIXTH_BOY', 'THE_FIRST_PART_OF_HENRY_THE_SIXTH_SALISBURY', 'THE_FIRST_PART_OF_HENRY_THE_SIXTH_TALBOT', 'THE_FIRST_PART_OF_HENRY_THE_SIXTH_SERGEANT', 'THE_FIRST_PART_OF_HENRY_THE_SIXTH_FIRST_SENTINEL', 'THE_FIRST_PART_OF_HENRY_THE_SIXTH_BURGUNDY', 'THE_FIRST_PART_OF_HENRY_THE_SIXTH_SOLDIER', 'THE_FIRST_PART_OF_HENRY_THE_SIXTH_CAPTAIN', 'THE_FIRST_PART_OF_HENRY_THE_SIXTH_COUNTESS', 'THE_FIRST_PART_OF_HENRY_THE_SIXTH_PLANTAGENET', 'THE_FIRST_PART_OF_HENRY_THE_SIXTH_SUFFOLK', 'THE_FIRST_PART_OF_HENRY_THE_SIXTH_SOMERSET', 'THE_FIRST_PART_OF_HENRY_THE_SIXTH_WARWICK', 'THE_FIRST_PART_OF_HENRY_THE_SIXTH_VERNON', 'THE_FIRST_PART_OF_HENRY_THE_SIXTH_LAWYER', 'THE_FIRST_PART_OF_HENRY_THE_SIXTH_MORTIMER', 'THE_FIRST_PART_OF_HENRY_THE_SIXTH_FIRST_KEEPER', 'THE_FIRST_PART_OF_HENRY_THE_SIXTH_KING_HENRY', 'THE_FIRST_PART_OF_HENRY_THE_SIXTH_FIRST_SOLDIER', 'THE_FIRST_PART_OF_HENRY_THE_SIXTH_FASTOLFE', 'THE_FIRST_PART_OF_HENRY_THE_SIXTH_BASSET', 'THE_FIRST_PART_OF_HENRY_THE_SIXTH_YORK', 'THE_FIRST_PART_OF_HENRY_THE_SIXTH_GENERAL_OF_THE_FRENCH', 'THE_FIRST_PART_OF_HENRY_THE_SIXTH_LUCY', 'THE_FIRST_PART_OF_HENRY_THE_SIXTH_JOHN', 'THE_FIRST_PART_OF_HENRY_THE_SIXTH_SCOUT', 'THE_FIRST_PART_OF_HENRY_THE_SIXTH_MARGARET', 'THE_FIRST_PART_OF_HENRY_THE_SIXTH_SHEPHERD', 'THE_FIRST_PART_OF_HENRY_THE_SIXTH_CARDINAL', 'THE_SECOND_PART_OF_KING_HENRY_THE_SIXTH_SUFFOLK', 'THE_SECOND_PART_OF_KING_HENRY_THE_SIXTH_KING_HENRY', 'THE_SECOND_PART_OF_KING_HENRY_THE_SIXTH_QUEEN', 'THE_SECOND_PART_OF_KING_HENRY_THE_SIXTH_ALL', 'THE_SECOND_PART_OF_KING_HENRY_THE_SIXTH_GLOUCESTER', 'THE_SECOND_PART_OF_KING_HENRY_THE_SIXTH_CARDINAL', 'THE_SECOND_PART_OF_KING_HENRY_THE_SIXTH_SALISBURY', 'THE_SECOND_PART_OF_KING_HENRY_THE_SIXTH_WARWICK', 'THE_SECOND_PART_OF_KING_HENRY_THE_SIXTH_YORK', 'THE_SECOND_PART_OF_KING_HENRY_THE_SIXTH_BUCKINGHAM', 'THE_SECOND_PART_OF_KING_HENRY_THE_SIXTH_SOMERSET', 'THE_SECOND_PART_OF_KING_HENRY_THE_SIXTH_DUCHESS', 'THE_SECOND_PART_OF_KING_HENRY_THE_SIXTH_MESSENGER', 'THE_SECOND_PART_OF_KING_HENRY_THE_SIXTH_HUME', 'THE_SECOND_PART_OF_KING_HENRY_THE_SIXTH_FIRST_PETITIONER', 'THE_SECOND_PART_OF_KING_HENRY_THE_SIXTH_SECOND_PETITIONER', 'THE_SECOND_PART_OF_KING_HENRY_THE_SIXTH_PETER', 'THE_SECOND_PART_OF_KING_HENRY_THE_SIXTH_HORNER', 'THE_SECOND_PART_OF_KING_HENRY_THE_SIXTH_BOLINGBROKE', 'THE_SECOND_PART_OF_KING_HENRY_THE_SIXTH_SPIRIT', 'THE_SECOND_PART_OF_KING_HENRY_THE_SIXTH_MARGERY_JOURDAIN', 'THE_SECOND_PART_OF_KING_HENRY_THE_SIXTH_TOWNSMAN', 'THE_SECOND_PART_OF_KING_HENRY_THE_SIXTH_SIMPCOX', 'THE_SECOND_PART_OF_KING_HENRY_THE_SIXTH_WIFE', 'THE_SECOND_PART_OF_KING_HENRY_THE_SIXTH_MAYOR', 'THE_SECOND_PART_OF_KING_HENRY_THE_SIXTH_SHERIFF', 'THE_SECOND_PART_OF_KING_HENRY_THE_SIXTH_STANLEY', 'THE_SECOND_PART_OF_KING_HENRY_THE_SIXTH_POST', 'THE_SECOND_PART_OF_KING_HENRY_THE_SIXTH_FIRST_MURDERER', 'THE_SECOND_PART_OF_KING_HENRY_THE_SIXTH_SECOND_MURDERER', 'THE_SECOND_PART_OF_KING_HENRY_THE_SIXTH_KING', 'THE_SECOND_PART_OF_KING_HENRY_THE_SIXTH_VAUX', 'THE_SECOND_PART_OF_KING_HENRY_THE_SIXTH_LIEUTENANT', 'THE_SECOND_PART_OF_KING_HENRY_THE_SIXTH_FIRST_GENTLEMAN', 'THE_SECOND_PART_OF_KING_HENRY_THE_SIXTH_WHITMORE', 'THE_SECOND_PART_OF_KING_HENRY_THE_SIXTH_GEORGE', 'THE_SECOND_PART_OF_KING_HENRY_THE_SIXTH_JOHN', 'THE_SECOND_PART_OF_KING_HENRY_THE_SIXTH_CADE', 'THE_SECOND_PART_OF_KING_HENRY_THE_SIXTH_DICK', 'THE_SECOND_PART_OF_KING_HENRY_THE_SIXTH_SMITH', 'THE_SECOND_PART_OF_KING_HENRY_THE_SIXTH_CLERK', 'THE_SECOND_PART_OF_KING_HENRY_THE_SIXTH_MICHAEL', 'THE_SECOND_PART_OF_KING_HENRY_THE_SIXTH_STAFFORD', 'THE_SECOND_PART_OF_KING_HENRY_THE_SIXTH_WILLIAM_STAFFORD', 'THE_SECOND_PART_OF_KING_HENRY_THE_SIXTH_SAY', 'THE_SECOND_PART_OF_KING_HENRY_THE_SIXTH_SECOND_MESSENGER', 'THE_SECOND_PART_OF_KING_HENRY_THE_SIXTH_SCALES', 'THE_SECOND_PART_OF_KING_HENRY_THE_SIXTH_FIRST_CITIZEN', 'THE_SECOND_PART_OF_KING_HENRY_THE_SIXTH_CLIFFORD', 'THE_SECOND_PART_OF_KING_HENRY_THE_SIXTH_IDEN', 'THE_SECOND_PART_OF_KING_HENRY_THE_SIXTH_RICHARD', 'THE_SECOND_PART_OF_KING_HENRY_THE_SIXTH_YOUNG_CLIFFORD', 'THE_THIRD_PART_OF_KING_HENRY_THE_SIXTH_WARWICK', 'THE_THIRD_PART_OF_KING_HENRY_THE_SIXTH_YORK', 'THE_THIRD_PART_OF_KING_HENRY_THE_SIXTH_EDWARD', 'THE_THIRD_PART_OF_KING_HENRY_THE_SIXTH_MONTAGUE', 'THE_THIRD_PART_OF_KING_HENRY_THE_SIXTH_RICHARD', 'THE_THIRD_PART_OF_KING_HENRY_THE_SIXTH_NORFOLK', 'THE_THIRD_PART_OF_KING_HENRY_THE_SIXTH_KING_HENRY', 'THE_THIRD_PART_OF_KING_HENRY_THE_SIXTH_NORTHUMBERLAND', 'THE_THIRD_PART_OF_KING_HENRY_THE_SIXTH_CLIFFORD', 'THE_THIRD_PART_OF_KING_HENRY_THE_SIXTH_WESTMORELAND', 'THE_THIRD_PART_OF_KING_HENRY_THE_SIXTH_EXETER', 'THE_THIRD_PART_OF_KING_HENRY_THE_SIXTH_QUEEN_MARGARET', 'THE_THIRD_PART_OF_KING_HENRY_THE_SIXTH_PRINCE_OF_WALES', 'THE_THIRD_PART_OF_KING_HENRY_THE_SIXTH_MESSENGER', 'THE_THIRD_PART_OF_KING_HENRY_THE_SIXTH_RUTLAND', 'THE_THIRD_PART_OF_KING_HENRY_THE_SIXTH_TUTOR', 'THE_THIRD_PART_OF_KING_HENRY_THE_SIXTH_GEORGE', 'THE_THIRD_PART_OF_KING_HENRY_THE_SIXTH_SON', 'THE_THIRD_PART_OF_KING_HENRY_THE_SIXTH_FATHER', 'THE_THIRD_PART_OF_KING_HENRY_THE_SIXTH_FIRST_KEEPER', 'THE_THIRD_PART_OF_KING_HENRY_THE_SIXTH_SECOND_KEEPER', 'THE_THIRD_PART_OF_KING_HENRY_THE_SIXTH_KING_EDWARD', 'THE_THIRD_PART_OF_KING_HENRY_THE_SIXTH_GLOUCESTER', 'THE_THIRD_PART_OF_KING_HENRY_THE_SIXTH_CLARENCE', 'THE_THIRD_PART_OF_KING_HENRY_THE_SIXTH_LADY_GREY', 'THE_THIRD_PART_OF_KING_HENRY_THE_SIXTH_LEWIS', 'THE_THIRD_PART_OF_KING_HENRY_THE_SIXTH_OXFORD', 'THE_THIRD_PART_OF_KING_HENRY_THE_SIXTH_BONA', 'THE_THIRD_PART_OF_KING_HENRY_THE_SIXTH_POST', 'THE_THIRD_PART_OF_KING_HENRY_THE_SIXTH_SOMERSET', 'THE_THIRD_PART_OF_KING_HENRY_THE_SIXTH_HASTINGS', 'THE_THIRD_PART_OF_KING_HENRY_THE_SIXTH_QUEEN_ELIZABETH', 'THE_THIRD_PART_OF_KING_HENRY_THE_SIXTH_FIRST_WATCHMAN', 'THE_THIRD_PART_OF_KING_HENRY_THE_SIXTH_SECOND_WATCHMAN', 'THE_THIRD_PART_OF_KING_HENRY_THE_SIXTH_THIRD_WATCHMAN', 'THE_THIRD_PART_OF_KING_HENRY_THE_SIXTH_RIVERS', 'THE_THIRD_PART_OF_KING_HENRY_THE_SIXTH_LIEUTENANT', 'THE_THIRD_PART_OF_KING_HENRY_THE_SIXTH_MAYOR', 'THE_THIRD_PART_OF_KING_HENRY_THE_SIXTH_MONTGOMERY', 'THE_THIRD_PART_OF_KING_HENRY_THE_SIXTH_SOMERVILLE', 'KING_HENRY_THE_EIGHTH_BUCKINGHAM', 'KING_HENRY_THE_EIGHTH_NORFOLK', 'KING_HENRY_THE_EIGHTH_ABERGAVENNY', 'KING_HENRY_THE_EIGHTH_WOLSEY', 'KING_HENRY_THE_EIGHTH_BRANDON', 'KING_HENRY_THE_EIGHTH_SERGEANT', 'KING_HENRY_THE_EIGHTH_KING', 'KING_HENRY_THE_EIGHTH_QUEEN_KATHARINE', 'KING_HENRY_THE_EIGHTH_SURVEYOR', 'KING_HENRY_THE_EIGHTH_CHAMBERLAIN', 'KING_HENRY_THE_EIGHTH_SANDYS', 'KING_HENRY_THE_EIGHTH_LOVELL', 'KING_HENRY_THE_EIGHTH_GUILDFORD', 'KING_HENRY_THE_EIGHTH_ANNE', 'KING_HENRY_THE_EIGHTH_SERVANT', 'KING_HENRY_THE_EIGHTH_FIRST_GENTLEMAN', 'KING_HENRY_THE_EIGHTH_SECOND_GENTLEMAN', 'KING_HENRY_THE_EIGHTH_VAUX', 'KING_HENRY_THE_EIGHTH_SUFFOLK', 'KING_HENRY_THE_EIGHTH_KING_HENRY', 'KING_HENRY_THE_EIGHTH_CAMPEIUS', 'KING_HENRY_THE_EIGHTH_GARDINER', 'KING_HENRY_THE_EIGHTH_OLD_LADY', 'KING_HENRY_THE_EIGHTH_CRIER', 'KING_HENRY_THE_EIGHTH_LINCOLN', 'KING_HENRY_THE_EIGHTH_GENTLEMAN', 'KING_HENRY_THE_EIGHTH_SURREY', 'KING_HENRY_THE_EIGHTH_CROMWELL', 'KING_HENRY_THE_EIGHTH_THIRD_GENTLEMAN', 'KING_HENRY_THE_EIGHTH_GRIFFITH', 'KING_HENRY_THE_EIGHTH_KATHARINE', 'KING_HENRY_THE_EIGHTH_PATIENCE', 'KING_HENRY_THE_EIGHTH_MESSENGER', 'KING_HENRY_THE_EIGHTH_CAPUCIUS', 'KING_HENRY_THE_EIGHTH_DENNY', 'KING_HENRY_THE_EIGHTH_CRANMER', 'KING_HENRY_THE_EIGHTH_KEEPER', 'KING_HENRY_THE_EIGHTH_BUTTS', 'KING_HENRY_THE_EIGHTH_CHANCELLOR', 'KING_HENRY_THE_EIGHTH_PORTER', 'KING_HENRY_THE_EIGHTH_MAN', 'KING_HENRY_THE_EIGHTH_GARTER', 'KING_JOHN_KING_JOHN', 'KING_JOHN_CHATILLON', 'KING_JOHN_ELINOR', 'KING_JOHN_ESSEX', 'KING_JOHN_BASTARD', 'KING_JOHN_ROBERT', 'KING_JOHN_LADY_FAULCONBRIDGE', 'KING_JOHN_KING_PHILIP', 'KING_JOHN_ARTHUR', 'KING_JOHN_AUSTRIA', 'KING_JOHN_CONSTANCE', 'KING_JOHN_BLANCH', 'KING_JOHN_CITIZEN', 'KING_JOHN_FRENCH_HERALD', 'KING_JOHN_ENGLISH_HERALD', 'KING_JOHN_LEWIS', 'KING_JOHN_SALISBURY', 'KING_JOHN_PANDULPH', 'KING_JOHN_HUBERT', 'KING_JOHN_EXECUTIONER', 'KING_JOHN_PEMBROKE', 'KING_JOHN_MESSENGER', 'KING_JOHN_BIGOT', 'KING_JOHN_MELUN', 'KING_JOHN_PRINCE_HENRY', 'THE_TRAGEDY_OF_JULIUS_CAESAR_FLAVIUS', 'THE_TRAGEDY_OF_JULIUS_CAESAR_MARULLUS', 'THE_TRAGEDY_OF_JULIUS_CAESAR_SECOND_COMMONER', 'THE_TRAGEDY_OF_JULIUS_CAESAR_CAESAR', 'THE_TRAGEDY_OF_JULIUS_CAESAR_CASCA', 'THE_TRAGEDY_OF_JULIUS_CAESAR_CALPURNIA', 'THE_TRAGEDY_OF_JULIUS_CAESAR_ANTONY', 'THE_TRAGEDY_OF_JULIUS_CAESAR_SOOTHSAYER', 'THE_TRAGEDY_OF_JULIUS_CAESAR_BRUTUS', 'THE_TRAGEDY_OF_JULIUS_CAESAR_CASSIUS', 'THE_TRAGEDY_OF_JULIUS_CAESAR_CICERO', 'THE_TRAGEDY_OF_JULIUS_CAESAR_CINNA', 'THE_TRAGEDY_OF_JULIUS_CAESAR_LUCIUS', 'THE_TRAGEDY_OF_JULIUS_CAESAR_DECIUS', 'THE_TRAGEDY_OF_JULIUS_CAESAR_METELLUS', 'THE_TRAGEDY_OF_JULIUS_CAESAR_TREBONIUS', 'THE_TRAGEDY_OF_JULIUS_CAESAR_PORTIA', 'THE_TRAGEDY_OF_JULIUS_CAESAR_LIGARIUS', 'THE_TRAGEDY_OF_JULIUS_CAESAR_SERVANT', 'THE_TRAGEDY_OF_JULIUS_CAESAR_ARTEMIDORUS', 'THE_TRAGEDY_OF_JULIUS_CAESAR_POPILIUS', 'THE_TRAGEDY_OF_JULIUS_CAESAR_FIRST_CITIZEN', 'THE_TRAGEDY_OF_JULIUS_CAESAR_SECOND_CITIZEN', 'THE_TRAGEDY_OF_JULIUS_CAESAR_THIRD_CITIZEN', 'THE_TRAGEDY_OF_JULIUS_CAESAR_ALL', 'THE_TRAGEDY_OF_JULIUS_CAESAR_FOURTH_CITIZEN', 'THE_TRAGEDY_OF_JULIUS_CAESAR_OCTAVIUS', 'THE_TRAGEDY_OF_JULIUS_CAESAR_LEPIDUS', 'THE_TRAGEDY_OF_JULIUS_CAESAR_LUCILIUS', 'THE_TRAGEDY_OF_JULIUS_CAESAR_PINDARUS', 'THE_TRAGEDY_OF_JULIUS_CAESAR_FIRST_SOLDIER', 'THE_TRAGEDY_OF_JULIUS_CAESAR_POET', 'THE_TRAGEDY_OF_JULIUS_CAESAR_MESSALA', 'THE_TRAGEDY_OF_JULIUS_CAESAR_TITINIUS', 'THE_TRAGEDY_OF_JULIUS_CAESAR_VARRO', 'THE_TRAGEDY_OF_JULIUS_CAESAR_GHOST', 'THE_TRAGEDY_OF_JULIUS_CAESAR_MESSENGER', 'THE_TRAGEDY_OF_JULIUS_CAESAR_CATO', 'THE_TRAGEDY_OF_JULIUS_CAESAR_CLITUS', 'THE_TRAGEDY_OF_JULIUS_CAESAR_DARDANIUS', 'THE_TRAGEDY_OF_JULIUS_CAESAR_VOLUMNIUS', 'THE_TRAGEDY_OF_JULIUS_CAESAR_STRATO', 'THE_TRAGEDY_OF_KING_LEAR_KENT', 'THE_TRAGEDY_OF_KING_LEAR_GLOU', 'THE_TRAGEDY_OF_KING_LEAR_EDM', 'THE_TRAGEDY_OF_KING_LEAR_LEAR', 'THE_TRAGEDY_OF_KING_LEAR_GON', 'THE_TRAGEDY_OF_KING_LEAR_COR', 'THE_TRAGEDY_OF_KING_LEAR_REG', 'THE_TRAGEDY_OF_KING_LEAR_BUR', 'THE_TRAGEDY_OF_KING_LEAR_FRANCE', 'THE_TRAGEDY_OF_KING_LEAR_EDG', 'THE_TRAGEDY_OF_KING_LEAR_OSW', 'THE_TRAGEDY_OF_KING_LEAR_KNIGHT', 'THE_TRAGEDY_OF_KING_LEAR_FOOL', 'THE_TRAGEDY_OF_KING_LEAR_ALB', 'THE_TRAGEDY_OF_KING_LEAR_GENT', 'THE_TRAGEDY_OF_KING_LEAR_CUR', 'THE_TRAGEDY_OF_KING_LEAR_CORN', 'THE_TRAGEDY_OF_KING_LEAR_OLD_MAN', 'THE_TRAGEDY_OF_KING_LEAR_DOCT', 'THE_TRAGEDY_OF_KING_LEAR_CAPT', 'THE_TRAGEDY_OF_KING_LEAR_HER', \"LOVE'S_LABOUR'S_LOST_KING\", \"LOVE'S_LABOUR'S_LOST_LONGAVILLE\", \"LOVE'S_LABOUR'S_LOST_DUMAIN\", \"LOVE'S_LABOUR'S_LOST_BEROWNE\", \"LOVE'S_LABOUR'S_LOST_DULL\", \"LOVE'S_LABOUR'S_LOST_COSTARD\", \"LOVE'S_LABOUR'S_LOST_ARMADO\", \"LOVE'S_LABOUR'S_LOST_MOTH\", \"LOVE'S_LABOUR'S_LOST_JAQUENETTA\", \"LOVE'S_LABOUR'S_LOST_BOYET\", \"LOVE'S_LABOUR'S_LOST_PRINCESS_OF_FRANCE\", \"LOVE'S_LABOUR'S_LOST_FIRST_LORD\", \"LOVE'S_LABOUR'S_LOST_MARIA\", \"LOVE'S_LABOUR'S_LOST_KATHARINE\", \"LOVE'S_LABOUR'S_LOST_ROSALINE\", \"LOVE'S_LABOUR'S_LOST_FORESTER\", \"LOVE'S_LABOUR'S_LOST_NATHANIEL\", \"LOVE'S_LABOUR'S_LOST_HOLOFERNES\", \"LOVE'S_LABOUR'S_LOST_MARCADE\", 'THE_TRAGEDY_OF_MACBETH_FIRST_WITCH', 'THE_TRAGEDY_OF_MACBETH_SECOND_WITCH', 'THE_TRAGEDY_OF_MACBETH_THIRD_WITCH', 'THE_TRAGEDY_OF_MACBETH_ALL', 'THE_TRAGEDY_OF_MACBETH_DUNCAN', 'THE_TRAGEDY_OF_MACBETH_MALCOLM', 'THE_TRAGEDY_OF_MACBETH_SERGEANT', 'THE_TRAGEDY_OF_MACBETH_LENNOX', 'THE_TRAGEDY_OF_MACBETH_ROSS', 'THE_TRAGEDY_OF_MACBETH_MACBETH', 'THE_TRAGEDY_OF_MACBETH_BANQUO', 'THE_TRAGEDY_OF_MACBETH_ANGUS', 'THE_TRAGEDY_OF_MACBETH_LADY_MACBETH', 'THE_TRAGEDY_OF_MACBETH_MESSENGER', 'THE_TRAGEDY_OF_MACBETH_PORTER', 'THE_TRAGEDY_OF_MACBETH_MACDUFF', 'THE_TRAGEDY_OF_MACBETH_DONALBAIN', 'THE_TRAGEDY_OF_MACBETH_OLD_MAN', 'THE_TRAGEDY_OF_MACBETH_FIRST_MURTHERER', 'THE_TRAGEDY_OF_MACBETH_SECOND_MURTHERER', 'THE_TRAGEDY_OF_MACBETH_SERVANT', 'THE_TRAGEDY_OF_MACBETH_THIRD_MURTHERER', 'THE_TRAGEDY_OF_MACBETH_LORDS', 'THE_TRAGEDY_OF_MACBETH_MURTHERER', 'THE_TRAGEDY_OF_MACBETH_HECATE', 'THE_TRAGEDY_OF_MACBETH_LORD', 'THE_TRAGEDY_OF_MACBETH_FIRST_APPARITION', 'THE_TRAGEDY_OF_MACBETH_SECOND_APPARITION', 'THE_TRAGEDY_OF_MACBETH_THIRD_APPARITION', 'THE_TRAGEDY_OF_MACBETH_LADY_MACDUFF', 'THE_TRAGEDY_OF_MACBETH_SON', 'THE_TRAGEDY_OF_MACBETH_DOCTOR', 'THE_TRAGEDY_OF_MACBETH_GENTLEWOMAN', 'THE_TRAGEDY_OF_MACBETH_MENTEITH', 'THE_TRAGEDY_OF_MACBETH_CAITHNESS', 'THE_TRAGEDY_OF_MACBETH_SEYTON', 'THE_TRAGEDY_OF_MACBETH_SIWARD', 'THE_TRAGEDY_OF_MACBETH_YOUNG_SIWARD', 'MEASURE_FOR_MEASURE_DUKE', 'MEASURE_FOR_MEASURE_ESCALUS', 'MEASURE_FOR_MEASURE_ANGELO', 'MEASURE_FOR_MEASURE_LUCIO', 'MEASURE_FOR_MEASURE_FIRST_GENTLEMAN', 'MEASURE_FOR_MEASURE_SECOND_GENTLEMAN', 'MEASURE_FOR_MEASURE_MRS', 'MEASURE_FOR_MEASURE_POMPEY', 'MEASURE_FOR_MEASURE_CLAUDIO', 'MEASURE_FOR_MEASURE_PROVOST', 'MEASURE_FOR_MEASURE_FRIAR', 'MEASURE_FOR_MEASURE_ISABELLA', 'MEASURE_FOR_MEASURE_FRANCISCA', 'MEASURE_FOR_MEASURE_ELBOW', 'MEASURE_FOR_MEASURE_FROTH', 'MEASURE_FOR_MEASURE_JUSTICE', 'MEASURE_FOR_MEASURE_SERVANT', 'MEASURE_FOR_MEASURE_JULIET', 'MEASURE_FOR_MEASURE_MARIANA', 'MEASURE_FOR_MEASURE_ABHORSON', 'MEASURE_FOR_MEASURE_MESSENGER', 'MEASURE_FOR_MEASURE_BARNARDINE', 'MEASURE_FOR_MEASURE_PETER', 'THE_MERCHANT_OF_VENICE_ANTONIO', 'THE_MERCHANT_OF_VENICE_SALERIO', 'THE_MERCHANT_OF_VENICE_SOLANIO', 'THE_MERCHANT_OF_VENICE_BASSANIO', 'THE_MERCHANT_OF_VENICE_LORENZO', 'THE_MERCHANT_OF_VENICE_GRATIANO', 'THE_MERCHANT_OF_VENICE_PORTIA', 'THE_MERCHANT_OF_VENICE_NERISSA', 'THE_MERCHANT_OF_VENICE_SERVINGMAN', 'THE_MERCHANT_OF_VENICE_SHYLOCK', 'THE_MERCHANT_OF_VENICE_PRINCE_OF_MOROCCO', 'THE_MERCHANT_OF_VENICE_LAUNCELOT', 'THE_MERCHANT_OF_VENICE_GOBBO', 'THE_MERCHANT_OF_VENICE_LEONARDO', 'THE_MERCHANT_OF_VENICE_JESSICA', 'THE_MERCHANT_OF_VENICE_ARRAGON', 'THE_MERCHANT_OF_VENICE_SERVANT', 'THE_MERCHANT_OF_VENICE_TUBAL', 'THE_MERCHANT_OF_VENICE_DUKE_OF_VENICE', 'THE_MERCHANT_OF_VENICE_CLERK', 'THE_MERCHANT_OF_VENICE_STEPHANO', 'THE_MERRY_WIVES_OF_WINDSOR_SHALLOW', 'THE_MERRY_WIVES_OF_WINDSOR_SLENDER', 'THE_MERRY_WIVES_OF_WINDSOR_EVANS', 'THE_MERRY_WIVES_OF_WINDSOR_PAGE', 'THE_MERRY_WIVES_OF_WINDSOR_FALSTAFF', 'THE_MERRY_WIVES_OF_WINDSOR_BARDOLPH', 'THE_MERRY_WIVES_OF_WINDSOR_PISTOL', 'THE_MERRY_WIVES_OF_WINDSOR_NYM', 'THE_MERRY_WIVES_OF_WINDSOR_SIMPLE', 'THE_MERRY_WIVES_OF_WINDSOR_ANNE', 'THE_MERRY_WIVES_OF_WINDSOR_HOST', 'THE_MERRY_WIVES_OF_WINDSOR_QUICKLY', 'THE_MERRY_WIVES_OF_WINDSOR_RUGBY', 'THE_MERRY_WIVES_OF_WINDSOR_CAIUS', 'THE_MERRY_WIVES_OF_WINDSOR_FENTON', 'THE_MERRY_WIVES_OF_WINDSOR_MRS', 'THE_MERRY_WIVES_OF_WINDSOR_FORD', 'THE_MERRY_WIVES_OF_WINDSOR_ROBIN', 'THE_MERRY_WIVES_OF_WINDSOR_WILLIAM', 'THE_MERRY_WIVES_OF_WINDSOR_FIRST_SERVANT', 'THE_MERRY_WIVES_OF_WINDSOR_FAIRY_QUEEN', 'THE_MERRY_WIVES_OF_WINDSOR_PUCK', \"A_MIDSUMMER_NIGHT'S_DREAM_THESEUS\", \"A_MIDSUMMER_NIGHT'S_DREAM_HIPPOLYTA\", \"A_MIDSUMMER_NIGHT'S_DREAM_EGEUS\", \"A_MIDSUMMER_NIGHT'S_DREAM_HERMIA\", \"A_MIDSUMMER_NIGHT'S_DREAM_DEMETRIUS\", \"A_MIDSUMMER_NIGHT'S_DREAM_LYSANDER\", \"A_MIDSUMMER_NIGHT'S_DREAM_HELENA\", \"A_MIDSUMMER_NIGHT'S_DREAM_QUINCE\", \"A_MIDSUMMER_NIGHT'S_DREAM_BOTTOM\", \"A_MIDSUMMER_NIGHT'S_DREAM_FLUTE\", \"A_MIDSUMMER_NIGHT'S_DREAM_STARVELING\", \"A_MIDSUMMER_NIGHT'S_DREAM_SNOUT\", \"A_MIDSUMMER_NIGHT'S_DREAM_SNUG\", \"A_MIDSUMMER_NIGHT'S_DREAM_PUCK\", \"A_MIDSUMMER_NIGHT'S_DREAM_FAIRY\", \"A_MIDSUMMER_NIGHT'S_DREAM_OBERON\", \"A_MIDSUMMER_NIGHT'S_DREAM_TITANIA\", \"A_MIDSUMMER_NIGHT'S_DREAM_FIRST_FAIRY\", \"A_MIDSUMMER_NIGHT'S_DREAM_CHORUS\", \"A_MIDSUMMER_NIGHT'S_DREAM_SECOND_FAIRY\", \"A_MIDSUMMER_NIGHT'S_DREAM_PEASEBLOSSOM\", \"A_MIDSUMMER_NIGHT'S_DREAM_COBWEB\", \"A_MIDSUMMER_NIGHT'S_DREAM_MUSTARDSEED\", \"A_MIDSUMMER_NIGHT'S_DREAM_PHILOSTRATE\", \"A_MIDSUMMER_NIGHT'S_DREAM_PROLOGUE\", \"A_MIDSUMMER_NIGHT'S_DREAM_WALL\", \"A_MIDSUMMER_NIGHT'S_DREAM_PYRAMUS\", \"A_MIDSUMMER_NIGHT'S_DREAM_THISBY\", \"A_MIDSUMMER_NIGHT'S_DREAM_LION\", \"A_MIDSUMMER_NIGHT'S_DREAM_MOONSHINE\", \"A_MIDSUMMER_NIGHT'S_DREAM_MOON\", 'MUCH_ADO_ABOUT_NOTHING_LEON', 'MUCH_ADO_ABOUT_NOTHING_MESS', 'MUCH_ADO_ABOUT_NOTHING_BEAT', 'MUCH_ADO_ABOUT_NOTHING_HERO', 'MUCH_ADO_ABOUT_NOTHING_PEDRO', 'MUCH_ADO_ABOUT_NOTHING_BENE', 'MUCH_ADO_ABOUT_NOTHING_JOHN', 'MUCH_ADO_ABOUT_NOTHING_CLAUD', 'MUCH_ADO_ABOUT_NOTHING_ANT', 'MUCH_ADO_ABOUT_NOTHING_CON', 'MUCH_ADO_ABOUT_NOTHING_BORA', 'MUCH_ADO_ABOUT_NOTHING_BALTH', 'MUCH_ADO_ABOUT_NOTHING_MARG', 'MUCH_ADO_ABOUT_NOTHING_URS', 'MUCH_ADO_ABOUT_NOTHING_DOG', 'MUCH_ADO_ABOUT_NOTHING_VERG', 'MUCH_ADO_ABOUT_NOTHING_FRIAR', 'MUCH_ADO_ABOUT_NOTHING_SEX', 'THE_TRAGEDY_OF_OTHELLO,_MOOR_OF_VENICE_RODERIGO', 'THE_TRAGEDY_OF_OTHELLO,_MOOR_OF_VENICE_IAGO', 'THE_TRAGEDY_OF_OTHELLO,_MOOR_OF_VENICE_BRABANTIO', 'THE_TRAGEDY_OF_OTHELLO,_MOOR_OF_VENICE_OTHELLO', 'THE_TRAGEDY_OF_OTHELLO,_MOOR_OF_VENICE_CASSIO', 'THE_TRAGEDY_OF_OTHELLO,_MOOR_OF_VENICE_FIRST_OFFICER', 'THE_TRAGEDY_OF_OTHELLO,_MOOR_OF_VENICE_DUKE', 'THE_TRAGEDY_OF_OTHELLO,_MOOR_OF_VENICE_FIRST_SENATOR', 'THE_TRAGEDY_OF_OTHELLO,_MOOR_OF_VENICE_SECOND_SENATOR', 'THE_TRAGEDY_OF_OTHELLO,_MOOR_OF_VENICE_SAILOR', 'THE_TRAGEDY_OF_OTHELLO,_MOOR_OF_VENICE_MESSENGER', 'THE_TRAGEDY_OF_OTHELLO,_MOOR_OF_VENICE_ALL', 'THE_TRAGEDY_OF_OTHELLO,_MOOR_OF_VENICE_DESDEMONA', 'THE_TRAGEDY_OF_OTHELLO,_MOOR_OF_VENICE_MONTANO', 'THE_TRAGEDY_OF_OTHELLO,_MOOR_OF_VENICE_FIRST_GENTLEMAN', 'THE_TRAGEDY_OF_OTHELLO,_MOOR_OF_VENICE_SECOND_GENTLEMAN', 'THE_TRAGEDY_OF_OTHELLO,_MOOR_OF_VENICE_THIRD_GENTLEMAN', 'THE_TRAGEDY_OF_OTHELLO,_MOOR_OF_VENICE_EMILIA', 'THE_TRAGEDY_OF_OTHELLO,_MOOR_OF_VENICE_HERALD', 'THE_TRAGEDY_OF_OTHELLO,_MOOR_OF_VENICE_CLOWN', 'THE_TRAGEDY_OF_OTHELLO,_MOOR_OF_VENICE_FIRST_MUSICIAN', 'THE_TRAGEDY_OF_OTHELLO,_MOOR_OF_VENICE_BIANCA', 'THE_TRAGEDY_OF_OTHELLO,_MOOR_OF_VENICE_LODOVICO', 'THE_TRAGEDY_OF_OTHELLO,_MOOR_OF_VENICE_GRATIANO', 'KING_RICHARD_THE_SECOND_KING_RICHARD', 'KING_RICHARD_THE_SECOND_GAUNT', 'KING_RICHARD_THE_SECOND_BOLINGBROKE', 'KING_RICHARD_THE_SECOND_MOWBRAY', 'KING_RICHARD_THE_SECOND_DUCHESS', 'KING_RICHARD_THE_SECOND_MARSHAL', 'KING_RICHARD_THE_SECOND_AUMERLE', 'KING_RICHARD_THE_SECOND_FIRST_HERALD', 'KING_RICHARD_THE_SECOND_SECOND_HERALD', 'KING_RICHARD_THE_SECOND_GREEN', 'KING_RICHARD_THE_SECOND_BUSHY', 'KING_RICHARD_THE_SECOND_YORK', 'KING_RICHARD_THE_SECOND_QUEEN', 'KING_RICHARD_THE_SECOND_NORTHUMBERLAND', 'KING_RICHARD_THE_SECOND_WILLOUGHBY', 'KING_RICHARD_THE_SECOND_ROSS', 'KING_RICHARD_THE_SECOND_SERVINGMAN', 'KING_RICHARD_THE_SECOND_BAGOT', 'KING_RICHARD_THE_SECOND_PERCY', 'KING_RICHARD_THE_SECOND_BERKELEY', 'KING_RICHARD_THE_SECOND_CAPTAIN', 'KING_RICHARD_THE_SECOND_SALISBURY', 'KING_RICHARD_THE_SECOND_CARLISLE', 'KING_RICHARD_THE_SECOND_SCROOP', 'KING_RICHARD_THE_SECOND_LADY', 'KING_RICHARD_THE_SECOND_GARDENER', 'KING_RICHARD_THE_SECOND_SERVANT', 'KING_RICHARD_THE_SECOND_FITZWATER', 'KING_RICHARD_THE_SECOND_ANOTHER_LORD', 'KING_RICHARD_THE_SECOND_SURREY', 'KING_RICHARD_THE_SECOND_ABBOT', 'KING_RICHARD_THE_SECOND_EXTON', 'KING_RICHARD_THE_SECOND_GROOM', 'KING_RICHARD_THE_SECOND_KEEPER', 'KING_RICHARD_III_GLOUCESTER', 'KING_RICHARD_III_CLARENCE', 'KING_RICHARD_III_BRAKENBURY', 'KING_RICHARD_III_HASTINGS', 'KING_RICHARD_III_ANNE', 'KING_RICHARD_III_RIVERS', 'KING_RICHARD_III_GREY', 'KING_RICHARD_III_QUEEN_ELIZABETH', 'KING_RICHARD_III_BUCKINGHAM', 'KING_RICHARD_III_DERBY', 'KING_RICHARD_III_QUEEN_MARGARET', 'KING_RICHARD_III_DORSET', 'KING_RICHARD_III_CATESBY', 'KING_RICHARD_III_FIRST_MURDERER', 'KING_RICHARD_III_KEEPER', 'KING_RICHARD_III_SECOND_MURDERER', 'KING_RICHARD_III_KING_EDWARD', 'KING_RICHARD_III_SON', 'KING_RICHARD_III_DUCHESS', 'KING_RICHARD_III_DAUGHTER', 'KING_RICHARD_III_CHILDREN', 'KING_RICHARD_III_FIRST_CITIZEN', 'KING_RICHARD_III_SECOND_CITIZEN', 'KING_RICHARD_III_THIRD_CITIZEN', 'KING_RICHARD_III_ARCHBISHOP', 'KING_RICHARD_III_YORK', 'KING_RICHARD_III_MESSENGER', 'KING_RICHARD_III_PRINCE', 'KING_RICHARD_III_MAYOR', 'KING_RICHARD_III_CARDINAL', 'KING_RICHARD_III_STANLEY', 'KING_RICHARD_III_PURSUIVANT', 'KING_RICHARD_III_PRIEST', 'KING_RICHARD_III_RATCLIFF', 'KING_RICHARD_III_BISHOP_OF_ELY', 'KING_RICHARD_III_LOVEL', 'KING_RICHARD_III_SCRIVENER', 'KING_RICHARD_III_ALL', 'KING_RICHARD_III_KING_RICHARD', 'KING_RICHARD_III_PAGE', 'KING_RICHARD_III_TYRREL', 'KING_RICHARD_III_SECOND_MESSENGER', 'KING_RICHARD_III_THIRD_MESSENGER', 'KING_RICHARD_III_FOURTH_MESSENGER', 'KING_RICHARD_III_CHRISTOPHER', 'KING_RICHARD_III_RICHMOND', 'KING_RICHARD_III_BLUNT', 'KING_RICHARD_III_NORFOLK', 'KING_RICHARD_III_GHOST', 'KING_RICHARD_III_GHOST_OF_RIVERS', 'KING_RICHARD_III_GHOST_OF_VAUGHAN', 'KING_RICHARD_III_GHOSTS', 'KING_RICHARD_III_LORDS', 'THE_TRAGEDY_OF_ROMEO_AND_JULIET_AN_APOTHECARY', 'THE_TRAGEDY_OF_ROMEO_AND_JULIET_CHOR', 'THE_TRAGEDY_OF_ROMEO_AND_JULIET_SAMP', 'THE_TRAGEDY_OF_ROMEO_AND_JULIET_GREG', 'THE_TRAGEDY_OF_ROMEO_AND_JULIET_ABR', 'THE_TRAGEDY_OF_ROMEO_AND_JULIET_BEN', 'THE_TRAGEDY_OF_ROMEO_AND_JULIET_TYB', 'THE_TRAGEDY_OF_ROMEO_AND_JULIET_CAP', 'THE_TRAGEDY_OF_ROMEO_AND_JULIET_WIFE', 'THE_TRAGEDY_OF_ROMEO_AND_JULIET_MON', 'THE_TRAGEDY_OF_ROMEO_AND_JULIET_M', 'THE_TRAGEDY_OF_ROMEO_AND_JULIET_PRINCE', 'THE_TRAGEDY_OF_ROMEO_AND_JULIET_ROM', 'THE_TRAGEDY_OF_ROMEO_AND_JULIET_PAR', 'THE_TRAGEDY_OF_ROMEO_AND_JULIET_SERV', 'THE_TRAGEDY_OF_ROMEO_AND_JULIET_NURSE', 'THE_TRAGEDY_OF_ROMEO_AND_JULIET_JUL', 'THE_TRAGEDY_OF_ROMEO_AND_JULIET_MER', 'THE_TRAGEDY_OF_ROMEO_AND_JULIET_FRIAR', 'THE_TRAGEDY_OF_ROMEO_AND_JULIET_PETER', 'THE_TRAGEDY_OF_ROMEO_AND_JULIET_CITIZEN', 'THE_TRAGEDY_OF_ROMEO_AND_JULIET_LADY', 'THE_TRAGEDY_OF_ROMEO_AND_JULIET_MOTHER', 'THE_TRAGEDY_OF_ROMEO_AND_JULIET_FELLOW', 'THE_TRAGEDY_OF_ROMEO_AND_JULIET_PET', 'THE_TRAGEDY_OF_ROMEO_AND_JULIET_MAN', 'THE_TRAGEDY_OF_ROMEO_AND_JULIET_APOTH', 'THE_TRAGEDY_OF_ROMEO_AND_JULIET_JOHN', 'THE_TRAGEDY_OF_ROMEO_AND_JULIET_LAUR', 'THE_TRAGEDY_OF_ROMEO_AND_JULIET_PAGE', 'THE_TRAGEDY_OF_ROMEO_AND_JULIET_BAL', 'THE_TRAGEDY_OF_ROMEO_AND_JULIET_CHIEF_WATCH', 'THE_TRAGEDY_OF_ROMEO_AND_JULIET_BOY', 'THE_TAMING_OF_THE_SHREW_SLY', 'THE_TAMING_OF_THE_SHREW_HOSTESS', 'THE_TAMING_OF_THE_SHREW_LORD', 'THE_TAMING_OF_THE_SHREW_FIRST_HUNTSMAN', 'THE_TAMING_OF_THE_SHREW_SECOND_HUNTSMAN', 'THE_TAMING_OF_THE_SHREW_SERVANT', 'THE_TAMING_OF_THE_SHREW_PLAYER', 'THE_TAMING_OF_THE_SHREW_FIRST_SERVANT', 'THE_TAMING_OF_THE_SHREW_SECOND_SERVANT', 'THE_TAMING_OF_THE_SHREW_THIRD_SERVANT', 'THE_TAMING_OF_THE_SHREW_PAGE', 'THE_TAMING_OF_THE_SHREW_MESSENGER', 'THE_TAMING_OF_THE_SHREW_LUCENTIO', 'THE_TAMING_OF_THE_SHREW_TRANIO', 'THE_TAMING_OF_THE_SHREW_BAPTISTA', 'THE_TAMING_OF_THE_SHREW_GREMIO', 'THE_TAMING_OF_THE_SHREW_KATHERINA', 'THE_TAMING_OF_THE_SHREW_HORTENSIO', 'THE_TAMING_OF_THE_SHREW_BIANCA', 'THE_TAMING_OF_THE_SHREW_BIONDELLO', 'THE_TAMING_OF_THE_SHREW_PETRUCHIO', 'THE_TAMING_OF_THE_SHREW_GRUMIO', 'THE_TAMING_OF_THE_SHREW_CURTIS', 'THE_TAMING_OF_THE_SHREW_NATHANIEL', 'THE_TAMING_OF_THE_SHREW_PETER', 'THE_TAMING_OF_THE_SHREW_PEDANT', 'THE_TAMING_OF_THE_SHREW_TAILOR', 'THE_TAMING_OF_THE_SHREW_VINCENTIO', 'THE_TAMING_OF_THE_SHREW_WIDOW', 'THE_TEMPEST_MASTER', 'THE_TEMPEST_BOATSWAIN', 'THE_TEMPEST_ALONSO', 'THE_TEMPEST_ANTONIO', 'THE_TEMPEST_GONZALO', 'THE_TEMPEST_SEBASTIAN', 'THE_TEMPEST_MIRANDA', 'THE_TEMPEST_PROSPERO', 'THE_TEMPEST_ARIEL', 'THE_TEMPEST_CALIBAN', 'THE_TEMPEST_FERDINAND', 'THE_TEMPEST_ADRIAN', 'THE_TEMPEST_FRANCISCO', 'THE_TEMPEST_TRINCULO', 'THE_TEMPEST_STEPHANO', 'THE_TEMPEST_IRIS', 'THE_TEMPEST_CERES', 'THE_TEMPEST_JUNO', 'THE_LIFE_OF_TIMON_OF_ATHENS_POET', 'THE_LIFE_OF_TIMON_OF_ATHENS_PAINTER', 'THE_LIFE_OF_TIMON_OF_ATHENS_MERCHANT', 'THE_LIFE_OF_TIMON_OF_ATHENS_JEWELLER', 'THE_LIFE_OF_TIMON_OF_ATHENS_TIMON', 'THE_LIFE_OF_TIMON_OF_ATHENS_MESSENGER', 'THE_LIFE_OF_TIMON_OF_ATHENS_OLD_ATHENIAN', 'THE_LIFE_OF_TIMON_OF_ATHENS_LUCILIUS', 'THE_LIFE_OF_TIMON_OF_ATHENS_APEMANTUS', 'THE_LIFE_OF_TIMON_OF_ATHENS_ALCIBIADES', 'THE_LIFE_OF_TIMON_OF_ATHENS_FIRST_LORD', 'THE_LIFE_OF_TIMON_OF_ATHENS_SECOND_LORD', 'THE_LIFE_OF_TIMON_OF_ATHENS_VENTIDIUS', 'THE_LIFE_OF_TIMON_OF_ATHENS_THIRD_LORD', 'THE_LIFE_OF_TIMON_OF_ATHENS_SERVANT', 'THE_LIFE_OF_TIMON_OF_ATHENS_CUPID', 'THE_LIFE_OF_TIMON_OF_ATHENS_FLAVIUS', 'THE_LIFE_OF_TIMON_OF_ATHENS_SECOND_SERVANT', 'THE_LIFE_OF_TIMON_OF_ATHENS_THIRD_SERVANT', 'THE_LIFE_OF_TIMON_OF_ATHENS_SENATOR', 'THE_LIFE_OF_TIMON_OF_ATHENS_CAPHIS', 'THE_LIFE_OF_TIMON_OF_ATHENS_ALL_SERVANTS', 'THE_LIFE_OF_TIMON_OF_ATHENS_FOOL', 'THE_LIFE_OF_TIMON_OF_ATHENS_PAGE', 'THE_LIFE_OF_TIMON_OF_ATHENS_FLAMINIUS', 'THE_LIFE_OF_TIMON_OF_ATHENS_LUCULLUS', 'THE_LIFE_OF_TIMON_OF_ATHENS_LUCULLIUS', 'THE_LIFE_OF_TIMON_OF_ATHENS_LUCIUS', 'THE_LIFE_OF_TIMON_OF_ATHENS_FIRST_STRANGER', 'THE_LIFE_OF_TIMON_OF_ATHENS_SECOND_STRANGER', 'THE_LIFE_OF_TIMON_OF_ATHENS_SERVILIUS', 'THE_LIFE_OF_TIMON_OF_ATHENS_SEMPRONIUS', 'THE_LIFE_OF_TIMON_OF_ATHENS_TITUS', 'THE_LIFE_OF_TIMON_OF_ATHENS_HORTENSIUS', 'THE_LIFE_OF_TIMON_OF_ATHENS_PHILOTUS', 'THE_LIFE_OF_TIMON_OF_ATHENS_FIRST_SENATOR', 'THE_LIFE_OF_TIMON_OF_ATHENS_SECOND_SENATOR', 'THE_LIFE_OF_TIMON_OF_ATHENS_THIRD_SENATOR', 'THE_LIFE_OF_TIMON_OF_ATHENS_FOURTH_LORD', 'THE_LIFE_OF_TIMON_OF_ATHENS_FIRST_SERVANT', 'THE_LIFE_OF_TIMON_OF_ATHENS_TIMANDRA', 'THE_LIFE_OF_TIMON_OF_ATHENS_PHRYNIA_AND_TIMANDRA', 'THE_LIFE_OF_TIMON_OF_ATHENS_FIRST_BANDIT', 'THE_LIFE_OF_TIMON_OF_ATHENS_SECOND_BANDIT', 'THE_LIFE_OF_TIMON_OF_ATHENS_THIRD_BANDIT', 'THE_LIFE_OF_TIMON_OF_ATHENS_BANDITTI', 'THE_LIFE_OF_TIMON_OF_ATHENS_BOTH', 'THE_LIFE_OF_TIMON_OF_ATHENS_SOLDIER', 'THE_TRAGEDY_OF_TITUS_ANDRONICUS_SATURNINUS', 'THE_TRAGEDY_OF_TITUS_ANDRONICUS_BASSIANUS', 'THE_TRAGEDY_OF_TITUS_ANDRONICUS_MARCUS', 'THE_TRAGEDY_OF_TITUS_ANDRONICUS_CAPTAIN', 'THE_TRAGEDY_OF_TITUS_ANDRONICUS_TITUS', 'THE_TRAGEDY_OF_TITUS_ANDRONICUS_LUCIUS', 'THE_TRAGEDY_OF_TITUS_ANDRONICUS_TAMORA', 'THE_TRAGEDY_OF_TITUS_ANDRONICUS_CHIRON', 'THE_TRAGEDY_OF_TITUS_ANDRONICUS_DEMETRIUS', 'THE_TRAGEDY_OF_TITUS_ANDRONICUS_LAVINIA', 'THE_TRAGEDY_OF_TITUS_ANDRONICUS_TRIBUNES', 'THE_TRAGEDY_OF_TITUS_ANDRONICUS_MUTIUS', 'THE_TRAGEDY_OF_TITUS_ANDRONICUS_QUINTUS', 'THE_TRAGEDY_OF_TITUS_ANDRONICUS_MARTIUS', 'THE_TRAGEDY_OF_TITUS_ANDRONICUS_ALL', 'THE_TRAGEDY_OF_TITUS_ANDRONICUS_AARON', 'THE_TRAGEDY_OF_TITUS_ANDRONICUS_MESSENGER', 'THE_TRAGEDY_OF_TITUS_ANDRONICUS_BOY', 'THE_TRAGEDY_OF_TITUS_ANDRONICUS_NURSE', 'THE_TRAGEDY_OF_TITUS_ANDRONICUS_PUBLIUS', 'THE_TRAGEDY_OF_TITUS_ANDRONICUS_CLOWN', 'THE_TRAGEDY_OF_TITUS_ANDRONICUS_AEMILIUS', 'THE_TRAGEDY_OF_TITUS_ANDRONICUS_FIRST_GOTH', 'THE_TRAGEDY_OF_TITUS_ANDRONICUS_SECOND_GOTH', 'THE_TRAGEDY_OF_TITUS_ANDRONICUS_GOTH', 'THE_TRAGEDY_OF_TITUS_ANDRONICUS_A_ROMAN', 'THE_HISTORY_OF_TROILUS_AND_CRESSIDA_TROILUS', 'THE_HISTORY_OF_TROILUS_AND_CRESSIDA_PANDARUS', 'THE_HISTORY_OF_TROILUS_AND_CRESSIDA_AENEAS', 'THE_HISTORY_OF_TROILUS_AND_CRESSIDA_CRESSIDA', 'THE_HISTORY_OF_TROILUS_AND_CRESSIDA_ALEXANDER', 'THE_HISTORY_OF_TROILUS_AND_CRESSIDA_BOY', 'THE_HISTORY_OF_TROILUS_AND_CRESSIDA_AGAMEMNON', 'THE_HISTORY_OF_TROILUS_AND_CRESSIDA_NESTOR', 'THE_HISTORY_OF_TROILUS_AND_CRESSIDA_ULYSSES', 'THE_HISTORY_OF_TROILUS_AND_CRESSIDA_MENELAUS', 'THE_HISTORY_OF_TROILUS_AND_CRESSIDA_AJAX', 'THE_HISTORY_OF_TROILUS_AND_CRESSIDA_THERSITES', 'THE_HISTORY_OF_TROILUS_AND_CRESSIDA_ACHILLES', 'THE_HISTORY_OF_TROILUS_AND_CRESSIDA_PATROCLUS', 'THE_HISTORY_OF_TROILUS_AND_CRESSIDA_PRIAM', 'THE_HISTORY_OF_TROILUS_AND_CRESSIDA_HECTOR', 'THE_HISTORY_OF_TROILUS_AND_CRESSIDA_HELENUS', 'THE_HISTORY_OF_TROILUS_AND_CRESSIDA_CASSANDRA', 'THE_HISTORY_OF_TROILUS_AND_CRESSIDA_PARIS', 'THE_HISTORY_OF_TROILUS_AND_CRESSIDA_DIOMEDES', 'THE_HISTORY_OF_TROILUS_AND_CRESSIDA_SERVANT', 'THE_HISTORY_OF_TROILUS_AND_CRESSIDA_HELEN', 'THE_HISTORY_OF_TROILUS_AND_CRESSIDA_CALCHAS', 'THE_HISTORY_OF_TROILUS_AND_CRESSIDA_ALL', 'THE_HISTORY_OF_TROILUS_AND_CRESSIDA_ANDROMACHE', 'THE_HISTORY_OF_TROILUS_AND_CRESSIDA_MARGARELON', 'TWELFTH_NIGHT;_OR,_WHAT_YOU_WILL_DUKE', 'TWELFTH_NIGHT;_OR,_WHAT_YOU_WILL_CURIO', 'TWELFTH_NIGHT;_OR,_WHAT_YOU_WILL_VALENTINE', 'TWELFTH_NIGHT;_OR,_WHAT_YOU_WILL_VIOLA', 'TWELFTH_NIGHT;_OR,_WHAT_YOU_WILL_CAPTAIN', 'TWELFTH_NIGHT;_OR,_WHAT_YOU_WILL_SIR_TOBY', 'TWELFTH_NIGHT;_OR,_WHAT_YOU_WILL_MARIA', 'TWELFTH_NIGHT;_OR,_WHAT_YOU_WILL_AGUECHEEK', 'TWELFTH_NIGHT;_OR,_WHAT_YOU_WILL_CLOWN', 'TWELFTH_NIGHT;_OR,_WHAT_YOU_WILL_OLIVIA', 'TWELFTH_NIGHT;_OR,_WHAT_YOU_WILL_MALVOLIO', 'TWELFTH_NIGHT;_OR,_WHAT_YOU_WILL_ANTONIO', 'TWELFTH_NIGHT;_OR,_WHAT_YOU_WILL_SEBASTIAN', 'TWELFTH_NIGHT;_OR,_WHAT_YOU_WILL_FABIAN', 'TWELFTH_NIGHT;_OR,_WHAT_YOU_WILL_AIARIA', 'TWELFTH_NIGHT;_OR,_WHAT_YOU_WILL_SERVANT', 'TWELFTH_NIGHT;_OR,_WHAT_YOU_WILL_FIRST_OFFICER', 'TWELFTH_NIGHT;_OR,_WHAT_YOU_WILL_SECOND_OFFICER', 'TWELFTH_NIGHT;_OR,_WHAT_YOU_WILL_PRIEST', 'THE_TWO_GENTLEMEN_OF_VERONA_VALENTINE', 'THE_TWO_GENTLEMEN_OF_VERONA_PROTEUS', 'THE_TWO_GENTLEMEN_OF_VERONA_SPEED', 'THE_TWO_GENTLEMEN_OF_VERONA_JULIA', 'THE_TWO_GENTLEMEN_OF_VERONA_LUCETTA', 'THE_TWO_GENTLEMEN_OF_VERONA_ANTONIO', 'THE_TWO_GENTLEMEN_OF_VERONA_PANTHINO', 'THE_TWO_GENTLEMEN_OF_VERONA_SILVIA', 'THE_TWO_GENTLEMEN_OF_VERONA_LAUNCE', 'THE_TWO_GENTLEMEN_OF_VERONA_THURIO', 'THE_TWO_GENTLEMEN_OF_VERONA_DUKE', 'THE_TWO_GENTLEMEN_OF_VERONA_FIRST_OUTLAW', 'THE_TWO_GENTLEMEN_OF_VERONA_SECOND_OUTLAW', 'THE_TWO_GENTLEMEN_OF_VERONA_THIRD_OUTLAW', 'THE_TWO_GENTLEMEN_OF_VERONA_HOST', 'THE_TWO_GENTLEMEN_OF_VERONA_EGLAMOUR', \"THE_WINTER'S_TALE_ARCHIDAMUS\", \"THE_WINTER'S_TALE_CAMILLO\", \"THE_WINTER'S_TALE_POLIXENES\", \"THE_WINTER'S_TALE_LEONTES\", \"THE_WINTER'S_TALE_HERMIONE\", \"THE_WINTER'S_TALE_MAMILLIUS\", \"THE_WINTER'S_TALE_FIRST_LADY\", \"THE_WINTER'S_TALE_SECOND_LADY\", \"THE_WINTER'S_TALE_FIRST_LORD\", \"THE_WINTER'S_TALE_ANTIGONUS\", \"THE_WINTER'S_TALE_PAULINA\", \"THE_WINTER'S_TALE_GAOLER\", \"THE_WINTER'S_TALE_EMILIA\", \"THE_WINTER'S_TALE_FIRST_SERVANT\", \"THE_WINTER'S_TALE_LORDS\", \"THE_WINTER'S_TALE_SERVANT\", \"THE_WINTER'S_TALE_CLEOMENES\", \"THE_WINTER'S_TALE_DION\", \"THE_WINTER'S_TALE_OFFICER\", \"THE_WINTER'S_TALE_MARINER\", \"THE_WINTER'S_TALE_SHEPHERD\", \"THE_WINTER'S_TALE_CLOWN\", \"THE_WINTER'S_TALE_TIME\", \"THE_WINTER'S_TALE_AUTOLYCUS\", \"THE_WINTER'S_TALE_FLORIZEL\", \"THE_WINTER'S_TALE_PERDITA\", \"THE_WINTER'S_TALE_DORCAS\", \"THE_WINTER'S_TALE_MOPSA\", \"THE_WINTER'S_TALE_GENTLEMAN\", \"THE_WINTER'S_TALE_LORD\", \"THE_WINTER'S_TALE_FIRST_GENTLEMAN\", \"THE_WINTER'S_TALE_SECOND_GENTLEMAN\", \"THE_WINTER'S_TALE_THIRD_GENTLEMAN\"])\n"
          ]
        }
      ],
      "source": [
        "from torch.utils.data import random_split\n",
        "\n",
        "train_data, test_data = parse_shakespeare_file(DATA_PATH)\n",
        "\n",
        "print(len(train_data.keys()))\n",
        "\n",
        "print(train_data.keys())\n",
        "\n",
        "print(len(test_data.keys()))\n",
        "\n",
        "print(test_data.keys())\n",
        "\n",
        "train_dataset = ShakespeareDataset(train_data, seq_len=SEQ_LEN, n_vocab=N_VOCAB)\n",
        "test_dataset = ShakespeareDataset(test_data, seq_len=SEQ_LEN, n_vocab=N_VOCAB)\n",
        "\n",
        "\n",
        "# Split the train dataset into train and validation:\n",
        "train_size = int(0.9 * len(train_dataset))  # 90%\n",
        "valid_size = len(train_dataset) - train_size  # 10%\n",
        "#random split:\n",
        "train_dataset, valid_dataset = random_split(train_dataset, [train_size, valid_size])\n",
        "\n",
        "# Creation of the DataLoaders\n",
        "train_loader = DataLoader(train_dataset, batch_size=BATCH_SIZE, shuffle=True)\n",
        "val_loader = DataLoader(valid_dataset, batch_size=BATCH_SIZE, shuffle=False)\n",
        "test_loader = DataLoader(test_dataset, batch_size=BATCH_SIZE, shuffle=False)\n"
      ]
    },
    {
      "cell_type": "code",
      "execution_count": 60,
      "metadata": {},
      "outputs": [
        {
          "name": "stdout",
          "output_type": "stream",
          "text": [
            "Media caratteri per chiave: 3747.63\n"
          ]
        }
      ],
      "source": [
        "from collections import defaultdict\n",
        "somma = 0  # Somma totale dei caratteri\n",
        "cont = 0   # Contatore dei personaggi (o chiavi)\n",
        "\n",
        "# Elaborazione dei dati per `train_data`\n",
        "for chiave, battute in train_data.items():\n",
        "    for battuta in battute:\n",
        "        somma += len(battuta)  # Aggiungi la lunghezza della battuta\n",
        "    cont += 1\n",
        "\n",
        "# Elaborazione dei dati per `test_data`\n",
        "for chiave, battute in test_data.items():\n",
        "    for battuta in battute:\n",
        "        somma += len(battuta)  # Aggiungi la lunghezza della battuta\n",
        "\n",
        "# Calcolo della media\n",
        "media_caratteri = somma / cont if cont > 0 else 0\n",
        "\n",
        "print(f\"Media caratteri per chiave: {media_caratteri:.2f}\")\n",
        "\n"
      ]
    }
  ],
  "metadata": {
    "accelerator": "GPU",
    "colab": {
      "gpuType": "T4",
      "provenance": []
    },
    "kernelspec": {
      "display_name": "Python 3",
      "name": "python3"
    },
    "language_info": {
      "codemirror_mode": {
        "name": "ipython",
        "version": 3
      },
      "file_extension": ".py",
      "mimetype": "text/x-python",
      "name": "python",
      "nbconvert_exporter": "python",
      "pygments_lexer": "ipython3",
      "version": "3.12.6"
    }
  },
  "nbformat": 4,
  "nbformat_minor": 0
}
